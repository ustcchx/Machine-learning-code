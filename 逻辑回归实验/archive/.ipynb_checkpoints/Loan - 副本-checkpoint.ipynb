{
 "cells": [
  {
   "cell_type": "code",
   "execution_count": 24,
   "metadata": {},
   "outputs": [
    {
     "name": "stdout",
     "output_type": "stream",
     "text": [
      "The autoreload extension is already loaded. To reload it, use:\n",
      "  %reload_ext autoreload\n"
     ]
    }
   ],
   "source": [
    "# Run some setup code for this notebook.\n",
    "\n",
    "import matplotlib.pyplot as plt\n",
    "\n",
    "\n",
    "# This is a bit of magic to make matplotlib figures appear inline in the notebook\n",
    "# rather than in a new window.\n",
    "%matplotlib inline\n",
    "plt.rcParams['figure.figsize'] = (10.0, 8.0) # set default size of plots\n",
    "plt.rcParams['image.interpolation'] = 'nearest'\n",
    "plt.rcParams['image.cmap'] = 'gray'\n",
    "\n",
    "# Some more magic so that the notebook will reload external python modules;\n",
    "# see http://stackoverflow.com/questions/1907993/autoreload-of-modules-in-ipython\n",
    "%load_ext autoreload\n",
    "%autoreload 2"
   ]
  },
  {
   "cell_type": "markdown",
   "metadata": {},
   "source": [
    "## general description of this dataset"
   ]
  },
  {
   "cell_type": "markdown",
   "metadata": {},
   "source": [
    "|Field    |description                      |   \n",
    "|:----------|:----------                     |   \n",
    "|Loan_ID   |ID of the Loan |\n",
    "|Gender |Female or Male|\n",
    "|Dependents\t|the number of relatives|\n",
    "|Education\t|received education or not|\n",
    "|Self_Employed\t|be employed or not|\n",
    "|ApplicantIncome\t|the income of the applicant|\n",
    "|CoapplicantIncome\t|the income of co-applicant|\n",
    "|LoanAmount|the amount of the loan|\n",
    "|Loan_Amount_Term|loan amount item|\n",
    "|Credit_History\t|have a good credit or not|\n",
    "|Property_Area|Urban or Rural or Semiurban|\n",
    "|Loan_Status|have a loan or not|"
   ]
  },
  {
   "cell_type": "markdown",
   "metadata": {},
   "source": [
    "## Load Dataset"
   ]
  },
  {
   "cell_type": "code",
   "execution_count": 25,
   "metadata": {},
   "outputs": [],
   "source": [
    "import random"
   ]
  },
  {
   "cell_type": "code",
   "execution_count": 26,
   "metadata": {},
   "outputs": [
    {
     "data": {
      "text/html": [
       "<div>\n",
       "<style scoped>\n",
       "    .dataframe tbody tr th:only-of-type {\n",
       "        vertical-align: middle;\n",
       "    }\n",
       "\n",
       "    .dataframe tbody tr th {\n",
       "        vertical-align: top;\n",
       "    }\n",
       "\n",
       "    .dataframe thead th {\n",
       "        text-align: right;\n",
       "    }\n",
       "</style>\n",
       "<table border=\"1\" class=\"dataframe\">\n",
       "  <thead>\n",
       "    <tr style=\"text-align: right;\">\n",
       "      <th></th>\n",
       "      <th>Loan_ID</th>\n",
       "      <th>Gender</th>\n",
       "      <th>Married</th>\n",
       "      <th>Dependents</th>\n",
       "      <th>Education</th>\n",
       "      <th>Self_Employed</th>\n",
       "      <th>ApplicantIncome</th>\n",
       "      <th>CoapplicantIncome</th>\n",
       "      <th>LoanAmount</th>\n",
       "      <th>Loan_Amount_Term</th>\n",
       "      <th>Credit_History</th>\n",
       "      <th>Property_Area</th>\n",
       "      <th>Loan_Status</th>\n",
       "    </tr>\n",
       "  </thead>\n",
       "  <tbody>\n",
       "    <tr>\n",
       "      <th>0</th>\n",
       "      <td>LP001002</td>\n",
       "      <td>Male</td>\n",
       "      <td>No</td>\n",
       "      <td>0</td>\n",
       "      <td>Graduate</td>\n",
       "      <td>No</td>\n",
       "      <td>5849</td>\n",
       "      <td>0.0</td>\n",
       "      <td>NaN</td>\n",
       "      <td>360.0</td>\n",
       "      <td>1.0</td>\n",
       "      <td>Urban</td>\n",
       "      <td>Y</td>\n",
       "    </tr>\n",
       "    <tr>\n",
       "      <th>1</th>\n",
       "      <td>LP001003</td>\n",
       "      <td>Male</td>\n",
       "      <td>Yes</td>\n",
       "      <td>1</td>\n",
       "      <td>Graduate</td>\n",
       "      <td>No</td>\n",
       "      <td>4583</td>\n",
       "      <td>1508.0</td>\n",
       "      <td>128.0</td>\n",
       "      <td>360.0</td>\n",
       "      <td>1.0</td>\n",
       "      <td>Rural</td>\n",
       "      <td>N</td>\n",
       "    </tr>\n",
       "    <tr>\n",
       "      <th>2</th>\n",
       "      <td>LP001005</td>\n",
       "      <td>Male</td>\n",
       "      <td>Yes</td>\n",
       "      <td>0</td>\n",
       "      <td>Graduate</td>\n",
       "      <td>Yes</td>\n",
       "      <td>3000</td>\n",
       "      <td>0.0</td>\n",
       "      <td>66.0</td>\n",
       "      <td>360.0</td>\n",
       "      <td>1.0</td>\n",
       "      <td>Urban</td>\n",
       "      <td>Y</td>\n",
       "    </tr>\n",
       "    <tr>\n",
       "      <th>3</th>\n",
       "      <td>LP001006</td>\n",
       "      <td>Male</td>\n",
       "      <td>Yes</td>\n",
       "      <td>0</td>\n",
       "      <td>Not Graduate</td>\n",
       "      <td>No</td>\n",
       "      <td>2583</td>\n",
       "      <td>2358.0</td>\n",
       "      <td>120.0</td>\n",
       "      <td>360.0</td>\n",
       "      <td>1.0</td>\n",
       "      <td>Urban</td>\n",
       "      <td>Y</td>\n",
       "    </tr>\n",
       "    <tr>\n",
       "      <th>4</th>\n",
       "      <td>LP001008</td>\n",
       "      <td>Male</td>\n",
       "      <td>No</td>\n",
       "      <td>0</td>\n",
       "      <td>Graduate</td>\n",
       "      <td>No</td>\n",
       "      <td>6000</td>\n",
       "      <td>0.0</td>\n",
       "      <td>141.0</td>\n",
       "      <td>360.0</td>\n",
       "      <td>1.0</td>\n",
       "      <td>Urban</td>\n",
       "      <td>Y</td>\n",
       "    </tr>\n",
       "  </tbody>\n",
       "</table>\n",
       "</div>"
      ],
      "text/plain": [
       "    Loan_ID Gender Married Dependents     Education Self_Employed   \n",
       "0  LP001002   Male      No          0      Graduate            No  \\\n",
       "1  LP001003   Male     Yes          1      Graduate            No   \n",
       "2  LP001005   Male     Yes          0      Graduate           Yes   \n",
       "3  LP001006   Male     Yes          0  Not Graduate            No   \n",
       "4  LP001008   Male      No          0      Graduate            No   \n",
       "\n",
       "   ApplicantIncome  CoapplicantIncome  LoanAmount  Loan_Amount_Term   \n",
       "0             5849                0.0         NaN             360.0  \\\n",
       "1             4583             1508.0       128.0             360.0   \n",
       "2             3000                0.0        66.0             360.0   \n",
       "3             2583             2358.0       120.0             360.0   \n",
       "4             6000                0.0       141.0             360.0   \n",
       "\n",
       "   Credit_History Property_Area Loan_Status  \n",
       "0             1.0         Urban           Y  \n",
       "1             1.0         Rural           N  \n",
       "2             1.0         Urban           Y  \n",
       "3             1.0         Urban           Y  \n",
       "4             1.0         Urban           Y  "
      ]
     },
     "execution_count": 26,
     "metadata": {},
     "output_type": "execute_result"
    }
   ],
   "source": [
    "import pandas as pd\n",
    "df = pd.read_csv('loan.csv')\n",
    "df.head()"
   ]
  },
  {
   "cell_type": "markdown",
   "metadata": {},
   "source": [
    "## Dataset Info"
   ]
  },
  {
   "cell_type": "code",
   "execution_count": 27,
   "metadata": {},
   "outputs": [
    {
     "name": "stdout",
     "output_type": "stream",
     "text": [
      "<class 'pandas.core.frame.DataFrame'>\n",
      "RangeIndex: 614 entries, 0 to 613\n",
      "Data columns (total 13 columns):\n",
      " #   Column             Non-Null Count  Dtype  \n",
      "---  ------             --------------  -----  \n",
      " 0   Loan_ID            614 non-null    object \n",
      " 1   Gender             601 non-null    object \n",
      " 2   Married            611 non-null    object \n",
      " 3   Dependents         599 non-null    object \n",
      " 4   Education          614 non-null    object \n",
      " 5   Self_Employed      582 non-null    object \n",
      " 6   ApplicantIncome    614 non-null    int64  \n",
      " 7   CoapplicantIncome  614 non-null    float64\n",
      " 8   LoanAmount         592 non-null    float64\n",
      " 9   Loan_Amount_Term   600 non-null    float64\n",
      " 10  Credit_History     564 non-null    float64\n",
      " 11  Property_Area      614 non-null    object \n",
      " 12  Loan_Status        614 non-null    object \n",
      "dtypes: float64(4), int64(1), object(8)\n",
      "memory usage: 62.5+ KB\n"
     ]
    }
   ],
   "source": [
    "df.info()"
   ]
  },
  {
   "cell_type": "code",
   "execution_count": 28,
   "metadata": {},
   "outputs": [
    {
     "name": "stdout",
     "output_type": "stream",
     "text": [
      "the number of records:\n"
     ]
    },
    {
     "data": {
      "text/plain": [
       "614"
      ]
     },
     "execution_count": 28,
     "metadata": {},
     "output_type": "execute_result"
    }
   ],
   "source": [
    "print('the number of records:')\n",
    "df['Loan_ID'].count()"
   ]
  },
  {
   "cell_type": "markdown",
   "metadata": {},
   "source": [
    "## Data Cleaning"
   ]
  },
  {
   "cell_type": "code",
   "execution_count": 29,
   "metadata": {},
   "outputs": [
    {
     "name": "stdout",
     "output_type": "stream",
     "text": [
      "Part of missing values for every column\n",
      "Gender               0.021173\n",
      "Married              0.004886\n",
      "Dependents           0.024430\n",
      "Education            0.000000\n",
      "Self_Employed        0.052117\n",
      "ApplicantIncome      0.000000\n",
      "CoapplicantIncome    0.000000\n",
      "LoanAmount           0.035831\n",
      "Loan_Amount_Term     0.022801\n",
      "Credit_History       0.081433\n",
      "Property_Area        0.000000\n",
      "Loan_Status          0.000000\n",
      "dtype: float64\n"
     ]
    }
   ],
   "source": [
    "df.drop(\"Loan_ID\", axis=1, inplace=True)\n",
    "# Checking the Missing Values\n",
    "print('Part of missing values for every column')\n",
    "print(df.isnull().sum() / len(df))"
   ]
  },
  {
   "cell_type": "code",
   "execution_count": 30,
   "metadata": {},
   "outputs": [],
   "source": [
    "##the porpotion of NAN is extremely small ,we choose to drop all of data that includes NAN\n",
    "df=df.dropna()\n",
    "## reset index\n",
    "df.index=range(480)"
   ]
  },
  {
   "cell_type": "markdown",
   "metadata": {},
   "source": [
    "## Encode "
   ]
  },
  {
   "cell_type": "code",
   "execution_count": 31,
   "metadata": {},
   "outputs": [
    {
     "data": {
      "text/html": [
       "<div>\n",
       "<style scoped>\n",
       "    .dataframe tbody tr th:only-of-type {\n",
       "        vertical-align: middle;\n",
       "    }\n",
       "\n",
       "    .dataframe tbody tr th {\n",
       "        vertical-align: top;\n",
       "    }\n",
       "\n",
       "    .dataframe thead th {\n",
       "        text-align: right;\n",
       "    }\n",
       "</style>\n",
       "<table border=\"1\" class=\"dataframe\">\n",
       "  <thead>\n",
       "    <tr style=\"text-align: right;\">\n",
       "      <th></th>\n",
       "      <th>Gender</th>\n",
       "      <th>Married</th>\n",
       "      <th>Dependents</th>\n",
       "      <th>Education</th>\n",
       "      <th>Self_Employed</th>\n",
       "      <th>ApplicantIncome</th>\n",
       "      <th>CoapplicantIncome</th>\n",
       "      <th>LoanAmount</th>\n",
       "      <th>Loan_Amount_Term</th>\n",
       "      <th>Credit_History</th>\n",
       "      <th>Property_Area</th>\n",
       "      <th>Loan_Status</th>\n",
       "    </tr>\n",
       "  </thead>\n",
       "  <tbody>\n",
       "    <tr>\n",
       "      <th>0</th>\n",
       "      <td>Male</td>\n",
       "      <td>Yes</td>\n",
       "      <td>1</td>\n",
       "      <td>Graduate</td>\n",
       "      <td>No</td>\n",
       "      <td>4583</td>\n",
       "      <td>1508.0</td>\n",
       "      <td>128.0</td>\n",
       "      <td>360.0</td>\n",
       "      <td>1.0</td>\n",
       "      <td>Rural</td>\n",
       "      <td>N</td>\n",
       "    </tr>\n",
       "    <tr>\n",
       "      <th>1</th>\n",
       "      <td>Male</td>\n",
       "      <td>Yes</td>\n",
       "      <td>0</td>\n",
       "      <td>Graduate</td>\n",
       "      <td>Yes</td>\n",
       "      <td>3000</td>\n",
       "      <td>0.0</td>\n",
       "      <td>66.0</td>\n",
       "      <td>360.0</td>\n",
       "      <td>1.0</td>\n",
       "      <td>Urban</td>\n",
       "      <td>Y</td>\n",
       "    </tr>\n",
       "    <tr>\n",
       "      <th>2</th>\n",
       "      <td>Male</td>\n",
       "      <td>Yes</td>\n",
       "      <td>0</td>\n",
       "      <td>Not Graduate</td>\n",
       "      <td>No</td>\n",
       "      <td>2583</td>\n",
       "      <td>2358.0</td>\n",
       "      <td>120.0</td>\n",
       "      <td>360.0</td>\n",
       "      <td>1.0</td>\n",
       "      <td>Urban</td>\n",
       "      <td>Y</td>\n",
       "    </tr>\n",
       "    <tr>\n",
       "      <th>3</th>\n",
       "      <td>Male</td>\n",
       "      <td>No</td>\n",
       "      <td>0</td>\n",
       "      <td>Graduate</td>\n",
       "      <td>No</td>\n",
       "      <td>6000</td>\n",
       "      <td>0.0</td>\n",
       "      <td>141.0</td>\n",
       "      <td>360.0</td>\n",
       "      <td>1.0</td>\n",
       "      <td>Urban</td>\n",
       "      <td>Y</td>\n",
       "    </tr>\n",
       "    <tr>\n",
       "      <th>4</th>\n",
       "      <td>Male</td>\n",
       "      <td>Yes</td>\n",
       "      <td>2</td>\n",
       "      <td>Graduate</td>\n",
       "      <td>Yes</td>\n",
       "      <td>5417</td>\n",
       "      <td>4196.0</td>\n",
       "      <td>267.0</td>\n",
       "      <td>360.0</td>\n",
       "      <td>1.0</td>\n",
       "      <td>Urban</td>\n",
       "      <td>Y</td>\n",
       "    </tr>\n",
       "  </tbody>\n",
       "</table>\n",
       "</div>"
      ],
      "text/plain": [
       "  Gender Married Dependents     Education Self_Employed  ApplicantIncome   \n",
       "0   Male     Yes          1      Graduate            No             4583  \\\n",
       "1   Male     Yes          0      Graduate           Yes             3000   \n",
       "2   Male     Yes          0  Not Graduate            No             2583   \n",
       "3   Male      No          0      Graduate            No             6000   \n",
       "4   Male     Yes          2      Graduate           Yes             5417   \n",
       "\n",
       "   CoapplicantIncome  LoanAmount  Loan_Amount_Term  Credit_History   \n",
       "0             1508.0       128.0             360.0             1.0  \\\n",
       "1                0.0        66.0             360.0             1.0   \n",
       "2             2358.0       120.0             360.0             1.0   \n",
       "3                0.0       141.0             360.0             1.0   \n",
       "4             4196.0       267.0             360.0             1.0   \n",
       "\n",
       "  Property_Area Loan_Status  \n",
       "0         Rural           N  \n",
       "1         Urban           Y  \n",
       "2         Urban           Y  \n",
       "3         Urban           Y  \n",
       "4         Urban           Y  "
      ]
     },
     "execution_count": 31,
     "metadata": {},
     "output_type": "execute_result"
    }
   ],
   "source": [
    "df.head()"
   ]
  },
  {
   "cell_type": "code",
   "execution_count": 32,
   "metadata": {},
   "outputs": [],
   "source": [
    "map_Married_Self_Employed={\n",
    "    'Yes': 1,\n",
    "    'No' : 0 \n",
    "}\n",
    "map_Gender={\n",
    "    'Male': 0,\n",
    "    'Female': 1\n",
    "}\n",
    "map_Education={\n",
    "    'Graduate': 1,\n",
    "    'Not Graduate': 0\n",
    "}\n",
    "map_Property_Area={\n",
    "    'Rural': -1,\n",
    "    'Semiurban': 0,\n",
    "    'Urban': 1\n",
    "}\n",
    "map_Loan_Status={\n",
    "    'Y': 1,\n",
    "    'N': 0\n",
    "}\n",
    "map_Dependents={\n",
    "    '0': 0,\n",
    "    '1': 1,\n",
    "    '2': 2,\n",
    "    '3+': 4,\n",
    "}##3+ can change to other values\n",
    "df['Married']=df['Married'].map(map_Married_Self_Employed)\n",
    "df['Self_Employed']=df['Self_Employed'].map(map_Married_Self_Employed)\n",
    "df['Education']=df['Education'].map(map_Education)\n",
    "df['Property_Area']=df['Property_Area'].map(map_Property_Area)\n",
    "df['Loan_Status']=df['Loan_Status'].map(map_Loan_Status)\n",
    "df['Dependents']=df['Dependents'].map(map_Dependents)\n",
    "df['Gender']=df['Gender'].map(map_Gender)"
   ]
  },
  {
   "cell_type": "code",
   "execution_count": 33,
   "metadata": {
    "scrolled": true
   },
   "outputs": [],
   "source": [
    "#normalize\n",
    "import numpy as np\n",
    "def z_score_normalize(data):    \n",
    "    mean = np.mean(data, axis=0)    \n",
    "    std_dev = np.std(data, axis=0)    \n",
    "    normalized_data = (data - mean) / std_dev    \n",
    "    return normalized_data"
   ]
  },
  {
   "cell_type": "code",
   "execution_count": 34,
   "metadata": {},
   "outputs": [],
   "source": [
    "df.iloc[:,:-1]=z_score_normalize(df.iloc[:,:-1]) #数据z_score normalize"
   ]
  },
  {
   "cell_type": "markdown",
   "metadata": {},
   "source": [
    "## Data process"
   ]
  },
  {
   "cell_type": "code",
   "execution_count": 35,
   "metadata": {},
   "outputs": [
    {
     "name": "stdout",
     "output_type": "stream",
     "text": [
      "332 148\n"
     ]
    }
   ],
   "source": [
    "print(len(df[df['Loan_Status']==1]),len(df[df['Loan_Status']==0])) #正负样本个数"
   ]
  },
  {
   "cell_type": "code",
   "execution_count": 36,
   "metadata": {},
   "outputs": [],
   "source": [
    "df_Y=df[df['Loan_Status']==1].copy(deep=True)\n",
    "df_N=df[df['Loan_Status']==0].copy(deep=True)"
   ]
  },
  {
   "cell_type": "code",
   "execution_count": 37,
   "metadata": {},
   "outputs": [],
   "source": [
    "df_Y.index=range(len(df_Y))\n",
    "df_N.index=range(len(df_N))"
   ]
  },
  {
   "cell_type": "code",
   "execution_count": 38,
   "metadata": {},
   "outputs": [],
   "source": [
    "random.seed(168)\n",
    "def split_dataset(df,k=4):\n",
    "    train_size = int(len(df)/k)\n",
    "    U_list=list(range(len(df)))\n",
    "    k_list=[]\n",
    "    for i in range(k) :\n",
    "        random_list=random.sample(U_list,train_size)\n",
    "        temp=df.iloc[random_list].copy(deep=True)\n",
    "        k_list.append(temp)\n",
    "        for j in range(len(random_list)) :\n",
    "            U_list.remove(random_list[j])\n",
    "    return k_list"
   ]
  },
  {
   "cell_type": "code",
   "execution_count": 39,
   "metadata": {},
   "outputs": [],
   "source": [
    "list_Y=split_dataset(df_Y)\n",
    "list_N=split_dataset(df_N)\n",
    "df_i=[]\n",
    "for i in range(4) :\n",
    "    df_i.append(pd.concat([list_Y[i],list_N[i]]))"
   ]
  },
  {
   "cell_type": "markdown",
   "metadata": {},
   "source": [
    "## Train"
   ]
  },
  {
   "cell_type": "code",
   "execution_count": 40,
   "metadata": {},
   "outputs": [],
   "source": [
    "from Logistic import LogisticRegression\n",
    "import matplotlib.pyplot as plt\n",
    "def func(str_L,lr,gamma,tol,show=0) :\n",
    "    ave_acc,ave_f1_score,ave_P_score,ave_R_score=0,0,0,0\n",
    "    for i in range(4) :\n",
    "        temp=df_i[:]\n",
    "        del(temp[i])\n",
    "        train_df=pd.concat(temp)\n",
    "        train_df.index=range(len(train_df.index))\n",
    "        test_df=df_i[i]\n",
    "        test_df.index=range(len(test_df.index))\n",
    "#     log=LogisticRegression(train_df,test_df,'l2',gamma=30)##0--70\n",
    "        log=LogisticRegression(train_df,test_df,str_L,gamma=gamma)\n",
    "        plot_list=log.fit(lr=lr,tol=tol) \n",
    "        if show :\n",
    "            plt.plot(range(len(plot_list)),plot_list)\n",
    "        log.predict()\n",
    "        ave_acc+=log.get_accurate()\n",
    "        ave_P_score+=log.get_P_score()\n",
    "        ave_R_score+=log.get_R_score()\n",
    "        ave_f1_score+=log.f1_score()\n",
    "        print(i,'beta: ',log.beta)\n",
    "    print('average_accuracy:',ave_acc/4,' average_P_score:',ave_P_score/4)\n",
    "    print('average_R_score:',ave_R_score/4,'average_f1_score:',ave_f1_score/4)\n",
    "    if show :\n",
    "        plt.show()"
   ]
  },
  {
   "cell_type": "code",
   "execution_count": 41,
   "metadata": {},
   "outputs": [
    {
     "name": "stdout",
     "output_type": "stream",
     "text": [
      "0 beta:  [-0.06151737  0.14498713  0.04962618  0.08389893 -0.0627094  -0.03986913\n",
      " -0.08440094 -0.08785099 -0.11378094  0.71828381  0.01133327  0.84985688]\n",
      "1 beta:  [-0.05495528  0.18210042  0.05911141  0.11816193 -0.03588002 -0.0719369\n",
      " -0.07916218 -0.0591316   0.06116164  0.71367642  0.05986601  0.84660031]\n",
      "2 beta:  [-0.06238368  0.14618452  0.02346544  0.07808828 -0.02688878 -0.02210366\n",
      " -0.06657584 -0.11797771  0.03420947  0.66963376  0.0452406   0.8802943 ]\n",
      "3 beta:  [-0.09128159  0.12716143  0.01054994  0.10345386 -0.00142744  0.04086013\n",
      " -0.0911963  -0.14784136 -0.05156523  0.7757056   0.02762355  0.88906964]\n",
      "average_accuracy: 0.8083333333333332  average_P_score: 0.7930722181434399\n",
      "average_R_score: 0.9789156626506025 average_f1_score: 0.8760997634079476\n"
     ]
    },
    {
     "data": {
      "image/png": "[encoded data removed]",
      "text/plain": [
       "<Figure size 720x576 with 1 Axes>"
      ]
     },
     "metadata": {
      "needs_background": "light"
     },
     "output_type": "display_data"
    }
   ],
   "source": [
    "func('l2',0.002,30,tol=1e-5,show=1)"
   ]
  },
  {
   "cell_type": "markdown",
   "metadata": {},
   "source": [
    "## Test"
   ]
  },
  {
   "cell_type": "markdown",
   "metadata": {},
   "source": [
    "#### L1正则化"
   ]
  },
  {
   "cell_type": "code",
   "execution_count": null,
   "metadata": {},
   "outputs": [
    {
     "name": "stdout",
     "output_type": "stream",
     "text": [
      "13691.437552020356 #\n",
      "3745.4138089248945 #\n",
      "1875.0485394417988 #\n",
      "926.5404307609023 #\n",
      "447.29749120957126 #\n",
      "225.11183599806375 #\n",
      "112.80602296632628 #\n",
      "55.22255803746409 #\n",
      "29.2060290827556 #\n",
      "14.459559444960178 #\n",
      "8.102473148483385 #\n",
      "4.371882631812309 #\n",
      "2.147613659923818 #\n",
      "2.722931195297654 #\n",
      "1.2311859802654688 #\n",
      "0.6005872502304543 #\n",
      "2.206477002790456 #\n",
      "0.8084200326849325 #\n",
      "0.3927179186815217 #\n",
      "2.1886205295505214 #\n",
      "0.741380066097081 #\n",
      "0.35972665423950523 #\n",
      "2.201389106028225 #\n",
      "0.7275885993450264 #\n",
      "0.3529264093856065 #\n",
      "2.2080067709132467 #\n",
      "0.7239384929555426 #\n",
      "0.3511238149670877 #\n",
      "2.2105436278353796 #\n",
      "0.7228122700712823 #\n",
      "0.3505672112648611 #\n",
      "2.211446387048249 #\n",
      "0.7224402908011506 #\n",
      "0.3503833217219307 #\n",
      "2.2117602819053426 #\n",
      "0.7223142203137819 #\n",
      "0.3503209943561997 #\n",
      "2.2118685886059617 #\n",
      "0.7222710998729651 #\n",
      "0.3502996765358666 #\n",
      "2.211905861542405 #\n",
      "0.7222563043601286 #\n",
      "0.35029236224027477 #\n",
      "2.2119186773070414 #\n",
      "0.7222512221886686 #\n",
      "0.3502898499441812 #\n",
      "2.211923082470694 #\n",
      "0.7222494758454728 #\n",
      "0.35028898670950703 #\n",
      "2.2119245964954684 #\n",
      "0.7222488756896456 #\n",
      "0.35028869006199487 #\n",
      "2.211925116835298 #\n",
      "0.7222486694291649 #\n",
      "0.3502885881160336 #\n",
      "2.2119252956628475 #\n",
      "0.7222485985411224 #\n",
      "0.3502885530808522 #\n",
      "2.2119253571208572 #\n",
      "0.722248574178094 #\n",
      "0.35028854104048235 #\n"
     ]
    }
   ],
   "source": [
    "func('l1',0.3,0.095,1e-3,0)"
   ]
  },
  {
   "cell_type": "code",
   "execution_count": 65,
   "metadata": {},
   "outputs": [
    {
     "name": "stdout",
     "output_type": "stream",
     "text": [
      "0 beta:  [-0.10045349  0.25942182  0.09671996  0.16300034 -0.10260259 -0.00237782\n",
      " -0.13808361 -0.19993088 -0.27629308  1.31478543 -0.02906335  0.83480054]\n",
      "1 beta:  [-0.04989041  0.30235787  0.10054073  0.17495823 -0.01386424 -0.20884749\n",
      " -0.13013759 -0.07688393  0.12323602  1.33897219  0.16903656  0.80136103]\n",
      "2 beta:  [-0.07411575  0.27423331  0.04688722  0.16298352 -0.04841779  0.02384095\n",
      " -0.10460711 -0.24166886  0.06950417  1.14989686  0.04389265  0.90260719]\n",
      "3 beta:  [-1.46266494e-01  2.50443800e-01  1.11393018e-02  1.82090634e-01\n",
      "  3.31811134e-06  1.80720109e-01 -1.50752940e-01 -3.44243419e-01\n",
      " -1.24370689e-01  1.35365302e+00  1.11037743e-02  8.83503118e-01]\n",
      "average_accuracy: 0.8041666666666666  average_P_score: 0.793357535321821\n",
      "average_R_score: 0.9698795180722891 average_f1_score: 0.8726401561769201\n"
     ]
    }
   ],
   "source": [
    "func('l1',0.3,0.09,1e-3,0)"
   ]
  },
  {
   "cell_type": "code",
   "execution_count": 64,
   "metadata": {},
   "outputs": [
    {
     "name": "stdout",
     "output_type": "stream",
     "text": [
      "0 beta:  [-0.10061788  0.25955495  0.0969546   0.16334321 -0.10278409 -0.00255635\n",
      " -0.13827996 -0.20013419 -0.27664656  1.31525133 -0.02932842  0.83481582]\n",
      "1 beta:  [-0.05006694  0.30247758  0.10076599  0.17519676 -0.01396083 -0.20912764\n",
      " -0.13031107 -0.07698975  0.12346742  1.33942167  0.16924142  0.8013608 ]\n",
      "2 beta:  [-0.07427492  0.27438921  0.04705623  0.16319726 -0.04858668  0.024171\n",
      " -0.10473604 -0.24203189  0.06973901  1.15020249  0.04402227  0.90266023]\n",
      "3 beta:  [-1.46460641e-01  2.50561019e-01  1.12551976e-02  1.82321480e-01\n",
      "  1.71807517e-04  1.81054796e-01 -1.50911812e-01 -3.44747351e-01\n",
      " -1.24597548e-01  1.35403869e+00  1.12096691e-02  8.83483275e-01]\n",
      "average_accuracy: 0.8041666666666666  average_P_score: 0.793357535321821\n",
      "average_R_score: 0.9698795180722891 average_f1_score: 0.8726401561769201\n"
     ]
    }
   ],
   "source": [
    "func('l1',0.3,0.08,1e-3,0)"
   ]
  },
  {
   "cell_type": "code",
   "execution_count": 63,
   "metadata": {},
   "outputs": [
    {
     "name": "stdout",
     "output_type": "stream",
     "text": [
      "0 beta:  [-0.1019342   0.26062246  0.09883879  0.16609242 -0.10423792 -0.00399063\n",
      " -0.13985527 -0.20176229 -0.2794879   1.319      -0.03145345  0.83494064]\n",
      "1 beta:  [-0.05148083  0.30343677  0.1025731   0.17710731 -0.01473511 -0.21136914\n",
      " -0.13170035 -0.0778375   0.12532094  1.34303444  0.17088389  0.80136021]\n",
      "2 beta:  [-0.07554915  0.27563956  0.04841145  0.164912   -0.0499369   0.02680683\n",
      " -0.10576996 -0.24493707  0.07161918  1.15266319  0.04506285  0.90309088]\n",
      "3 beta:  [-1.48006365e-01  2.51698317e-01  1.22323230e-02  1.84331949e-01\n",
      "  1.30045574e-03  1.83720115e-01 -1.52245636e-01 -3.48694551e-01\n",
      " -1.26440451e-01  1.35755054e+00  1.21061424e-02  8.83573553e-01]\n",
      "average_accuracy: 0.8041666666666666  average_P_score: 0.793357535321821\n",
      "average_R_score: 0.9698795180722891 average_f1_score: 0.8726401561769201\n"
     ]
    }
   ],
   "source": [
    "func('l1',0.3,0,1e-3,0)"
   ]
  },
  {
   "cell_type": "markdown",
   "metadata": {},
   "source": [
    "##### L2正则化"
   ]
  },
  {
   "cell_type": "code",
   "execution_count": 51,
   "metadata": {},
   "outputs": [
    {
     "name": "stdout",
     "output_type": "stream",
     "text": [
      "0 beta:  [-0.10067947  0.25582667  0.0960543   0.16209684 -0.10210658 -0.00756158\n",
      " -0.13837702 -0.19519416 -0.269258    1.28736827 -0.02838766  0.83854392]\n",
      "1 beta:  [-0.05222108  0.29874928  0.1005235   0.17555123 -0.0165302  -0.20325057\n",
      " -0.12958116 -0.0785756   0.12243706  1.30787445  0.16521099  0.80793899]\n",
      "2 beta:  [-0.07555543  0.26985338  0.04727198  0.16100819 -0.0488263   0.02298758\n",
      " -0.1046355  -0.23807636  0.06995826  1.13050542  0.04595193  0.90410032]\n",
      "3 beta:  [-1.45758337e-01  2.45689922e-01  1.25282766e-02  1.80595717e-01\n",
      "  1.27004646e-03  1.73925817e-01 -1.51222451e-01 -3.36435569e-01\n",
      " -1.22173286e-01  1.32660555e+00  1.38640271e-02  8.87288314e-01]\n",
      "average_accuracy: 0.80625  average_P_score: 0.7938471250971251\n",
      "average_R_score: 0.9728915662650602 average_f1_score: 0.8741883317582451\n"
     ]
    }
   ],
   "source": [
    "func('l2',0.002,1,1e-5,0)"
   ]
  },
  {
   "cell_type": "code",
   "execution_count": 42,
   "metadata": {},
   "outputs": [
    {
     "name": "stdout",
     "output_type": "stream",
     "text": [
      "0 beta:  [-0.09539474  0.23665432  0.08580643  0.1466898  -0.09435614 -0.01928916\n",
      " -0.13179609 -0.17168732 -0.23360185  1.17382162 -0.01782506  0.84815088]\n",
      "1 beta:  [-0.05464687  0.27971572  0.09262827  0.16833316 -0.02266643 -0.1745332\n",
      " -0.12151062 -0.079756    0.11115686  1.18503789  0.14404022  0.82617502]\n",
      "2 beta:  [-0.07530396  0.24721387  0.04282674  0.14567306 -0.04481686  0.01025667\n",
      " -0.09976159 -0.21331717  0.06343337  1.0476181   0.04834699  0.90496078]\n",
      "3 beta:  [-1.36979378e-01  2.22695907e-01  1.30520564e-02  1.65965252e-01\n",
      "  8.85677171e-04  1.40548283e-01 -1.45237937e-01 -2.93418289e-01\n",
      " -1.06981216e-01  1.21626110e+00  1.92502045e-02  8.96381243e-01]\n",
      "average_accuracy: 0.8104166666666666  average_P_score: 0.7948916251515261\n",
      "average_R_score: 0.9789156626506025 average_f1_score: 0.877239581037127\n"
     ]
    }
   ],
   "source": [
    "func('l2',0.002,5,1e-5,0)"
   ]
  },
  {
   "cell_type": "code",
   "execution_count": 43,
   "metadata": {},
   "outputs": [
    {
     "name": "stdout",
     "output_type": "stream",
     "text": [
      "0 beta:  [-8.13412909e-02  1.94797176e-01  6.74876444e-02  1.16108957e-01\n",
      " -7.93079188e-02 -3.43016687e-02 -1.12856695e-01 -1.28668969e-01\n",
      " -1.71186930e-01  9.56915518e-01 -5.31574808e-04  8.56149948e-01]\n",
      "1 beta:  [-0.05728103  0.23638789  0.07667127  0.14836236 -0.03208488 -0.12074972\n",
      " -0.10300775 -0.07499534  0.08739131  0.95746192  0.10217865  0.84554857]\n",
      "2 beta:  [-0.0718275   0.19992412  0.03370239  0.11367117 -0.03650688 -0.00943225\n",
      " -0.08642102 -0.16580534  0.04962916  0.87557206  0.0497346   0.89897876]\n",
      "3 beta:  [-1.16796895e-01  1.76527749e-01  1.28108763e-02  1.36206333e-01\n",
      " -1.34464766e-04  8.51726052e-02 -1.24077531e-01 -2.16882142e-01\n",
      " -7.87725902e-02  1.00639505e+00  2.61941188e-02  9.01306611e-01]\n",
      "average_accuracy: 0.8104166666666666  average_P_score: 0.7948916251515261\n",
      "average_R_score: 0.9789156626506025 average_f1_score: 0.877239581037127\n"
     ]
    }
   ],
   "source": [
    "func('l2',0.002,15,1e-5,0)"
   ]
  },
  {
   "cell_type": "code",
   "execution_count": 44,
   "metadata": {},
   "outputs": [
    {
     "name": "stdout",
     "output_type": "stream",
     "text": [
      "0 beta:  [-0.06151737  0.14498713  0.04962618  0.08389893 -0.0627094  -0.03986913\n",
      " -0.08440094 -0.08785099 -0.11378094  0.71828381  0.01133327  0.84985688]\n",
      "1 beta:  [-0.05495528  0.18210042  0.05911141  0.11816193 -0.03588002 -0.0719369\n",
      " -0.07916218 -0.0591316   0.06116164  0.71367642  0.05986601  0.84660031]\n",
      "2 beta:  [-0.06238368  0.14618452  0.02346544  0.07808828 -0.02688878 -0.02210366\n",
      " -0.06657584 -0.11797771  0.03420947  0.66963376  0.0452406   0.8802943 ]\n",
      "3 beta:  [-0.09128159  0.12716143  0.01054994  0.10345386 -0.00142744  0.04086013\n",
      " -0.0911963  -0.14784136 -0.05156523  0.7757056   0.02762355  0.88906964]\n",
      "average_accuracy: 0.8083333333333332  average_P_score: 0.7930722181434399\n",
      "average_R_score: 0.9789156626506025 average_f1_score: 0.8760997634079476\n"
     ]
    }
   ],
   "source": [
    "func('l2',0.002,30,1e-5,0)"
   ]
  },
  {
   "cell_type": "code",
   "execution_count": 45,
   "metadata": {},
   "outputs": [
    {
     "name": "stdout",
     "output_type": "stream",
     "text": [
      "0 beta:  [-0.04989343  0.11762516  0.04050264  0.06744544 -0.05334942 -0.03883213\n",
      " -0.06713936 -0.06884843 -0.08731904  0.58681867  0.01430026  0.84108932]\n",
      "1 beta:  [-0.0507415   0.15099529  0.04973351  0.09895603 -0.03440574 -0.05124933\n",
      " -0.06505171 -0.0475075   0.04790241  0.58165096  0.04057948  0.84027789]\n",
      "2 beta:  [-0.05461231  0.11749373  0.01810387  0.05991141 -0.02166439 -0.0250171\n",
      " -0.05431958 -0.09462508  0.02635399  0.55078982  0.04016391  0.86563276]\n",
      "3 beta:  [-0.0766813   0.10224307  0.00864399  0.08611823 -0.00205365  0.02383413\n",
      " -0.07238237 -0.11697921 -0.03902239  0.64878366  0.02592789  0.87595423]\n",
      "average_accuracy: 0.8083333333333332  average_P_score: 0.7930722181434399\n",
      "average_R_score: 0.9789156626506025 average_f1_score: 0.8760997634079476\n"
     ]
    }
   ],
   "source": [
    "func('l2',0.002,40,1e-5,0)"
   ]
  },
  {
   "cell_type": "code",
   "execution_count": 46,
   "metadata": {},
   "outputs": [
    {
     "name": "stdout",
     "output_type": "stream",
     "text": [
      "0 beta:  [-0.04663862  0.11004409  0.03798679  0.06297847 -0.05064598 -0.03808095\n",
      " -0.06227427 -0.06392139 -0.08049046  0.54989965  0.01469924  0.83819248]\n",
      "1 beta:  [-0.04915913  0.14219859  0.04711818  0.09333397 -0.03353945 -0.04619582\n",
      " -0.06101284 -0.04410215  0.04438365  0.54483781  0.03581711  0.83790027]\n",
      "2 beta:  [-0.05211886  0.10963142  0.0166625   0.05508604 -0.02023017 -0.02534023\n",
      " -0.05080758 -0.08842073  0.02427032  0.51690487  0.03844773  0.86116896]\n",
      "3 beta:  [-0.0725677   0.09560673  0.00806287  0.08135036 -0.0022017   0.01990382\n",
      " -0.06727638 -0.10910875 -0.0358331   0.61320215  0.02519772  0.87169429]\n",
      "average_accuracy: 0.8083333333333332  average_P_score: 0.7930722181434399\n",
      "average_R_score: 0.9789156626506025 average_f1_score: 0.8760997634079476\n"
     ]
    }
   ],
   "source": [
    "func('l2',0.002,43,1e-5,0)"
   ]
  },
  {
   "cell_type": "code",
   "execution_count": 47,
   "metadata": {},
   "outputs": [
    {
     "name": "stdout",
     "output_type": "stream",
     "text": [
      "0 beta:  [-0.04452149  0.10511846  0.03634903  0.06009101 -0.04885463 -0.03748473\n",
      " -0.05911043 -0.06078904 -0.07616146  0.52577713  0.01486121  0.83623099]\n",
      "1 beta:  [-0.04802904  0.13643993  0.04540782  0.08961583 -0.03286937 -0.04306425\n",
      " -0.05836193 -0.04186652  0.04213411  0.52084908  0.03286989  0.83624672]\n",
      "2 beta:  [-0.05041833  0.10454325  0.01573868  0.05200614 -0.01930279 -0.02543516\n",
      " -0.04850604 -0.08443977  0.02294025  0.49466543  0.03726289  0.85820571]\n",
      "3 beta:  [-0.06988052  0.09135817  0.0076772   0.07825717 -0.00228969  0.01752473\n",
      " -0.06400277 -0.10413438 -0.03382786  0.58997737  0.02466809  0.86881321]\n",
      "average_accuracy: 0.8083333333333332  average_P_score: 0.7930722181434399\n",
      "average_R_score: 0.9789156626506025 average_f1_score: 0.8760997634079476\n"
     ]
    }
   ],
   "source": [
    "func('l2',0.002,45,1e-5,0)"
   ]
  },
  {
   "cell_type": "code",
   "execution_count": 48,
   "metadata": {},
   "outputs": [
    {
     "name": "stdout",
     "output_type": "stream",
     "text": [
      "0 beta:  [-0.04244405  0.10028597  0.03473802  0.05726764 -0.04706712 -0.03681574\n",
      " -0.05600993 -0.05776534 -0.07199404  0.50200424  0.01494592  0.834266  ]\n",
      "1 beta:  [-0.04683955  0.13075336  0.04371749  0.08591796 -0.03212947 -0.04010492\n",
      " -0.05574089 -0.03966114  0.03995439  0.49724876  0.03009338  0.83454733]\n",
      "2 beta:  [-0.0486876   0.09956523  0.01484272  0.04902815 -0.0183965  -0.02543851\n",
      " -0.04623484 -0.0805669   0.02165381  0.4726729   0.03604737  0.85525979]\n",
      "3 beta:  [-0.06723281  0.08723748  0.00729405  0.07522396 -0.00236897  0.01532136\n",
      " -0.06082918 -0.09935315 -0.0319114   0.5671048   0.02410772  0.86590985]\n",
      "average_accuracy: 0.8083333333333332  average_P_score: 0.7930722181434399\n",
      "average_R_score: 0.9789156626506025 average_f1_score: 0.8760997634079476\n"
     ]
    }
   ],
   "source": [
    "func('l2',0.002,47,1e-5,0)"
   ]
  },
  {
   "cell_type": "code",
   "execution_count": 49,
   "metadata": {},
   "outputs": [
    {
     "name": "stdout",
     "output_type": "stream",
     "text": [
      "0 beta:  [-0.03939588  0.0931908   0.03236312  0.05313617 -0.04438372 -0.03567988\n",
      " -0.05147447 -0.05340851 -0.06601448  0.46691284  0.01493721  0.831322  ]\n",
      "1 beta:  [-0.04494577  0.12234098  0.04120992  0.08040472 -0.03089642 -0.03596058\n",
      " -0.05186164 -0.0364153   0.03680419  0.46250149  0.02623131  0.83195414]\n",
      "2 beta:  [-0.04603484  0.09228292  0.01354786  0.04473917 -0.01707314 -0.02527809\n",
      " -0.04288178 -0.07493258  0.01979981  0.44008907  0.03416903  0.85088561]\n",
      "3 beta:  [-0.06332686  0.08127467  0.00672587  0.07077237 -0.00247126  0.01231866\n",
      " -0.05624761 -0.09250254 -0.02918991  0.5333806   0.02321473  0.86153042]\n",
      "average_accuracy: 0.80625  average_P_score: 0.7910520161232378\n",
      "average_R_score: 0.9789156626506025 average_f1_score: 0.8748987786004054\n"
     ]
    }
   ],
   "source": [
    "func('l2',0.002,50,1e-5,0)"
   ]
  },
  {
   "cell_type": "code",
   "execution_count": 50,
   "metadata": {},
   "outputs": [
    {
     "name": "stdout",
     "output_type": "stream",
     "text": [
      "0 beta:  [-0.02971306  0.07054651  0.02468142  0.04002206 -0.03526615 -0.03075854\n",
      " -0.03730205 -0.04005414 -0.04797528  0.3535831   0.01384982  0.82193781]\n",
      "1 beta:  [-0.03766489  0.09494151  0.03290189  0.0621927  -0.02581423 -0.02425742\n",
      " -0.03929452 -0.02618465  0.02714113  0.35096495  0.01568689  0.82331914]\n",
      "2 beta:  [-0.03668354  0.06925763  0.00960994  0.03177973 -0.01291345 -0.02335781\n",
      " -0.03211037 -0.05722036  0.01417892  0.33406058  0.02744978  0.83697322]\n",
      "3 beta:  [-0.05073488  0.06295036  0.00491575  0.05656291 -0.00265966  0.0045512\n",
      " -0.04236098 -0.07183107 -0.02124484  0.42485612  0.0198493   0.84707461]\n",
      "average_accuracy: 0.7666666666666666  average_P_score: 0.754942552362818\n",
      "average_R_score: 0.9819277108433736 average_f1_score: 0.8534692590211208\n"
     ]
    }
   ],
   "source": [
    "func('l2',0.002,60,1e-5,0)"
   ]
  }
 ],
 "metadata": {
  "kernelspec": {
   "display_name": "Python 3 (ipykernel)",
   "language": "python",
   "name": "python3"
  },
  "language_info": {
   "codemirror_mode": {
    "name": "ipython",
    "version": 3
   },
   "file_extension": ".py",
   "mimetype": "text/x-python",
   "name": "python",
   "nbconvert_exporter": "python",
   "pygments_lexer": "ipython3",
   "version": "3.9.7"
  },
  "vscode": {
   "interpreter": {
    "hash": "429c4da532d5a49305ad374da5bd9411413fc9c5f93bdb5e51c34bc796003ebd"
   }
  }
 },
 "nbformat": 4,
 "nbformat_minor": 2
}
