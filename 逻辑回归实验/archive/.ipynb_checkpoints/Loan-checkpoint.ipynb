{
 "cells": [
  {
   "cell_type": "code",
   "execution_count": 1,
   "metadata": {},
   "outputs": [],
   "source": [
    "# Run some setup code for this notebook.\n",
    "\n",
    "import matplotlib.pyplot as plt\n",
    "\n",
    "\n",
    "# This is a bit of magic to make matplotlib figures appear inline in the notebook\n",
    "# rather than in a new window.\n",
    "%matplotlib inline\n",
    "plt.rcParams['figure.figsize'] = (10.0, 8.0) # set default size of plots\n",
    "plt.rcParams['image.interpolation'] = 'nearest'\n",
    "plt.rcParams['image.cmap'] = 'gray'\n",
    "\n",
    "# Some more magic so that the notebook will reload external python modules;\n",
    "# see http://stackoverflow.com/questions/1907993/autoreload-of-modules-in-ipython\n",
    "%load_ext autoreload\n",
    "%autoreload 2"
   ]
  },
  {
   "cell_type": "markdown",
   "metadata": {},
   "source": [
    "## general description of this dataset"
   ]
  },
  {
   "attachments": {},
   "cell_type": "markdown",
   "metadata": {},
   "source": [
    "|Field    |description                      |   \n",
    "|:----------|:----------                     |   \n",
    "|Loan_ID   |ID of the Loan |\n",
    "|Gender |Female or Male|\n",
    "|Dependents\t|the number of relatives|\n",
    "|Education\t|received education or not|\n",
    "|Self_Employed\t|be employed or not|\n",
    "|ApplicantIncome\t|the income of the applicant|\n",
    "|CoapplicantIncome\t|the income of co-applicant|\n",
    "|LoanAmount|the amount of the loan|\n",
    "|Loan_Amount_Term|loan amount item|\n",
    "|Credit_History\t|have a good credit or not|\n",
    "|Property_Area|Urban or Rural or Semiurban|\n",
    "|Loan_Status|have a loan or not|"
   ]
  },
  {
   "cell_type": "markdown",
   "metadata": {},
   "source": [
    "## Load Dataset"
   ]
  },
  {
   "cell_type": "code",
   "execution_count": 2,
   "metadata": {},
   "outputs": [],
   "source": [
    "import random"
   ]
  },
  {
   "cell_type": "code",
   "execution_count": 3,
   "metadata": {},
   "outputs": [
    {
     "data": {
      "text/html": [
       "<div>\n",
       "<style scoped>\n",
       "    .dataframe tbody tr th:only-of-type {\n",
       "        vertical-align: middle;\n",
       "    }\n",
       "\n",
       "    .dataframe tbody tr th {\n",
       "        vertical-align: top;\n",
       "    }\n",
       "\n",
       "    .dataframe thead th {\n",
       "        text-align: right;\n",
       "    }\n",
       "</style>\n",
       "<table border=\"1\" class=\"dataframe\">\n",
       "  <thead>\n",
       "    <tr style=\"text-align: right;\">\n",
       "      <th></th>\n",
       "      <th>Loan_ID</th>\n",
       "      <th>Gender</th>\n",
       "      <th>Married</th>\n",
       "      <th>Dependents</th>\n",
       "      <th>Education</th>\n",
       "      <th>Self_Employed</th>\n",
       "      <th>ApplicantIncome</th>\n",
       "      <th>CoapplicantIncome</th>\n",
       "      <th>LoanAmount</th>\n",
       "      <th>Loan_Amount_Term</th>\n",
       "      <th>Credit_History</th>\n",
       "      <th>Property_Area</th>\n",
       "      <th>Loan_Status</th>\n",
       "    </tr>\n",
       "  </thead>\n",
       "  <tbody>\n",
       "    <tr>\n",
       "      <th>0</th>\n",
       "      <td>LP001002</td>\n",
       "      <td>Male</td>\n",
       "      <td>No</td>\n",
       "      <td>0</td>\n",
       "      <td>Graduate</td>\n",
       "      <td>No</td>\n",
       "      <td>5849</td>\n",
       "      <td>0.0</td>\n",
       "      <td>NaN</td>\n",
       "      <td>360.0</td>\n",
       "      <td>1.0</td>\n",
       "      <td>Urban</td>\n",
       "      <td>Y</td>\n",
       "    </tr>\n",
       "    <tr>\n",
       "      <th>1</th>\n",
       "      <td>LP001003</td>\n",
       "      <td>Male</td>\n",
       "      <td>Yes</td>\n",
       "      <td>1</td>\n",
       "      <td>Graduate</td>\n",
       "      <td>No</td>\n",
       "      <td>4583</td>\n",
       "      <td>1508.0</td>\n",
       "      <td>128.0</td>\n",
       "      <td>360.0</td>\n",
       "      <td>1.0</td>\n",
       "      <td>Rural</td>\n",
       "      <td>N</td>\n",
       "    </tr>\n",
       "    <tr>\n",
       "      <th>2</th>\n",
       "      <td>LP001005</td>\n",
       "      <td>Male</td>\n",
       "      <td>Yes</td>\n",
       "      <td>0</td>\n",
       "      <td>Graduate</td>\n",
       "      <td>Yes</td>\n",
       "      <td>3000</td>\n",
       "      <td>0.0</td>\n",
       "      <td>66.0</td>\n",
       "      <td>360.0</td>\n",
       "      <td>1.0</td>\n",
       "      <td>Urban</td>\n",
       "      <td>Y</td>\n",
       "    </tr>\n",
       "    <tr>\n",
       "      <th>3</th>\n",
       "      <td>LP001006</td>\n",
       "      <td>Male</td>\n",
       "      <td>Yes</td>\n",
       "      <td>0</td>\n",
       "      <td>Not Graduate</td>\n",
       "      <td>No</td>\n",
       "      <td>2583</td>\n",
       "      <td>2358.0</td>\n",
       "      <td>120.0</td>\n",
       "      <td>360.0</td>\n",
       "      <td>1.0</td>\n",
       "      <td>Urban</td>\n",
       "      <td>Y</td>\n",
       "    </tr>\n",
       "    <tr>\n",
       "      <th>4</th>\n",
       "      <td>LP001008</td>\n",
       "      <td>Male</td>\n",
       "      <td>No</td>\n",
       "      <td>0</td>\n",
       "      <td>Graduate</td>\n",
       "      <td>No</td>\n",
       "      <td>6000</td>\n",
       "      <td>0.0</td>\n",
       "      <td>141.0</td>\n",
       "      <td>360.0</td>\n",
       "      <td>1.0</td>\n",
       "      <td>Urban</td>\n",
       "      <td>Y</td>\n",
       "    </tr>\n",
       "  </tbody>\n",
       "</table>\n",
       "</div>"
      ],
      "text/plain": [
       "    Loan_ID Gender Married Dependents     Education Self_Employed   \n",
       "0  LP001002   Male      No          0      Graduate            No  \\\n",
       "1  LP001003   Male     Yes          1      Graduate            No   \n",
       "2  LP001005   Male     Yes          0      Graduate           Yes   \n",
       "3  LP001006   Male     Yes          0  Not Graduate            No   \n",
       "4  LP001008   Male      No          0      Graduate            No   \n",
       "\n",
       "   ApplicantIncome  CoapplicantIncome  LoanAmount  Loan_Amount_Term   \n",
       "0             5849                0.0         NaN             360.0  \\\n",
       "1             4583             1508.0       128.0             360.0   \n",
       "2             3000                0.0        66.0             360.0   \n",
       "3             2583             2358.0       120.0             360.0   \n",
       "4             6000                0.0       141.0             360.0   \n",
       "\n",
       "   Credit_History Property_Area Loan_Status  \n",
       "0             1.0         Urban           Y  \n",
       "1             1.0         Rural           N  \n",
       "2             1.0         Urban           Y  \n",
       "3             1.0         Urban           Y  \n",
       "4             1.0         Urban           Y  "
      ]
     },
     "execution_count": 3,
     "metadata": {},
     "output_type": "execute_result"
    }
   ],
   "source": [
    "import pandas as pd\n",
    "df = pd.read_csv('loan.csv')\n",
    "df.head()"
   ]
  },
  {
   "cell_type": "markdown",
   "metadata": {},
   "source": [
    "## Dataset Info"
   ]
  },
  {
   "cell_type": "code",
   "execution_count": 4,
   "metadata": {},
   "outputs": [
    {
     "name": "stdout",
     "output_type": "stream",
     "text": [
      "<class 'pandas.core.frame.DataFrame'>\n",
      "RangeIndex: 614 entries, 0 to 613\n",
      "Data columns (total 13 columns):\n",
      " #   Column             Non-Null Count  Dtype  \n",
      "---  ------             --------------  -----  \n",
      " 0   Loan_ID            614 non-null    object \n",
      " 1   Gender             601 non-null    object \n",
      " 2   Married            611 non-null    object \n",
      " 3   Dependents         599 non-null    object \n",
      " 4   Education          614 non-null    object \n",
      " 5   Self_Employed      582 non-null    object \n",
      " 6   ApplicantIncome    614 non-null    int64  \n",
      " 7   CoapplicantIncome  614 non-null    float64\n",
      " 8   LoanAmount         592 non-null    float64\n",
      " 9   Loan_Amount_Term   600 non-null    float64\n",
      " 10  Credit_History     564 non-null    float64\n",
      " 11  Property_Area      614 non-null    object \n",
      " 12  Loan_Status        614 non-null    object \n",
      "dtypes: float64(4), int64(1), object(8)\n",
      "memory usage: 62.5+ KB\n"
     ]
    }
   ],
   "source": [
    "df.info()"
   ]
  },
  {
   "cell_type": "code",
   "execution_count": 5,
   "metadata": {},
   "outputs": [
    {
     "name": "stdout",
     "output_type": "stream",
     "text": [
      "the number of records:\n"
     ]
    },
    {
     "data": {
      "text/plain": [
       "614"
      ]
     },
     "execution_count": 5,
     "metadata": {},
     "output_type": "execute_result"
    }
   ],
   "source": [
    "print('the number of records:')\n",
    "df['Loan_ID'].count()"
   ]
  },
  {
   "cell_type": "markdown",
   "metadata": {},
   "source": [
    "## Data Cleaning"
   ]
  },
  {
   "cell_type": "code",
   "execution_count": 6,
   "metadata": {},
   "outputs": [
    {
     "name": "stdout",
     "output_type": "stream",
     "text": [
      "Part of missing values for every column\n",
      "Gender               0.021173\n",
      "Married              0.004886\n",
      "Dependents           0.024430\n",
      "Education            0.000000\n",
      "Self_Employed        0.052117\n",
      "ApplicantIncome      0.000000\n",
      "CoapplicantIncome    0.000000\n",
      "LoanAmount           0.035831\n",
      "Loan_Amount_Term     0.022801\n",
      "Credit_History       0.081433\n",
      "Property_Area        0.000000\n",
      "Loan_Status          0.000000\n",
      "dtype: float64\n"
     ]
    }
   ],
   "source": [
    "df.drop(\"Loan_ID\", axis=1, inplace=True)\n",
    "# Checking the Missing Values\n",
    "print('Part of missing values for every column')\n",
    "print(df.isnull().sum() / len(df))"
   ]
  },
  {
   "cell_type": "code",
   "execution_count": 7,
   "metadata": {},
   "outputs": [],
   "source": [
    "##the porpotion of NAN is extremely small ,we choose to drop all of data that includes NAN\n",
    "df=df.dropna()\n",
    "## reset index\n",
    "df.index=range(480)"
   ]
  },
  {
   "cell_type": "markdown",
   "metadata": {},
   "source": [
    "## Encode "
   ]
  },
  {
   "cell_type": "code",
   "execution_count": 8,
   "metadata": {},
   "outputs": [
    {
     "data": {
      "text/html": [
       "<div>\n",
       "<style scoped>\n",
       "    .dataframe tbody tr th:only-of-type {\n",
       "        vertical-align: middle;\n",
       "    }\n",
       "\n",
       "    .dataframe tbody tr th {\n",
       "        vertical-align: top;\n",
       "    }\n",
       "\n",
       "    .dataframe thead th {\n",
       "        text-align: right;\n",
       "    }\n",
       "</style>\n",
       "<table border=\"1\" class=\"dataframe\">\n",
       "  <thead>\n",
       "    <tr style=\"text-align: right;\">\n",
       "      <th></th>\n",
       "      <th>Gender</th>\n",
       "      <th>Married</th>\n",
       "      <th>Dependents</th>\n",
       "      <th>Education</th>\n",
       "      <th>Self_Employed</th>\n",
       "      <th>ApplicantIncome</th>\n",
       "      <th>CoapplicantIncome</th>\n",
       "      <th>LoanAmount</th>\n",
       "      <th>Loan_Amount_Term</th>\n",
       "      <th>Credit_History</th>\n",
       "      <th>Property_Area</th>\n",
       "      <th>Loan_Status</th>\n",
       "    </tr>\n",
       "  </thead>\n",
       "  <tbody>\n",
       "    <tr>\n",
       "      <th>0</th>\n",
       "      <td>Male</td>\n",
       "      <td>Yes</td>\n",
       "      <td>1</td>\n",
       "      <td>Graduate</td>\n",
       "      <td>No</td>\n",
       "      <td>4583</td>\n",
       "      <td>1508.0</td>\n",
       "      <td>128.0</td>\n",
       "      <td>360.0</td>\n",
       "      <td>1.0</td>\n",
       "      <td>Rural</td>\n",
       "      <td>N</td>\n",
       "    </tr>\n",
       "    <tr>\n",
       "      <th>1</th>\n",
       "      <td>Male</td>\n",
       "      <td>Yes</td>\n",
       "      <td>0</td>\n",
       "      <td>Graduate</td>\n",
       "      <td>Yes</td>\n",
       "      <td>3000</td>\n",
       "      <td>0.0</td>\n",
       "      <td>66.0</td>\n",
       "      <td>360.0</td>\n",
       "      <td>1.0</td>\n",
       "      <td>Urban</td>\n",
       "      <td>Y</td>\n",
       "    </tr>\n",
       "    <tr>\n",
       "      <th>2</th>\n",
       "      <td>Male</td>\n",
       "      <td>Yes</td>\n",
       "      <td>0</td>\n",
       "      <td>Not Graduate</td>\n",
       "      <td>No</td>\n",
       "      <td>2583</td>\n",
       "      <td>2358.0</td>\n",
       "      <td>120.0</td>\n",
       "      <td>360.0</td>\n",
       "      <td>1.0</td>\n",
       "      <td>Urban</td>\n",
       "      <td>Y</td>\n",
       "    </tr>\n",
       "    <tr>\n",
       "      <th>3</th>\n",
       "      <td>Male</td>\n",
       "      <td>No</td>\n",
       "      <td>0</td>\n",
       "      <td>Graduate</td>\n",
       "      <td>No</td>\n",
       "      <td>6000</td>\n",
       "      <td>0.0</td>\n",
       "      <td>141.0</td>\n",
       "      <td>360.0</td>\n",
       "      <td>1.0</td>\n",
       "      <td>Urban</td>\n",
       "      <td>Y</td>\n",
       "    </tr>\n",
       "    <tr>\n",
       "      <th>4</th>\n",
       "      <td>Male</td>\n",
       "      <td>Yes</td>\n",
       "      <td>2</td>\n",
       "      <td>Graduate</td>\n",
       "      <td>Yes</td>\n",
       "      <td>5417</td>\n",
       "      <td>4196.0</td>\n",
       "      <td>267.0</td>\n",
       "      <td>360.0</td>\n",
       "      <td>1.0</td>\n",
       "      <td>Urban</td>\n",
       "      <td>Y</td>\n",
       "    </tr>\n",
       "  </tbody>\n",
       "</table>\n",
       "</div>"
      ],
      "text/plain": [
       "  Gender Married Dependents     Education Self_Employed  ApplicantIncome   \n",
       "0   Male     Yes          1      Graduate            No             4583  \\\n",
       "1   Male     Yes          0      Graduate           Yes             3000   \n",
       "2   Male     Yes          0  Not Graduate            No             2583   \n",
       "3   Male      No          0      Graduate            No             6000   \n",
       "4   Male     Yes          2      Graduate           Yes             5417   \n",
       "\n",
       "   CoapplicantIncome  LoanAmount  Loan_Amount_Term  Credit_History   \n",
       "0             1508.0       128.0             360.0             1.0  \\\n",
       "1                0.0        66.0             360.0             1.0   \n",
       "2             2358.0       120.0             360.0             1.0   \n",
       "3                0.0       141.0             360.0             1.0   \n",
       "4             4196.0       267.0             360.0             1.0   \n",
       "\n",
       "  Property_Area Loan_Status  \n",
       "0         Rural           N  \n",
       "1         Urban           Y  \n",
       "2         Urban           Y  \n",
       "3         Urban           Y  \n",
       "4         Urban           Y  "
      ]
     },
     "execution_count": 8,
     "metadata": {},
     "output_type": "execute_result"
    }
   ],
   "source": [
    "df.head()"
   ]
  },
  {
   "cell_type": "code",
   "execution_count": 9,
   "metadata": {},
   "outputs": [],
   "source": [
    "map_Married_Self_Employed={\n",
    "    'Yes': 1,\n",
    "    'No' : 0 \n",
    "}\n",
    "map_Gender={\n",
    "    'Male': 0,\n",
    "    'Female': 1\n",
    "}\n",
    "map_Education={\n",
    "    'Graduate': 1,\n",
    "    'Not Graduate': 0\n",
    "}\n",
    "map_Property_Area={\n",
    "    'Rural': -1,\n",
    "    'Semiurban': 0,\n",
    "    'Urban': 1\n",
    "}\n",
    "map_Loan_Status={\n",
    "    'Y': 1,\n",
    "    'N': 0\n",
    "}\n",
    "map_Dependents={\n",
    "    '0': 0,\n",
    "    '1': 1,\n",
    "    '2': 2,\n",
    "    '3+': 3,\n",
    "}##3+ can change to other values\n",
    "df['Married']=df['Married'].map(map_Married_Self_Employed)\n",
    "df['Self_Employed']=df['Self_Employed'].map(map_Married_Self_Employed)\n",
    "df['Education']=df['Education'].map(map_Education)\n",
    "df['Property_Area']=df['Property_Area'].map(map_Property_Area)\n",
    "df['Loan_Status']=df['Loan_Status'].map(map_Loan_Status)\n",
    "df['Dependents']=df['Dependents'].map(map_Dependents)\n",
    "df['Gender']=df['Gender'].map(map_Gender)"
   ]
  },
  {
   "cell_type": "code",
   "execution_count": 10,
   "metadata": {
    "scrolled": true
   },
   "outputs": [],
   "source": [
    "#normaliz\n",
    "import numpy as np\n",
    "def z_score_normalize(data):    \n",
    "    mean = np.mean(data, axis=0)    \n",
    "    std_dev = np.std(data, axis=0)    \n",
    "    normalized_data = (data - mean) / std_dev    \n",
    "    return normalized_data"
   ]
  },
  {
   "cell_type": "code",
   "execution_count": 11,
   "metadata": {},
   "outputs": [],
   "source": [
    "df.iloc[:,:-1]=z_score_normalize(df.iloc[:,:-1]) #数据z_score normalize"
   ]
  },
  {
   "cell_type": "markdown",
   "metadata": {},
   "source": [
    "## Data process"
   ]
  },
  {
   "cell_type": "code",
   "execution_count": 12,
   "metadata": {},
   "outputs": [
    {
     "name": "stdout",
     "output_type": "stream",
     "text": [
      "332 148\n"
     ]
    }
   ],
   "source": [
    "print(len(df[df['Loan_Status']==1]),len(df[df['Loan_Status']==0])) #正负样本个数"
   ]
  },
  {
   "cell_type": "code",
   "execution_count": 13,
   "metadata": {},
   "outputs": [],
   "source": [
    "df_Y=df[df['Loan_Status']==1].copy(deep=True)\n",
    "df_N=df[df['Loan_Status']==0].copy(deep=True)"
   ]
  },
  {
   "cell_type": "code",
   "execution_count": 14,
   "metadata": {},
   "outputs": [],
   "source": [
    "df_Y.index=range(len(df_Y))\n",
    "df_N.index=range(len(df_N))"
   ]
  },
  {
   "cell_type": "code",
   "execution_count": 15,
   "metadata": {},
   "outputs": [],
   "source": [
    "def split_dataset(df,ratio):\n",
    "    train_size = int(len(df)*ratio)\n",
    "    random_list=random.sample(range(len(df)),train_size)\n",
    "    random_list_U=list(range(len(df)))\n",
    "    for i in range(len(random_list)) :\n",
    "        random_list_U.remove(random_list[i])\n",
    "    test_tar_df=df.iloc[random_list].copy(deep=True)\n",
    "    train_tar_df=df.iloc[random_list_U].copy(deep=True)\n",
    "    return [train_tar_df,test_tar_df]"
   ]
  },
  {
   "cell_type": "code",
   "execution_count": 16,
   "metadata": {},
   "outputs": [],
   "source": [
    "list_Y=split_dataset(df_Y,0.3)\n",
    "list_N=split_dataset(df_N,0.3)\n",
    "train_Y_df=list_Y[0]\n",
    "test_Y_df=list_Y[1]\n",
    "train_N_df=list_N[0]\n",
    "test_N_df=list_N[1]"
   ]
  },
  {
   "cell_type": "code",
   "execution_count": 17,
   "metadata": {},
   "outputs": [],
   "source": [
    "train_df=pd.concat([train_N_df,train_Y_df]).copy(deep=True)\n",
    "test_df=pd.concat([test_N_df,test_Y_df]).copy(deep=True)"
   ]
  },
  {
   "cell_type": "code",
   "execution_count": 18,
   "metadata": {},
   "outputs": [],
   "source": [
    "train_df.index=range(len(train_df))\n",
    "test_df.index=range(len(test_df))"
   ]
  },
  {
   "cell_type": "markdown",
   "metadata": {},
   "source": [
    "## Train"
   ]
  },
  {
   "cell_type": "code",
   "execution_count": 43,
   "metadata": {},
   "outputs": [],
   "source": [
    "def loss(df,beta) :\n",
    "    len_=len(df)\n",
    "    loss=0\n",
    "    for i in range(len_) :\n",
    "        temp_arr=np.array(df.iloc[i,:-1])\n",
    "        temp_arr_1=np.append(temp_arr,1)\n",
    "        loss=loss-df['Loan_Status'][i]*np.dot(beta,temp_arr_1)+np.log(1+np.exp(np.dot(beta,temp_arr_1)))\n",
    "    return loss"
   ]
  },
  {
   "cell_type": "code",
   "execution_count": 25,
   "metadata": {},
   "outputs": [],
   "source": [
    "def sigmod_s(z) :\n",
    "    if z>0 :\n",
    "        return 1/(1+np.exp(-z))\n",
    "    else :\n",
    "        return np.exp(z)/(1+np.exp(z))"
   ]
  },
  {
   "cell_type": "code",
   "execution_count": 20,
   "metadata": {},
   "outputs": [],
   "source": [
    "def p_1(beta,x) :\n",
    "    x=np.append(x,1)\n",
    "    z=np.dot(beta,x)\n",
    "    return sigmod_s(z)"
   ]
  },
  {
   "cell_type": "code",
   "execution_count": 21,
   "metadata": {},
   "outputs": [],
   "source": [
    "def L_beta_1(df,beta) :\n",
    "    len_=len(df.columns)\n",
    "    len_index=len(df)\n",
    "    sum_=np.array(len_*[0])\n",
    "    for i in range(len_index) :\n",
    "        temp_arr=np.array(df.iloc[i,:-1])\n",
    "        temp_arr_1=np.append(temp_arr,1)\n",
    "        sum_=sum_-(df['Loan_Status'][i]-p_1(beta,temp_arr))*temp_arr_1\n",
    "    return [sum_]"
   ]
  },
  {
   "cell_type": "code",
   "execution_count": 22,
   "metadata": {},
   "outputs": [],
   "source": [
    "def L_beta_2(df,beta) :\n",
    "    len_=len(df.columns)\n",
    "    len_index=len(df)\n",
    "    sum_=np.array(len_*[[0]*len_])\n",
    "    for i in range(len_index) :\n",
    "        temp_arr=np.array(df.iloc[i,:-1])\n",
    "        temp_arr_1=np.append(temp_arr,1)\n",
    "        sum_=sum_+p_1(beta,temp_arr)*(1-p_1(beta,temp_arr))*np.dot(np.array([temp_arr_1]).T,np.array([temp_arr_1]))\n",
    "    return sum_"
   ]
  },
  {
   "cell_type": "code",
   "execution_count": 23,
   "metadata": {},
   "outputs": [],
   "source": [
    "def LogisticRegression_train(df,alph) :\n",
    "    beta=np.array([1]*(len(df.columns)))\n",
    "    beta_new=np.array([0]*(len(df.columns)))\n",
    "    while True :\n",
    "        beta_new=(np.array([beta])-alph*np.dot(L_beta_1(df,beta),np.linalg.inv(np.array(L_beta_2(df,beta).T))))[0]\n",
    "        if np.linalg.norm(beta_new-beta)<1e-6 :\n",
    "            break\n",
    "        print(loss(beta))\n",
    "        beta=beta_new.copy()\n",
    "    return beta"
   ]
  },
  {
   "cell_type": "code",
   "execution_count": 26,
   "metadata": {},
   "outputs": [
    {
     "name": "stdout",
     "output_type": "stream",
     "text": [
      "3.281570301527995\n",
      "0.5198883691134591\n",
      "0.25193727424548673\n",
      "0.15382240249178844\n",
      "0.11521782502143778\n",
      "0.09243807018145203\n",
      "0.07599486291492824\n",
      "0.0629781979927029\n",
      "0.052239404172817805\n",
      "0.043235109169369436\n",
      "0.03565669930337368\n",
      "0.029291922867160952\n",
      "0.023971217535537936\n",
      "0.019547668986693755\n",
      "0.015890210360526884\n",
      "0.012881667786545129\n",
      "0.010418262914412616\n",
      "0.00840928134599956\n",
      "0.006776493799932385\n",
      "0.005453276608973278\n",
      "0.0043835100895661065\n",
      "0.0035203635876535624\n",
      "0.00282506371058846\n",
      "0.002265716133308928\n",
      "0.001816224794103557\n",
      "0.001455330573860585\n",
      "0.0011657759114174675\n",
      "0.000933591653680119\n",
      "0.0007474965641850987\n",
      "0.0005983970763538233\n",
      "0.0004789740373022373\n",
      "0.0003833435612061706\n",
      "0.00030678014959097967\n",
      "0.00024549157799659224\n",
      "0.00019643646952013916\n",
      "0.00015717684549540863\n",
      "0.0001257591939947489\n",
      "0.00010061869900584987\n",
      "8.050222157239193e-05\n",
      "6.44064263664189e-05\n",
      "5.152811713371016e-05\n",
      "4.1224398685801024e-05\n",
      "3.298073829544435e-05\n",
      "2.6385371100358846e-05\n",
      "2.1108796419198346e-05\n",
      "1.6887356861792323e-05\n",
      "1.351009012550608e-05\n",
      "1.0808203073184701e-05\n",
      "8.646646283763932e-06\n",
      "6.917370676806041e-06\n",
      "5.533930878035804e-06\n",
      "4.4271666782389744e-06\n",
      "3.54174740734688e-06\n",
      "2.833406927254844e-06\n",
      "2.2667313030049344e-06\n",
      "1.8133887293361113e-06\n",
      "1.450713343287728e-06\n",
      "1.160572184928285e-06\n"
     ]
    }
   ],
   "source": [
    "beta=LogisticRegression_train(train_df,0.2)"
   ]
  },
  {
   "cell_type": "code",
   "execution_count": 27,
   "metadata": {},
   "outputs": [],
   "source": [
    "def cal_test(df,beta) :\n",
    "    len_=len(df)\n",
    "    predict=[]\n",
    "    for i in range(len_) :\n",
    "        temp_arr=np.array(df.iloc[i,:-1])\n",
    "        flag=p_1(beta,temp_arr)\n",
    "        if flag>=0.5 :\n",
    "            if df['Loan_Status'][i] == 1 :\n",
    "                predict.append([1,1])\n",
    "            else :\n",
    "                predict.append([1,0])\n",
    "        else :\n",
    "            if df['Loan_Status'][i] == 1 :\n",
    "                predict.append([0,1])\n",
    "            else :\n",
    "                predict.append([0,0])\n",
    "    return predict"
   ]
  },
  {
   "cell_type": "code",
   "execution_count": 33,
   "metadata": {},
   "outputs": [],
   "source": [
    "def get_accurate(predict) :\n",
    "    accurate=0\n",
    "    predict=cal_test(test_df,beta)\n",
    "    for i in range(len(predict)) :\n",
    "        if predict[i][0] == predict[i][1] :\n",
    "            accurate+=1\n",
    "    return accurate/len(predict)"
   ]
  },
  {
   "cell_type": "code",
   "execution_count": 36,
   "metadata": {},
   "outputs": [],
   "source": [
    "def get_P_score(predict) :\n",
    "    TP,FP,FN=0,0,0\n",
    "    for i in range(len(predict)) :\n",
    "        if predict[i] == [1,1] :\n",
    "            TP+=1\n",
    "        elif predict[i] == [1,0] :\n",
    "            FP+=1\n",
    "        elif predict[i] == [0,1] :\n",
    "            FN+=1\n",
    "    return TP/(TP+FP)"
   ]
  },
  {
   "cell_type": "code",
   "execution_count": 35,
   "metadata": {},
   "outputs": [],
   "source": [
    "def get_R_score(predict) :\n",
    "    TP,FP,FN=0,0,0\n",
    "    for i in range(len(predict)) :\n",
    "        if predict[i] == [1,1] :\n",
    "            TP+=1\n",
    "        elif predict[i] == [1,0] :\n",
    "            FP+=1\n",
    "        elif predict[i] == [0,1] :\n",
    "            FN+=1\n",
    "    return TP/(TP+FN)"
   ]
  },
  {
   "cell_type": "code",
   "execution_count": 40,
   "metadata": {},
   "outputs": [],
   "source": [
    "def f1_score(predict) :\n",
    "    R=get_R_score(predict)\n",
    "    P=get_P_score(predict)\n",
    "    return 2*P*R/(P+R)"
   ]
  },
  {
   "cell_type": "code",
   "execution_count": 37,
   "metadata": {},
   "outputs": [
    {
     "data": {
      "text/plain": [
       "0.8391608391608392"
      ]
     },
     "execution_count": 37,
     "metadata": {},
     "output_type": "execute_result"
    }
   ],
   "source": [
    "get_accurate(predict)"
   ]
  },
  {
   "cell_type": "code",
   "execution_count": 38,
   "metadata": {},
   "outputs": [
    {
     "data": {
      "text/plain": [
       "0.8166666666666667"
      ]
     },
     "execution_count": 38,
     "metadata": {},
     "output_type": "execute_result"
    }
   ],
   "source": [
    "get_P_score(predict)"
   ]
  },
  {
   "cell_type": "code",
   "execution_count": 39,
   "metadata": {},
   "outputs": [
    {
     "data": {
      "text/plain": [
       "0.98989898989899"
      ]
     },
     "execution_count": 39,
     "metadata": {},
     "output_type": "execute_result"
    }
   ],
   "source": [
    "get_R_score(predict)"
   ]
  },
  {
   "cell_type": "code",
   "execution_count": 41,
   "metadata": {},
   "outputs": [
    {
     "data": {
      "text/plain": [
       "0.8949771689497718"
      ]
     },
     "execution_count": 41,
     "metadata": {},
     "output_type": "execute_result"
    }
   ],
   "source": [
    "f1_score(predict)"
   ]
  },
  {
   "cell_type": "code",
   "execution_count": 171,
   "metadata": {},
   "outputs": [],
   "source": [
    "from Logistic import LogisticRegression\n",
    "import matplotlib.pyplot as plt\n",
    "\n",
    "################################################################################\n",
    "# TODO:                                                                        #\n",
    "# Task4 train your model and plot the loss curve of training\n",
    "# You need to complete the Logistic.py file\n",
    "# model = LogisticRegression()\n",
    "################################################################################\n",
    "\n",
    "\n",
    "################################################################################\n",
    "#                                 END OF YOUR CODE                             #\n",
    "################################################################################"
   ]
  },
  {
   "cell_type": "markdown",
   "metadata": {},
   "source": [
    "## Test"
   ]
  },
  {
   "cell_type": "code",
   "execution_count": null,
   "metadata": {},
   "outputs": [],
   "source": [
    "################################################################################\n",
    "# TODO:                                                                        #\n",
    "# Task5 compare the accuracy(or other metrics you want) of test data with different parameters you train with\n",
    "################################################################################\n",
    "\n",
    "\n",
    "\n",
    "\n",
    "################################################################################\n",
    "#                                 END OF YOUR CODE                             #\n",
    "################################################################################"
   ]
  }
 ],
 "metadata": {
  "kernelspec": {
   "display_name": "Python 3 (ipykernel)",
   "language": "python",
   "name": "python3"
  },
  "language_info": {
   "codemirror_mode": {
    "name": "ipython",
    "version": 3
   },
   "file_extension": ".py",
   "mimetype": "text/x-python",
   "name": "python",
   "nbconvert_exporter": "python",
   "pygments_lexer": "ipython3",
   "version": "3.9.7"
  },
  "vscode": {
   "interpreter": {
    "hash": "429c4da532d5a49305ad374da5bd9411413fc9c5f93bdb5e51c34bc796003ebd"
   }
  }
 },
 "nbformat": 4,
 "nbformat_minor": 2
}
