{
 "cells": [
  {
   "cell_type": "code",
   "execution_count": 1,
   "id": "92d937c4",
   "metadata": {
    "ExecuteTime": {
     "end_time": "2024-01-31T04:56:27.784919Z",
     "start_time": "2024-01-31T04:56:26.004137Z"
    }
   },
   "outputs": [],
   "source": [
    "import json\n",
    "import pandas as pd\n",
    "import numpy as np\n",
    "import datetime as dt\n",
    "import seaborn as sns\n",
    "import math\n",
    "import plotly.express as px\n",
    "from plotly.subplots import make_subplots\n",
    "import plotly.graph_objs as go\n",
    "from sklearn.model_selection import train_test_split\n",
    "from sklearn.preprocessing import StandardScaler\n",
    "from sklearn.neural_network import MLPClassifier\n",
    "from sklearn.model_selection import KFold\n",
    "from sklearn.model_selection import KFold,StratifiedKFold\n",
    "from sklearn.metrics import accuracy_score\n",
    "from sklearn.neural_network import MLPClassifier\n",
    "from sklearn.neighbors import KNeighborsClassifier\n",
    "from imblearn.over_sampling import RandomOverSampler\n",
    "from imblearn.over_sampling import SMOTE,ADASYN\n",
    "from collections import Counter \n",
    "from sklearn.metrics import f1_score \n",
    "from imblearn.under_sampling import ClusterCentroids\n",
    "from sklearn.tree import DecisionTreeClassifier  \n",
    "from sklearn import svm  \n",
    "from sklearn.linear_model import LinearRegression \n",
    "from sklearn.linear_model import LogisticRegression  \n",
    "from sklearn.metrics import accuracy_score \n",
    "import xgboost as xgb "
   ]
  },
  {
   "cell_type": "code",
   "execution_count": 2,
   "id": "1709cf71",
   "metadata": {
    "ExecuteTime": {
     "end_time": "2024-01-31T04:56:28.457933Z",
     "start_time": "2024-01-31T04:56:27.786937Z"
    }
   },
   "outputs": [
    {
     "name": "stdout",
     "output_type": "stream",
     "text": [
      "drop NULL 100% column\n"
     ]
    }
   ],
   "source": [
    "df = pd.read_json('train.json')\n",
    "df_test = pd.read_json('test.json')\n",
    "df = pd.concat([df['user'].apply(pd.Series), df.drop('user', axis = 1)], axis = 1)\n",
    "df_test = pd.concat([df_test['user'].apply(pd.Series), df_test.drop('user', axis = 1)], axis = 1)\n",
    "df = df.drop('entities', axis = 1)\n",
    "df_test = df_test.drop('entities', axis = 1)\n",
    "print('drop NULL 100% column')\n",
    "df = df.drop(['utc_offset','time_zone'], axis = 1)\n",
    "df_test = df_test.drop(['utc_offset','time_zone'], axis = 1)\n",
    "#去除所有缺失的列\n",
    "df = df.drop([column_obj for column_obj in df.columns if \"url\" in column_obj or \"color\" in column_obj], axis = 1)\n",
    "df_test = df_test.drop([column_obj for column_obj in df_test.columns if \"url\" in column_obj or \"color\" in column_obj], axis = 1)\n",
    "#去除所有包含url的列"
   ]
  },
  {
   "cell_type": "code",
   "execution_count": 3,
   "id": "ed888264",
   "metadata": {
    "ExecuteTime": {
     "end_time": "2024-01-31T04:56:28.472932Z",
     "start_time": "2024-01-31T04:56:28.459927Z"
    }
   },
   "outputs": [
    {
     "name": "stdout",
     "output_type": "stream",
     "text": [
      "<class 'pandas.core.frame.DataFrame'>\n",
      "RangeIndex: 1986 entries, 0 to 1985\n",
      "Data columns (total 30 columns):\n",
      " #   Column                        Non-Null Count  Dtype              \n",
      "---  ------                        --------------  -----              \n",
      " 0   id                            1986 non-null   int64              \n",
      " 1   id_str                        1986 non-null   object             \n",
      " 2   name                          1986 non-null   object             \n",
      " 3   screen_name                   1986 non-null   object             \n",
      " 4   location                      1986 non-null   object             \n",
      " 5   description                   1986 non-null   object             \n",
      " 6   protected                     1986 non-null   bool               \n",
      " 7   followers_count               1986 non-null   int64              \n",
      " 8   friends_count                 1986 non-null   int64              \n",
      " 9   listed_count                  1986 non-null   int64              \n",
      " 10  created_at                    1986 non-null   object             \n",
      " 11  favourites_count              1986 non-null   int64              \n",
      " 12  geo_enabled                   1986 non-null   bool               \n",
      " 13  verified                      1986 non-null   bool               \n",
      " 14  statuses_count                1986 non-null   int64              \n",
      " 15  lang                          1986 non-null   object             \n",
      " 16  contributors_enabled          1986 non-null   bool               \n",
      " 17  is_translator                 1986 non-null   bool               \n",
      " 18  is_translation_enabled        1986 non-null   bool               \n",
      " 19  profile_background_tile       1986 non-null   bool               \n",
      " 20  profile_use_background_image  1986 non-null   bool               \n",
      " 21  has_extended_profile          1986 non-null   bool               \n",
      " 22  default_profile               1986 non-null   bool               \n",
      " 23  default_profile_image         1986 non-null   bool               \n",
      " 24  following                     1986 non-null   bool               \n",
      " 25  follow_request_sent           1986 non-null   bool               \n",
      " 26  notifications                 1986 non-null   bool               \n",
      " 27  translator_type               1986 non-null   object             \n",
      " 28  created_at                    1986 non-null   datetime64[ns, UTC]\n",
      " 29  label                         1986 non-null   object             \n",
      "dtypes: bool(14), datetime64[ns, UTC](1), int64(6), object(9)\n",
      "memory usage: 275.5+ KB\n"
     ]
    }
   ],
   "source": [
    "df.info() #展示数据信息，查看是否存在缺失值·"
   ]
  },
  {
   "cell_type": "code",
   "execution_count": 4,
   "id": "75b0f514",
   "metadata": {
    "ExecuteTime": {
     "end_time": "2024-01-31T04:56:28.488928Z",
     "start_time": "2024-01-31T04:56:28.475931Z"
    }
   },
   "outputs": [
    {
     "name": "stdout",
     "output_type": "stream",
     "text": [
      "Part of missing values for every column\n",
      "id                              0.0\n",
      "id_str                          0.0\n",
      "name                            0.0\n",
      "screen_name                     0.0\n",
      "location                        0.0\n",
      "description                     0.0\n",
      "protected                       0.0\n",
      "followers_count                 0.0\n",
      "friends_count                   0.0\n",
      "listed_count                    0.0\n",
      "created_at                      0.0\n",
      "favourites_count                0.0\n",
      "geo_enabled                     0.0\n",
      "verified                        0.0\n",
      "statuses_count                  0.0\n",
      "lang                            0.0\n",
      "contributors_enabled            0.0\n",
      "is_translator                   0.0\n",
      "is_translation_enabled          0.0\n",
      "profile_background_tile         0.0\n",
      "profile_use_background_image    0.0\n",
      "has_extended_profile            0.0\n",
      "default_profile                 0.0\n",
      "default_profile_image           0.0\n",
      "following                       0.0\n",
      "follow_request_sent             0.0\n",
      "notifications                   0.0\n",
      "translator_type                 0.0\n",
      "created_at                      0.0\n",
      "label                           0.0\n",
      "dtype: float64\n"
     ]
    }
   ],
   "source": [
    "print('Part of missing values for every column')\n",
    "print(df.isnull().sum() / len(df))"
   ]
  },
  {
   "cell_type": "code",
   "execution_count": 5,
   "id": "818ea422",
   "metadata": {
    "ExecuteTime": {
     "end_time": "2024-01-31T04:56:28.504927Z",
     "start_time": "2024-01-31T04:56:28.490927Z"
    }
   },
   "outputs": [],
   "source": [
    "df = df.drop(['id','id_str','name','screen_name','created_at',\n",
    "              'description','location','protected','follow_request_sent',\n",
    "              'notifications','contributors_enabled'],axis=1)\n",
    "df_test = df_test.drop(['id','id_str','name','screen_name','created_at',\n",
    "              'description','location','protected','follow_request_sent',\n",
    "              'notifications','contributors_enabled'],axis=1)"
   ]
  },
  {
   "cell_type": "code",
   "execution_count": 6,
   "id": "026d8cbf",
   "metadata": {
    "ExecuteTime": {
     "end_time": "2024-01-31T04:56:28.521001Z",
     "start_time": "2024-01-31T04:56:28.506927Z"
    }
   },
   "outputs": [
    {
     "name": "stdout",
     "output_type": "stream",
     "text": [
      "<class 'pandas.core.frame.DataFrame'>\n",
      "RangeIndex: 1986 entries, 0 to 1985\n",
      "Data columns (total 18 columns):\n",
      " #   Column                        Non-Null Count  Dtype \n",
      "---  ------                        --------------  ----- \n",
      " 0   followers_count               1986 non-null   int64 \n",
      " 1   friends_count                 1986 non-null   int64 \n",
      " 2   listed_count                  1986 non-null   int64 \n",
      " 3   favourites_count              1986 non-null   int64 \n",
      " 4   geo_enabled                   1986 non-null   bool  \n",
      " 5   verified                      1986 non-null   bool  \n",
      " 6   statuses_count                1986 non-null   int64 \n",
      " 7   lang                          1986 non-null   object\n",
      " 8   is_translator                 1986 non-null   bool  \n",
      " 9   is_translation_enabled        1986 non-null   bool  \n",
      " 10  profile_background_tile       1986 non-null   bool  \n",
      " 11  profile_use_background_image  1986 non-null   bool  \n",
      " 12  has_extended_profile          1986 non-null   bool  \n",
      " 13  default_profile               1986 non-null   bool  \n",
      " 14  default_profile_image         1986 non-null   bool  \n",
      " 15  following                     1986 non-null   bool  \n",
      " 16  translator_type               1986 non-null   object\n",
      " 17  label                         1986 non-null   object\n",
      "dtypes: bool(10), int64(5), object(3)\n",
      "memory usage: 143.6+ KB\n"
     ]
    }
   ],
   "source": [
    "df.info()"
   ]
  },
  {
   "cell_type": "code",
   "execution_count": 7,
   "id": "b0cb61cc",
   "metadata": {
    "ExecuteTime": {
     "end_time": "2024-01-31T04:56:28.568007Z",
     "start_time": "2024-01-31T04:56:28.522930Z"
    }
   },
   "outputs": [],
   "source": [
    "i = 0\n",
    "dict_lang = {}\n",
    "for obj in set(list(df[\"lang\"])) :\n",
    "    dict_lang[obj] = i\n",
    "    i += 1\n",
    "def fun_change(arg):\n",
    "    if arg == True or arg == \"regular\" or arg == \"human\":\n",
    "        return 1\n",
    "    elif arg == False or arg == \"none\" or arg == \"bot\":\n",
    "        return 0\n",
    "    elif arg == \"badged\" :\n",
    "        return -1\n",
    "    else :\n",
    "        return arg\n",
    "def fun_change_lang(arg):\n",
    "    if arg in dict_lang.keys():\n",
    "        return dict_lang[arg]\n",
    "    elif type(arg) == str :\n",
    "        return -1\n",
    "    else :\n",
    "        return float(arg)\n",
    "df = df.applymap(fun_change)\n",
    "df_test = df_test.applymap(fun_change)\n",
    "df = df.applymap(fun_change_lang)\n",
    "df_test = df_test.applymap(fun_change_lang)"
   ]
  },
  {
   "cell_type": "code",
   "execution_count": 8,
   "id": "46880b93",
   "metadata": {
    "ExecuteTime": {
     "end_time": "2024-01-31T04:56:28.953926Z",
     "start_time": "2024-01-31T04:56:28.568926Z"
    }
   },
   "outputs": [
    {
     "data": {
      "text/plain": [
       "<AxesSubplot:>"
      ]
     },
     "execution_count": 8,
     "metadata": {},
     "output_type": "execute_result"
    },
    {
     "data": {
      "image/png": "[encoded data removed]",
      "text/plain": [
       "<Figure size 432x288 with 2 Axes>"
      ]
     },
     "metadata": {
      "needs_background": "light"
     },
     "output_type": "display_data"
    }
   ],
   "source": [
    "temp_df = df[[\"followers_count\",\"friends_count\",\"listed_count\",\n",
    "             \"favourites_count\",\"geo_enabled\",\"verified\",\"statuses_count\",\"lang\",\"label\"]]\n",
    "corr=temp_df.corr()\n",
    "sns.heatmap(corr,xticklabels=corr.columns.values,yticklabels=corr.columns.values,annot=True,annot_kws={'size':9})"
   ]
  },
  {
   "cell_type": "code",
   "execution_count": 9,
   "id": "3d64b66e",
   "metadata": {
    "ExecuteTime": {
     "end_time": "2024-01-31T04:56:29.380103Z",
     "start_time": "2024-01-31T04:56:28.957927Z"
    }
   },
   "outputs": [
    {
     "data": {
      "text/plain": [
       "<AxesSubplot:>"
      ]
     },
     "execution_count": 9,
     "metadata": {},
     "output_type": "execute_result"
    },
    {
     "data": {
      "image/png": "[encoded data removed]",
      "text/plain": [
       "<Figure size 432x288 with 2 Axes>"
      ]
     },
     "metadata": {
      "needs_background": "light"
     },
     "output_type": "display_data"
    }
   ],
   "source": [
    "temp_df = df[[\"is_translator\",\"is_translation_enabled\",\"profile_background_tile\",\"profile_use_background_image\",\n",
    "              \"has_extended_profile\",\"default_profile\",\"default_profile_image\",\"following\",\"translator_type\",\"label\"]]\n",
    "corr=temp_df.corr()\n",
    "sns.heatmap(corr,xticklabels=corr.columns.values,yticklabels=corr.columns.values,annot=True,annot_kws={'size':9})"
   ]
  },
  {
   "cell_type": "code",
   "execution_count": 10,
   "id": "3a0363c4",
   "metadata": {
    "ExecuteTime": {
     "end_time": "2024-01-31T04:56:29.395112Z",
     "start_time": "2024-01-31T04:56:29.382114Z"
    }
   },
   "outputs": [],
   "source": [
    "def neur_(chosen_list,data,n,m,max_iter_,k_fold) :\n",
    "    kf = StratifiedKFold(n_splits = k_fold,random_state=2023,shuffle=True)\n",
    "    X=np.array(data[chosen_list])\n",
    "    y=np.array(data[\"label\"])\n",
    "    scaler = StandardScaler()\n",
    "    #oversample = RandomOverSampler(sampling_strategy=1) #过采样\n",
    "    ave_f1_score=0\n",
    "    k=0\n",
    "    acc_aver=0\n",
    "    list_pred_neur = []\n",
    "    list_test_pred = []\n",
    "    for train,valid in kf.split(X,y) :\n",
    "        X_train=np.array(X)[train]\n",
    "        y_train=np.array(y)[train]\n",
    "        X_test =np.array(X)[valid]\n",
    "        y_test=np.array(y)[valid]\n",
    "        scaler.fit(X_train)\n",
    "        X_train = scaler.transform(X_train)\n",
    "        X_test = scaler.transform(X_test)\n",
    "        #X_train_over, y_train_over = oversample.fit_resample(X_train, y_train) #在X，y中进行过采样\n",
    "        mlp=MLPClassifier(alpha=0, hidden_layer_sizes=(m, n), random_state=1,max_iter=max_iter_) #构造神经网络\n",
    "        #mlp.fit(X_train_over,y_train_over) #利用训练集进行神经网络训练\n",
    "        mlp.fit(X_train,y_train) #利用训练集进行神经网络训练\n",
    "        y_pred = mlp.predict(X_test) #利用预测集进行预测\n",
    "        ave_f1_score+=f1_score(y_test, y_pred)\n",
    "        acc_aver+=accuracy_score(y_test, y_pred)\n",
    "        print('Accuracy: %f' % accuracy_score(y_test, y_pred))\n",
    "        print('F1-score: %f' % f1_score(y_test, y_pred))\n",
    "        list_pred_neur.append(y_pred)\n",
    "        list_test_pred.append(y_test)\n",
    "    return [acc_aver/k_fold,ave_f1_score/k_fold],list_pred_neur,list_test_pred"
   ]
  },
  {
   "cell_type": "code",
   "execution_count": 11,
   "id": "f7b4ed0f",
   "metadata": {
    "ExecuteTime": {
     "end_time": "2024-01-31T04:56:45.423331Z",
     "start_time": "2024-01-31T04:56:29.397113Z"
    }
   },
   "outputs": [
    {
     "name": "stdout",
     "output_type": "stream",
     "text": [
      "Accuracy: 0.718593\n",
      "F1-score: 0.765690\n",
      "Accuracy: 0.758186\n",
      "F1-score: 0.798319\n",
      "Accuracy: 0.738035\n",
      "F1-score: 0.783333\n",
      "Accuracy: 0.795970\n",
      "F1-score: 0.825806\n",
      "Accuracy: 0.738035\n",
      "F1-score: 0.772926\n",
      "[0.7497639330152019, 0.7892150506877013]\n"
     ]
    }
   ],
   "source": [
    "# neur_([\"followers_count\",\"friends_count\",\"listed_count\",\n",
    "#        \"favourites_count\",\"geo_enabled\",\"verified\",\"statuses_count\",\n",
    "#        \"lang\",\"is_translator\",\"is_translation_enabled\",\"profile_background_tile\",\n",
    "#        \"has_extended_profile\",\"default_profile\",\n",
    "#        \"default_profile_image\",\"following\",\"translator_type\"],df,100,30,10000)\n",
    "aver_neur,list_pred_neur,list_test_pred = neur_([\"listed_count\",\n",
    "       \"favourites_count\",\"geo_enabled\",\"verified\",\"statuses_count\",\n",
    "       \"lang\",\n",
    "       \"has_extended_profile\"],df,100,30,1000,5)\n",
    "print(aver_neur)"
   ]
  },
  {
   "cell_type": "code",
   "execution_count": 12,
   "id": "a708418a",
   "metadata": {
    "ExecuteTime": {
     "end_time": "2024-01-31T04:56:45.438467Z",
     "start_time": "2024-01-31T04:56:45.424332Z"
    }
   },
   "outputs": [],
   "source": [
    "def DecisionTree(chosen_list,data,k_fold) :\n",
    "    kf = StratifiedKFold(n_splits = k_fold,random_state=2023,shuffle=True)\n",
    "    X=np.array(data[chosen_list])\n",
    "    y=np.array(data[\"label\"])\n",
    "    scaler = StandardScaler()\n",
    "    #oversample = RandomOverSampler(sampling_strategy=1) #过采样\n",
    "    ave_f1_score=0\n",
    "    k=0\n",
    "    acc_aver=0\n",
    "    list_pred_neur = []\n",
    "    list_test_pred = []\n",
    "    for train,valid in kf.split(X,y) :\n",
    "        X_train=np.array(X)[train]\n",
    "        y_train=np.array(y)[train]\n",
    "        X_test =np.array(X)[valid]\n",
    "        y_test=np.array(y)[valid]\n",
    "        scaler.fit(X_train)\n",
    "        X_train = scaler.transform(X_train)\n",
    "        X_test = scaler.transform(X_test)\n",
    "        #X_train_over, y_train_over = oversample.fit_resample(X_train, y_train) #在X，y中进行过采样\n",
    "        clf = DecisionTreeClassifier(random_state = 2023) \n",
    "        clf.fit(X_train,y_train) #利用训练集进行神经网络训练\n",
    "        y_pred = clf.predict(X_test) #利用预测集进行预测\n",
    "        ave_f1_score+=f1_score(y_test, y_pred)\n",
    "        acc_aver+=accuracy_score(y_test, y_pred)\n",
    "        print('Accuracy: %f' % accuracy_score(y_test, y_pred))\n",
    "        print('F1-score: %f' % f1_score(y_test, y_pred))\n",
    "        list_pred_neur.append(y_pred)\n",
    "        list_test_pred.append(y_test)\n",
    "    return [acc_aver/k_fold,ave_f1_score/k_fold],list_pred_neur,list_test_pred"
   ]
  },
  {
   "cell_type": "code",
   "execution_count": 13,
   "id": "af713ded",
   "metadata": {
    "ExecuteTime": {
     "end_time": "2024-01-31T04:56:45.486474Z",
     "start_time": "2024-01-31T04:56:45.440480Z"
    }
   },
   "outputs": [
    {
     "name": "stdout",
     "output_type": "stream",
     "text": [
      "Accuracy: 0.690955\n",
      "F1-score: 0.724832\n",
      "Accuracy: 0.695214\n",
      "F1-score: 0.725624\n",
      "Accuracy: 0.690176\n",
      "F1-score: 0.726058\n",
      "Accuracy: 0.735516\n",
      "F1-score: 0.768212\n",
      "Accuracy: 0.695214\n",
      "F1-score: 0.729306\n",
      "[0.7014151361340708, 0.7348064224431777]\n"
     ]
    }
   ],
   "source": [
    "# clf_([\"followers_count\",\"friends_count\",\"listed_count\",\n",
    "#        \"favourites_count\",\"geo_enabled\",\"verified\",\"statuses_count\",\n",
    "#        \"lang\",\"is_translator\",\"is_translation_enabled\",\"profile_background_tile\",\n",
    "#        \"has_extended_profile\",\"default_profile\",\n",
    "#        \"default_profile_image\",\"following\",\"translator_type\"],df,5)\n",
    "aver_DecisionTree,list_pred_DecisionTree,list_test_pred = DecisionTree(\n",
    "    [ \"listed_count\",\"favourites_count\",\"geo_enabled\",\"statuses_count\"],df,5)\n",
    "print(aver_DecisionTree)"
   ]
  },
  {
   "cell_type": "code",
   "execution_count": 14,
   "id": "fee2ed82",
   "metadata": {
    "ExecuteTime": {
     "end_time": "2024-01-31T04:56:45.501920Z",
     "start_time": "2024-01-31T04:56:45.488470Z"
    }
   },
   "outputs": [],
   "source": [
    "def LogisticRegression_(chosen_list,data,k_fold) :\n",
    "    kf = StratifiedKFold(n_splits = k_fold,random_state=2023,shuffle=True)\n",
    "    X=np.array(data[chosen_list])\n",
    "    y=np.array(data[\"label\"])\n",
    "    scaler = StandardScaler()\n",
    "    #oversample = RandomOverSampler(sampling_strategy=1) #过采样\n",
    "    ave_f1_score=0\n",
    "    k=0\n",
    "    acc_aver=0\n",
    "    list_pred_neur = []\n",
    "    list_test_pred = []\n",
    "    for train,valid in kf.split(X,y) :\n",
    "        X_train=np.array(X)[train]\n",
    "        y_train=np.array(y)[train]\n",
    "        X_test =np.array(X)[valid]\n",
    "        y_test=np.array(y)[valid]\n",
    "        scaler.fit(X_train)\n",
    "        X_train = scaler.transform(X_train)\n",
    "        X_test = scaler.transform(X_test)\n",
    "        #X_train_over, y_train_over = oversample.fit_resample(X_train, y_train) #在X，y中进行过采样\n",
    "        clf =  LogisticRegression()  \n",
    "        clf.fit(X_train,y_train) #利用训练集进行神经网络训练\n",
    "        y_pred = clf.predict(X_test) #利用预测集进行预测\n",
    "        ave_f1_score+=f1_score(y_test, y_pred)\n",
    "        acc_aver+=accuracy_score(y_test, y_pred)\n",
    "        print('Accuracy: %f' % accuracy_score(y_test, y_pred))\n",
    "        print('F1-score: %f' % f1_score(y_test, y_pred))\n",
    "        list_pred_neur.append(y_pred)\n",
    "        list_test_pred.append(y_test)\n",
    "    return [acc_aver/k_fold,ave_f1_score/k_fold],list_pred_neur,list_test_pred"
   ]
  },
  {
   "cell_type": "code",
   "execution_count": 15,
   "id": "a486c190",
   "metadata": {
    "ExecuteTime": {
     "end_time": "2024-01-31T04:56:45.564012Z",
     "start_time": "2024-01-31T04:56:45.503108Z"
    }
   },
   "outputs": [
    {
     "name": "stdout",
     "output_type": "stream",
     "text": [
      "Accuracy: 0.748744\n",
      "F1-score: 0.793388\n",
      "Accuracy: 0.765743\n",
      "F1-score: 0.812877\n",
      "Accuracy: 0.758186\n",
      "F1-score: 0.808765\n",
      "Accuracy: 0.775819\n",
      "F1-score: 0.823062\n",
      "Accuracy: 0.743073\n",
      "F1-score: 0.789256\n",
      "[0.7583129754566282, 0.8054696924276789]\n"
     ]
    }
   ],
   "source": [
    "aver_LogisticRegression,list_pred_LogisticRegression,list_test_pred = LogisticRegression_([\"favourites_count\",\"geo_enabled\",\"verified\",\"statuses_count\",\n",
    "       \"is_translation_enabled\",\"profile_background_tile\",\n",
    "       \"has_extended_profile\",\"following\"],df,5)\n",
    "print(aver_LogisticRegression)"
   ]
  },
  {
   "cell_type": "code",
   "execution_count": 16,
   "id": "0209dbef",
   "metadata": {
    "ExecuteTime": {
     "end_time": "2024-01-31T04:56:45.579435Z",
     "start_time": "2024-01-31T04:56:45.565019Z"
    }
   },
   "outputs": [],
   "source": [
    "def Svm_(chosen_list,data,k_fold) :\n",
    "    kf = StratifiedKFold(n_splits = k_fold,random_state=2023,shuffle=True)\n",
    "    X=np.array(data[chosen_list])\n",
    "    y=np.array(data[\"label\"])\n",
    "    scaler = StandardScaler()\n",
    "    #oversample = RandomOverSampler(sampling_strategy=1) #过采样\n",
    "    ave_f1_score=0\n",
    "    k=0\n",
    "    acc_aver=0\n",
    "    list_pred_neur = []\n",
    "    list_test_pred = []\n",
    "    for train,valid in kf.split(X,y) :\n",
    "        X_train=np.array(X)[train]\n",
    "        y_train=np.array(y)[train]\n",
    "        X_test =np.array(X)[valid]\n",
    "        y_test=np.array(y)[valid]\n",
    "        scaler.fit(X_train)\n",
    "        X_train = scaler.transform(X_train)\n",
    "        X_test = scaler.transform(X_test)\n",
    "        #X_train_over, y_train_over = oversample.fit_resample(X_train, y_train) #在X，y中进行过采样\n",
    "        clf = svm.SVC(kernel='linear',random_state=32) # 使用线性核函数\n",
    "        clf.fit(X_train,y_train) #利用训练集进行神经网络训练\n",
    "        y_pred = clf.predict(X_test) #利用预测集进行预测\n",
    "        ave_f1_score+=f1_score(y_test, y_pred)\n",
    "        acc_aver+=accuracy_score(y_test, y_pred)\n",
    "        print('Accuracy: %f' % accuracy_score(y_test, y_pred))\n",
    "        print('F1-score: %f' % f1_score(y_test, y_pred))\n",
    "        list_pred_neur.append(y_pred)\n",
    "        list_test_pred.append(y_test)\n",
    "    return [acc_aver/k_fold,ave_f1_score/k_fold],list_pred_neur,list_test_pred"
   ]
  },
  {
   "cell_type": "code",
   "execution_count": 17,
   "id": "d4f3c4bb",
   "metadata": {
    "ExecuteTime": {
     "end_time": "2024-01-31T04:56:45.925441Z",
     "start_time": "2024-01-31T04:56:45.580443Z"
    }
   },
   "outputs": [
    {
     "name": "stdout",
     "output_type": "stream",
     "text": [
      "Accuracy: 0.728643\n",
      "F1-score: 0.782258\n",
      "Accuracy: 0.760705\n",
      "F1-score: 0.811881\n",
      "Accuracy: 0.750630\n",
      "F1-score: 0.804734\n",
      "Accuracy: 0.768262\n",
      "F1-score: 0.821012\n",
      "Accuracy: 0.732997\n",
      "F1-score: 0.785425\n",
      "[0.7482475349037377, 0.8010619509623836]\n"
     ]
    }
   ],
   "source": [
    "aver_Svm,list_pred_Svm,list_test_pred = Svm_([ \"followers_count\",\"friends_count\",\n",
    "       \"favourites_count\",\"geo_enabled\",\"verified\",\"statuses_count\",\n",
    "       \"lang\",\"is_translation_enabled\",\"profile_background_tile\",\n",
    "       \"has_extended_profile\"],df,5)\n",
    "print(aver_Svm)"
   ]
  },
  {
   "cell_type": "code",
   "execution_count": 18,
   "id": "e98a081b",
   "metadata": {
    "ExecuteTime": {
     "end_time": "2024-01-31T04:56:45.941462Z",
     "start_time": "2024-01-31T04:56:45.928444Z"
    }
   },
   "outputs": [],
   "source": [
    "def Xgboost_(chosen_list,data,k_fold) :\n",
    "    kf = StratifiedKFold(n_splits = k_fold,random_state=2023,shuffle=True)\n",
    "    X=np.array(data[chosen_list])\n",
    "    y=np.array(data[\"label\"])\n",
    "    scaler = StandardScaler()\n",
    "    #oversample = RandomOverSampler(sampling_strategy=1) #过采样\n",
    "    ave_f1_score=0\n",
    "    k=0\n",
    "    acc_aver=0\n",
    "    list_pred_neur = []\n",
    "    list_test_pred = []\n",
    "    for train,valid in kf.split(X,y) :\n",
    "        X_train=np.array(X)[train]\n",
    "        y_train=np.array(y)[train]\n",
    "        X_test =np.array(X)[valid]\n",
    "        y_test=np.array(y)[valid]\n",
    "        scaler.fit(X_train)\n",
    "        X_train = scaler.transform(X_train)\n",
    "        X_test = scaler.transform(X_test)\n",
    "        #X_train_over, y_train_over = oversample.fit_resample(X_train, y_train) #在X，y中进行过采样\n",
    "        clf = xgb.XGBRegressor(objective='reg:squarederror', colsample_bytree=0.3, learning_rate=0.1,  \n",
    "                         max_depth=5, alpha=5, n_estimators=45,random_state=32)  \n",
    "        clf.fit(X_train,y_train) #利用训练集进行神经网络训练\n",
    "        y_pred = clf.predict(X_test) #利用预测集进行预测\n",
    "        y_pred = [int(temp+0.5) for temp in y_pred]\n",
    "        ave_f1_score+=f1_score(y_test, y_pred)\n",
    "        acc_aver+=accuracy_score(y_test, y_pred)\n",
    "        print('Accuracy: %f' % accuracy_score(y_test, y_pred))\n",
    "        print('F1-score: %f' % f1_score(y_test, y_pred))\n",
    "        list_pred_neur.append(y_pred)\n",
    "        list_test_pred.append(y_test)\n",
    "    return [acc_aver/k_fold,ave_f1_score/k_fold],list_pred_neur,list_test_pred"
   ]
  },
  {
   "cell_type": "code",
   "execution_count": 19,
   "id": "42ee2a7d",
   "metadata": {
    "ExecuteTime": {
     "end_time": "2024-01-31T04:56:46.111443Z",
     "start_time": "2024-01-31T04:56:45.943447Z"
    }
   },
   "outputs": [
    {
     "name": "stdout",
     "output_type": "stream",
     "text": [
      "Accuracy: 0.768844\n",
      "F1-score: 0.810700\n",
      "Accuracy: 0.780856\n",
      "F1-score: 0.820619\n",
      "Accuracy: 0.778338\n",
      "F1-score: 0.819672\n",
      "Accuracy: 0.831234\n",
      "F1-score: 0.862423\n",
      "Accuracy: 0.753149\n",
      "F1-score: 0.795833\n",
      "[0.7824842094604003, 0.8218493215211767]\n"
     ]
    }
   ],
   "source": [
    "aver_Xgboost,list_pred_Xgboost,list_test_pred = Xgboost_([\"followers_count\",\"friends_count\",\"listed_count\",\n",
    "       \"favourites_count\",\"geo_enabled\",\"verified\",\"statuses_count\",\n",
    "       \"lang\",\"is_translator\",\"is_translation_enabled\",\"profile_background_tile\",\n",
    "       \"has_extended_profile\",\n",
    "       \"default_profile_image\",\"following\",\"translator_type\"],df,5)\n",
    "print(aver_Xgboost)"
   ]
  },
  {
   "cell_type": "code",
   "execution_count": 29,
   "id": "f516e43f",
   "metadata": {
    "ExecuteTime": {
     "end_time": "2024-01-31T05:10:23.418689Z",
     "start_time": "2024-01-31T05:10:23.395334Z"
    }
   },
   "outputs": [
    {
     "name": "stdout",
     "output_type": "stream",
     "text": [
      "0.7336683417085427\n",
      "0.7707808564231738\n",
      "0.7632241813602015\n",
      "0.7732997481108312\n",
      "0.7455919395465995\n"
     ]
    }
   ],
   "source": [
    "for i in range(5) :\n",
    "    List_pred = []\n",
    "    for j in range(len(list_pred_Svm[i])) :\n",
    "        if(list_pred_Svm[i][j]+list_pred_Svm[i][j]+list_pred_LogisticRegression[i][j]+list_pred_DecisionTree[i][j]+list_pred_neur[i][j])>=3 :\n",
    "            List_pred.append(1)\n",
    "        else :\n",
    "            List_pred.append(0)\n",
    "    print(accuracy_score(List_pred,list_test_pred[i]))"
   ]
  },
  {
   "cell_type": "code",
   "execution_count": 23,
   "id": "9b77d7da",
   "metadata": {
    "ExecuteTime": {
     "end_time": "2024-01-31T05:08:16.025466Z",
     "start_time": "2024-01-31T05:08:16.016464Z"
    }
   },
   "outputs": [
    {
     "data": {
      "text/plain": [
       "array([0., 0., 0., 0., 0., 0., 0., 0., 0., 0., 0., 0., 0., 0., 0., 0., 0.,\n",
       "       0., 0., 0., 0., 0., 0., 0., 0., 0., 0., 0., 0., 0., 0., 0., 0., 0.,\n",
       "       0., 0., 0., 0., 0., 0., 0., 0., 0., 0., 0., 0., 0., 0., 0., 0., 0.,\n",
       "       0., 0., 0., 0., 0., 0., 0., 0., 0., 0., 0., 0., 0., 0., 0., 0., 0.,\n",
       "       0., 0., 0., 0., 0., 0., 0., 0., 0., 0., 0., 0., 0., 0., 0., 0., 0.,\n",
       "       0., 0., 0., 0., 0., 0., 0., 0., 0., 0., 0., 0., 0., 0., 0., 0., 0.,\n",
       "       0., 0., 0., 0., 0., 0., 0., 0., 0., 0., 0., 0., 0., 0., 0., 0., 0.,\n",
       "       0., 0., 0., 0., 0., 0., 0., 0., 0., 0., 0., 0., 0., 0., 0., 0., 0.,\n",
       "       0., 0., 0., 0., 0., 0., 0., 0., 0., 0., 0., 0., 0., 0., 0., 0., 0.,\n",
       "       0., 0., 0., 0., 0., 0., 0., 0., 0., 0., 0., 0., 0., 0., 0., 0., 0.,\n",
       "       0., 1., 1., 1., 1., 1., 1., 1., 1., 1., 1., 1., 1., 1., 1., 1., 1.,\n",
       "       1., 1., 1., 1., 1., 1., 1., 1., 1., 1., 1., 1., 1., 1., 1., 1., 1.,\n",
       "       1., 1., 1., 1., 1., 1., 1., 1., 1., 1., 1., 1., 1., 1., 1., 1., 1.,\n",
       "       1., 1., 1., 1., 1., 1., 1., 1., 1., 1., 1., 1., 1., 1., 1., 1., 1.,\n",
       "       1., 1., 1., 1., 1., 1., 1., 1., 1., 1., 1., 1., 1., 1., 1., 1., 1.,\n",
       "       1., 1., 1., 1., 1., 1., 1., 1., 1., 1., 1., 1., 1., 1., 1., 1., 1.,\n",
       "       1., 1., 1., 1., 1., 1., 1., 1., 1., 1., 1., 1., 1., 1., 1., 1., 1.,\n",
       "       1., 1., 1., 1., 1., 1., 1., 1., 1., 1., 1., 1., 1., 1., 1., 1., 1.,\n",
       "       1., 1., 1., 1., 1., 1., 1., 1., 1., 1., 1., 1., 1., 1., 1., 1., 1.,\n",
       "       1., 1., 1., 1., 1., 1., 1., 1., 1., 1., 1., 1., 1., 1., 1., 1., 1.,\n",
       "       1., 1., 1., 1., 1., 1., 1., 1., 1., 1., 1., 1., 1., 1., 1., 1., 1.,\n",
       "       1., 1., 1., 1., 1., 1., 1., 1., 1., 1., 1., 1., 1., 1., 1., 1., 1.,\n",
       "       1., 1., 1., 1., 1., 1., 1., 1., 1., 1., 1., 1., 1., 1., 1., 1., 1.,\n",
       "       1., 1., 1., 1., 1., 1.])"
      ]
     },
     "execution_count": 23,
     "metadata": {},
     "output_type": "execute_result"
    }
   ],
   "source": [
    "list_test_pred[1]"
   ]
  },
  {
   "cell_type": "code",
   "execution_count": null,
   "id": "73d105c0",
   "metadata": {},
   "outputs": [],
   "source": []
  }
 ],
 "metadata": {
  "kernelspec": {
   "display_name": "Python 3 (ipykernel)",
   "language": "python",
   "name": "python3"
  },
  "language_info": {
   "codemirror_mode": {
    "name": "ipython",
    "version": 3
   },
   "file_extension": ".py",
   "mimetype": "text/x-python",
   "name": "python",
   "nbconvert_exporter": "python",
   "pygments_lexer": "ipython3",
   "version": "3.9.7"
  }
 },
 "nbformat": 4,
 "nbformat_minor": 5
}
