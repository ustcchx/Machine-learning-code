{
 "cells": [
  {
   "cell_type": "markdown",
   "id": "c59e330a",
   "metadata": {},
   "source": [
    "## 一. 导入模块"
   ]
  },
  {
   "cell_type": "code",
   "execution_count": 1,
   "id": "92d937c4",
   "metadata": {
    "ExecuteTime": {
     "end_time": "2024-02-18T03:58:08.401207Z",
     "start_time": "2024-02-18T03:58:01.216148Z"
    }
   },
   "outputs": [],
   "source": [
    "import json\n",
    "import pandas as pd\n",
    "import numpy as np\n",
    "import datetime as dt\n",
    "import seaborn as sns\n",
    "import math\n",
    "from sklearn.model_selection import train_test_split\n",
    "from sklearn.preprocessing import StandardScaler\n",
    "from sklearn.neural_network import MLPClassifier\n",
    "from sklearn.model_selection import KFold,StratifiedKFold\n",
    "from sklearn.metrics import accuracy_score\n",
    "from sklearn.neural_network import MLPClassifier\n",
    "from sklearn.neighbors import KNeighborsClassifier\n",
    "from imblearn.over_sampling import RandomOverSampler\n",
    "from sklearn.naive_bayes import GaussianNB  \n",
    "from sklearn.naive_bayes import MultinomialNB  \n",
    "from imblearn.over_sampling import SMOTE,ADASYN\n",
    "from collections import Counter \n",
    "from sklearn.metrics import f1_score \n",
    "from imblearn.under_sampling import ClusterCentroids\n",
    "from sklearn.tree import DecisionTreeClassifier  \n",
    "from sklearn import svm  \n",
    "from sklearn.linear_model import LinearRegression \n",
    "from sklearn.linear_model import LogisticRegression  \n",
    "from sklearn.naive_bayes import BernoulliNB  \n",
    "from sklearn.metrics import accuracy_score \n",
    "from sklearn.manifold import TSNE\n",
    "import matplotlib.pyplot as plt  \n",
    "import xgboost as xgb \n",
    "kf = StratifiedKFold(n_splits = 5,random_state=2023,shuffle=True)\n",
    "# 用于交叉验证"
   ]
  },
  {
   "cell_type": "markdown",
   "id": "cd7520b4",
   "metadata": {},
   "source": [
    "## 二. 数据处理"
   ]
  },
  {
   "cell_type": "markdown",
   "id": "bcdf2bb3",
   "metadata": {},
   "source": [
    "主要处理字符串型数据和缺失数据以及不必要存在的数据（如序号ID之类）"
   ]
  },
  {
   "cell_type": "code",
   "execution_count": 2,
   "id": "1709cf71",
   "metadata": {
    "ExecuteTime": {
     "end_time": "2024-02-04T03:41:03.714335Z",
     "start_time": "2024-02-04T03:41:03.035812Z"
    }
   },
   "outputs": [],
   "source": [
    "df = pd.read_json('train.json')  # 训练数据\n",
    "df_test = pd.read_json('test.json') # 用于预测\n",
    "df_test_copy = pd.read_json('test.json') # 用于后续写入\n",
    "df = pd.concat([df['user'].apply(pd.Series), df.drop('user', axis = 1)], axis = 1)\n",
    "df_test = pd.concat([df_test['user'].apply(pd.Series), df_test.drop('user', axis = 1)], axis = 1)\n",
    "df = df.drop('entities', axis = 1)\n",
    "df_test = df_test.drop('entities', axis = 1)\n",
    "df = df.drop(['utc_offset','time_zone'], axis = 1)\n",
    "df_test = df_test.drop(['utc_offset','time_zone'], axis = 1)\n",
    "#去除所有缺失的列\n",
    "df = df.drop([column_obj for column_obj in df.columns if \"url\" in column_obj or \"color\" in column_obj], axis = 1)\n",
    "df_test = df_test.drop([column_obj for column_obj in df_test.columns if \"url\" in column_obj or \"color\" in column_obj], axis = 1)\n",
    "#去除所有包含url或者color的列"
   ]
  },
  {
   "cell_type": "code",
   "execution_count": 2,
   "id": "bd95515d",
   "metadata": {
    "ExecuteTime": {
     "end_time": "2024-02-18T03:58:19.518181Z",
     "start_time": "2024-02-18T03:58:19.129041Z"
    }
   },
   "outputs": [],
   "source": [
    "df = pd.read_json('train.json')  # 训练数据"
   ]
  },
  {
   "cell_type": "code",
   "execution_count": 3,
   "id": "3a485d49",
   "metadata": {
    "ExecuteTime": {
     "end_time": "2024-02-18T03:58:24.006297Z",
     "start_time": "2024-02-18T03:58:23.953219Z"
    }
   },
   "outputs": [
    {
     "data": {
      "text/html": [
       "<div>\n",
       "<style scoped>\n",
       "    .dataframe tbody tr th:only-of-type {\n",
       "        vertical-align: middle;\n",
       "    }\n",
       "\n",
       "    .dataframe tbody tr th {\n",
       "        vertical-align: top;\n",
       "    }\n",
       "\n",
       "    .dataframe thead th {\n",
       "        text-align: right;\n",
       "    }\n",
       "</style>\n",
       "<table border=\"1\" class=\"dataframe\">\n",
       "  <thead>\n",
       "    <tr style=\"text-align: right;\">\n",
       "      <th></th>\n",
       "      <th>created_at</th>\n",
       "      <th>user</th>\n",
       "      <th>label</th>\n",
       "    </tr>\n",
       "  </thead>\n",
       "  <tbody>\n",
       "    <tr>\n",
       "      <th>0</th>\n",
       "      <td>2019-01-20 03:36:01+00:00</td>\n",
       "      <td>{'id': 1318284638, 'id_str': '1318284638', 'na...</td>\n",
       "      <td>bot</td>\n",
       "    </tr>\n",
       "    <tr>\n",
       "      <th>1</th>\n",
       "      <td>2019-01-21 21:36:00+00:00</td>\n",
       "      <td>{'id': 17442457, 'id_str': '17442457', 'name':...</td>\n",
       "      <td>bot</td>\n",
       "    </tr>\n",
       "    <tr>\n",
       "      <th>2</th>\n",
       "      <td>2016-10-11 13:40:17+00:00</td>\n",
       "      <td>{'id': 102069605, 'id_str': '102069605', 'name...</td>\n",
       "      <td>bot</td>\n",
       "    </tr>\n",
       "    <tr>\n",
       "      <th>3</th>\n",
       "      <td>2019-01-21 18:42:38+00:00</td>\n",
       "      <td>{'id': 1367759732, 'id_str': '1367759732', 'na...</td>\n",
       "      <td>bot</td>\n",
       "    </tr>\n",
       "    <tr>\n",
       "      <th>4</th>\n",
       "      <td>2018-11-13 04:09:04+00:00</td>\n",
       "      <td>{'id': 2927879268, 'id_str': '2927879268', 'na...</td>\n",
       "      <td>bot</td>\n",
       "    </tr>\n",
       "    <tr>\n",
       "      <th>...</th>\n",
       "      <td>...</td>\n",
       "      <td>...</td>\n",
       "      <td>...</td>\n",
       "    </tr>\n",
       "    <tr>\n",
       "      <th>1981</th>\n",
       "      <td>2017-07-16 15:45:38+00:00</td>\n",
       "      <td>{'id': 464353156, 'id_str': '464353156', 'name...</td>\n",
       "      <td>human</td>\n",
       "    </tr>\n",
       "    <tr>\n",
       "      <th>1982</th>\n",
       "      <td>2019-01-21 21:55:19+00:00</td>\n",
       "      <td>{'id': 214891135, 'id_str': '214891135', 'name...</td>\n",
       "      <td>human</td>\n",
       "    </tr>\n",
       "    <tr>\n",
       "      <th>1983</th>\n",
       "      <td>2019-01-21 02:41:37+00:00</td>\n",
       "      <td>{'id': 247977754, 'id_str': '247977754', 'name...</td>\n",
       "      <td>human</td>\n",
       "    </tr>\n",
       "    <tr>\n",
       "      <th>1984</th>\n",
       "      <td>2019-01-21 12:52:24+00:00</td>\n",
       "      <td>{'id': 274251944, 'id_str': '274251944', 'name...</td>\n",
       "      <td>human</td>\n",
       "    </tr>\n",
       "    <tr>\n",
       "      <th>1985</th>\n",
       "      <td>2019-01-21 21:21:50+00:00</td>\n",
       "      <td>{'id': 628092930, 'id_str': '628092930', 'name...</td>\n",
       "      <td>human</td>\n",
       "    </tr>\n",
       "  </tbody>\n",
       "</table>\n",
       "<p>1986 rows × 3 columns</p>\n",
       "</div>"
      ],
      "text/plain": [
       "                    created_at   \n",
       "0    2019-01-20 03:36:01+00:00  \\\n",
       "1    2019-01-21 21:36:00+00:00   \n",
       "2    2016-10-11 13:40:17+00:00   \n",
       "3    2019-01-21 18:42:38+00:00   \n",
       "4    2018-11-13 04:09:04+00:00   \n",
       "...                        ...   \n",
       "1981 2017-07-16 15:45:38+00:00   \n",
       "1982 2019-01-21 21:55:19+00:00   \n",
       "1983 2019-01-21 02:41:37+00:00   \n",
       "1984 2019-01-21 12:52:24+00:00   \n",
       "1985 2019-01-21 21:21:50+00:00   \n",
       "\n",
       "                                                   user  label  \n",
       "0     {'id': 1318284638, 'id_str': '1318284638', 'na...    bot  \n",
       "1     {'id': 17442457, 'id_str': '17442457', 'name':...    bot  \n",
       "2     {'id': 102069605, 'id_str': '102069605', 'name...    bot  \n",
       "3     {'id': 1367759732, 'id_str': '1367759732', 'na...    bot  \n",
       "4     {'id': 2927879268, 'id_str': '2927879268', 'na...    bot  \n",
       "...                                                 ...    ...  \n",
       "1981  {'id': 464353156, 'id_str': '464353156', 'name...  human  \n",
       "1982  {'id': 214891135, 'id_str': '214891135', 'name...  human  \n",
       "1983  {'id': 247977754, 'id_str': '247977754', 'name...  human  \n",
       "1984  {'id': 274251944, 'id_str': '274251944', 'name...  human  \n",
       "1985  {'id': 628092930, 'id_str': '628092930', 'name...  human  \n",
       "\n",
       "[1986 rows x 3 columns]"
      ]
     },
     "execution_count": 3,
     "metadata": {},
     "output_type": "execute_result"
    }
   ],
   "source": [
    "df"
   ]
  },
  {
   "cell_type": "code",
   "execution_count": 4,
   "id": "7f65a7d0",
   "metadata": {
    "ExecuteTime": {
     "end_time": "2024-02-18T03:58:37.255296Z",
     "start_time": "2024-02-18T03:58:36.831340Z"
    }
   },
   "outputs": [],
   "source": [
    "df = pd.concat([df['user'].apply(pd.Series), df.drop('user', axis = 1)], axis = 1)"
   ]
  },
  {
   "cell_type": "code",
   "execution_count": 5,
   "id": "ee29f97d",
   "metadata": {
    "ExecuteTime": {
     "end_time": "2024-02-18T03:58:42.268985Z",
     "start_time": "2024-02-18T03:58:42.217179Z"
    }
   },
   "outputs": [
    {
     "data": {
      "text/html": [
       "<div>\n",
       "<style scoped>\n",
       "    .dataframe tbody tr th:only-of-type {\n",
       "        vertical-align: middle;\n",
       "    }\n",
       "\n",
       "    .dataframe tbody tr th {\n",
       "        vertical-align: top;\n",
       "    }\n",
       "\n",
       "    .dataframe thead th {\n",
       "        text-align: right;\n",
       "    }\n",
       "</style>\n",
       "<table border=\"1\" class=\"dataframe\">\n",
       "  <thead>\n",
       "    <tr style=\"text-align: right;\">\n",
       "      <th></th>\n",
       "      <th>id</th>\n",
       "      <th>id_str</th>\n",
       "      <th>name</th>\n",
       "      <th>screen_name</th>\n",
       "      <th>location</th>\n",
       "      <th>description</th>\n",
       "      <th>url</th>\n",
       "      <th>entities</th>\n",
       "      <th>protected</th>\n",
       "      <th>followers_count</th>\n",
       "      <th>...</th>\n",
       "      <th>profile_use_background_image</th>\n",
       "      <th>has_extended_profile</th>\n",
       "      <th>default_profile</th>\n",
       "      <th>default_profile_image</th>\n",
       "      <th>following</th>\n",
       "      <th>follow_request_sent</th>\n",
       "      <th>notifications</th>\n",
       "      <th>translator_type</th>\n",
       "      <th>created_at</th>\n",
       "      <th>label</th>\n",
       "    </tr>\n",
       "  </thead>\n",
       "  <tbody>\n",
       "    <tr>\n",
       "      <th>0</th>\n",
       "      <td>1318284638</td>\n",
       "      <td>1318284638</td>\n",
       "      <td>Syed Haider Naqvi</td>\n",
       "      <td>HNakvi</td>\n",
       "      <td>Islamabad</td>\n",
       "      <td></td>\n",
       "      <td>None</td>\n",
       "      <td>{'description': {'urls': []}}</td>\n",
       "      <td>False</td>\n",
       "      <td>28533</td>\n",
       "      <td>...</td>\n",
       "      <td>True</td>\n",
       "      <td>False</td>\n",
       "      <td>True</td>\n",
       "      <td>False</td>\n",
       "      <td>False</td>\n",
       "      <td>False</td>\n",
       "      <td>False</td>\n",
       "      <td>none</td>\n",
       "      <td>2019-01-20 03:36:01+00:00</td>\n",
       "      <td>bot</td>\n",
       "    </tr>\n",
       "    <tr>\n",
       "      <th>1</th>\n",
       "      <td>17442457</td>\n",
       "      <td>17442457</td>\n",
       "      <td>Cleveland Clinic MD</td>\n",
       "      <td>CleClinicMD</td>\n",
       "      <td>Cleveland, Ohio, United States</td>\n",
       "      <td>News and insights for physicians and clinical ...</td>\n",
       "      <td>https://t.co/IxMra2OEey</td>\n",
       "      <td>{'url': {'urls': [{'url': 'https://t.co/IxMra2...</td>\n",
       "      <td>False</td>\n",
       "      <td>299192</td>\n",
       "      <td>...</td>\n",
       "      <td>True</td>\n",
       "      <td>False</td>\n",
       "      <td>False</td>\n",
       "      <td>False</td>\n",
       "      <td>False</td>\n",
       "      <td>False</td>\n",
       "      <td>False</td>\n",
       "      <td>none</td>\n",
       "      <td>2019-01-21 21:36:00+00:00</td>\n",
       "      <td>bot</td>\n",
       "    </tr>\n",
       "    <tr>\n",
       "      <th>2</th>\n",
       "      <td>102069605</td>\n",
       "      <td>102069605</td>\n",
       "      <td>2NE1 TV</td>\n",
       "      <td>2NE1tv</td>\n",
       "      <td>Seoul</td>\n",
       "      <td>We tweet about 2NE1's video and photo. It’s 2N...</td>\n",
       "      <td>None</td>\n",
       "      <td>{'description': {'urls': []}}</td>\n",
       "      <td>False</td>\n",
       "      <td>89051</td>\n",
       "      <td>...</td>\n",
       "      <td>True</td>\n",
       "      <td>False</td>\n",
       "      <td>False</td>\n",
       "      <td>False</td>\n",
       "      <td>False</td>\n",
       "      <td>False</td>\n",
       "      <td>False</td>\n",
       "      <td>none</td>\n",
       "      <td>2016-10-11 13:40:17+00:00</td>\n",
       "      <td>bot</td>\n",
       "    </tr>\n",
       "    <tr>\n",
       "      <th>3</th>\n",
       "      <td>1367759732</td>\n",
       "      <td>1367759732</td>\n",
       "      <td>Alastair de kretser</td>\n",
       "      <td>Alastairkretser</td>\n",
       "      <td>England</td>\n",
       "      <td>Travel, tech and stuff 😀</td>\n",
       "      <td>None</td>\n",
       "      <td>{'description': {'urls': []}}</td>\n",
       "      <td>False</td>\n",
       "      <td>43211</td>\n",
       "      <td>...</td>\n",
       "      <td>True</td>\n",
       "      <td>True</td>\n",
       "      <td>False</td>\n",
       "      <td>False</td>\n",
       "      <td>False</td>\n",
       "      <td>False</td>\n",
       "      <td>False</td>\n",
       "      <td>none</td>\n",
       "      <td>2019-01-21 18:42:38+00:00</td>\n",
       "      <td>bot</td>\n",
       "    </tr>\n",
       "    <tr>\n",
       "      <th>4</th>\n",
       "      <td>2927879268</td>\n",
       "      <td>2927879268</td>\n",
       "      <td>Gran Horóscopo</td>\n",
       "      <td>GranHoroscopo</td>\n",
       "      <td>México - Argentina</td>\n",
       "      <td>Tu mejor prediccion diaria ORIGINAL para todos...</td>\n",
       "      <td>https://t.co/rDVUTyCn9E</td>\n",
       "      <td>{'url': {'urls': [{'url': 'https://t.co/rDVUTy...</td>\n",
       "      <td>False</td>\n",
       "      <td>113300</td>\n",
       "      <td>...</td>\n",
       "      <td>True</td>\n",
       "      <td>False</td>\n",
       "      <td>True</td>\n",
       "      <td>False</td>\n",
       "      <td>False</td>\n",
       "      <td>False</td>\n",
       "      <td>False</td>\n",
       "      <td>regular</td>\n",
       "      <td>2018-11-13 04:09:04+00:00</td>\n",
       "      <td>bot</td>\n",
       "    </tr>\n",
       "    <tr>\n",
       "      <th>...</th>\n",
       "      <td>...</td>\n",
       "      <td>...</td>\n",
       "      <td>...</td>\n",
       "      <td>...</td>\n",
       "      <td>...</td>\n",
       "      <td>...</td>\n",
       "      <td>...</td>\n",
       "      <td>...</td>\n",
       "      <td>...</td>\n",
       "      <td>...</td>\n",
       "      <td>...</td>\n",
       "      <td>...</td>\n",
       "      <td>...</td>\n",
       "      <td>...</td>\n",
       "      <td>...</td>\n",
       "      <td>...</td>\n",
       "      <td>...</td>\n",
       "      <td>...</td>\n",
       "      <td>...</td>\n",
       "      <td>...</td>\n",
       "      <td>...</td>\n",
       "    </tr>\n",
       "    <tr>\n",
       "      <th>1981</th>\n",
       "      <td>464353156</td>\n",
       "      <td>464353156</td>\n",
       "      <td>Biα ♐️</td>\n",
       "      <td>Biia_Amaraal1</td>\n",
       "      <td>Artur Nogueira</td>\n",
       "      <td>👻 bia.amarall/ ♐️</td>\n",
       "      <td>None</td>\n",
       "      <td>{'description': {'urls': []}}</td>\n",
       "      <td>False</td>\n",
       "      <td>912</td>\n",
       "      <td>...</td>\n",
       "      <td>True</td>\n",
       "      <td>True</td>\n",
       "      <td>False</td>\n",
       "      <td>False</td>\n",
       "      <td>False</td>\n",
       "      <td>False</td>\n",
       "      <td>False</td>\n",
       "      <td>none</td>\n",
       "      <td>2017-07-16 15:45:38+00:00</td>\n",
       "      <td>human</td>\n",
       "    </tr>\n",
       "    <tr>\n",
       "      <th>1982</th>\n",
       "      <td>214891135</td>\n",
       "      <td>214891135</td>\n",
       "      <td>Brooke Marie</td>\n",
       "      <td>BrookeMarieCam</td>\n",
       "      <td>🤱🏼</td>\n",
       "      <td>Welcome! I specialize in Adult (18+) Custom Vi...</td>\n",
       "      <td>https://t.co/uAZ5LhUnNT</td>\n",
       "      <td>{'url': {'urls': [{'url': 'https://t.co/uAZ5Lh...</td>\n",
       "      <td>False</td>\n",
       "      <td>113402</td>\n",
       "      <td>...</td>\n",
       "      <td>False</td>\n",
       "      <td>True</td>\n",
       "      <td>False</td>\n",
       "      <td>False</td>\n",
       "      <td>False</td>\n",
       "      <td>False</td>\n",
       "      <td>False</td>\n",
       "      <td>none</td>\n",
       "      <td>2019-01-21 21:55:19+00:00</td>\n",
       "      <td>human</td>\n",
       "    </tr>\n",
       "    <tr>\n",
       "      <th>1983</th>\n",
       "      <td>247977754</td>\n",
       "      <td>247977754</td>\n",
       "      <td>Bianca 🌴</td>\n",
       "      <td>biancabizb_</td>\n",
       "      <td>Arauco, Chile</td>\n",
       "      <td>18  •  🐾💘</td>\n",
       "      <td>https://t.co/Qfnt0mOUG3</td>\n",
       "      <td>{'url': {'urls': [{'url': 'https://t.co/Qfnt0m...</td>\n",
       "      <td>False</td>\n",
       "      <td>1285</td>\n",
       "      <td>...</td>\n",
       "      <td>True</td>\n",
       "      <td>True</td>\n",
       "      <td>False</td>\n",
       "      <td>False</td>\n",
       "      <td>False</td>\n",
       "      <td>False</td>\n",
       "      <td>False</td>\n",
       "      <td>regular</td>\n",
       "      <td>2019-01-21 02:41:37+00:00</td>\n",
       "      <td>human</td>\n",
       "    </tr>\n",
       "    <tr>\n",
       "      <th>1984</th>\n",
       "      <td>274251944</td>\n",
       "      <td>274251944</td>\n",
       "      <td>Cameen</td>\n",
       "      <td>Cameen23</td>\n",
       "      <td>New England, Brooklyn-NY</td>\n",
       "      <td>New England Music Awards Top five Artist Of Th...</td>\n",
       "      <td>https://t.co/vhcGaX7t9m</td>\n",
       "      <td>{'url': {'urls': [{'url': 'https://t.co/vhcGaX...</td>\n",
       "      <td>False</td>\n",
       "      <td>48561</td>\n",
       "      <td>...</td>\n",
       "      <td>True</td>\n",
       "      <td>False</td>\n",
       "      <td>False</td>\n",
       "      <td>False</td>\n",
       "      <td>False</td>\n",
       "      <td>False</td>\n",
       "      <td>False</td>\n",
       "      <td>none</td>\n",
       "      <td>2019-01-21 12:52:24+00:00</td>\n",
       "      <td>human</td>\n",
       "    </tr>\n",
       "    <tr>\n",
       "      <th>1985</th>\n",
       "      <td>628092930</td>\n",
       "      <td>628092930</td>\n",
       "      <td>Joven Poeta ღ</td>\n",
       "      <td>CitasDePoeta</td>\n",
       "      <td>Latinoamerica</td>\n",
       "      <td>Créeme, lo pudimos ser todo incluso cuando no ...</td>\n",
       "      <td>None</td>\n",
       "      <td>{'description': {'urls': []}}</td>\n",
       "      <td>False</td>\n",
       "      <td>102646</td>\n",
       "      <td>...</td>\n",
       "      <td>True</td>\n",
       "      <td>True</td>\n",
       "      <td>False</td>\n",
       "      <td>False</td>\n",
       "      <td>False</td>\n",
       "      <td>False</td>\n",
       "      <td>False</td>\n",
       "      <td>regular</td>\n",
       "      <td>2019-01-21 21:21:50+00:00</td>\n",
       "      <td>human</td>\n",
       "    </tr>\n",
       "  </tbody>\n",
       "</table>\n",
       "<p>1986 rows × 44 columns</p>\n",
       "</div>"
      ],
      "text/plain": [
       "              id      id_str                 name      screen_name   \n",
       "0     1318284638  1318284638    Syed Haider Naqvi           HNakvi  \\\n",
       "1       17442457    17442457  Cleveland Clinic MD      CleClinicMD   \n",
       "2      102069605   102069605              2NE1 TV           2NE1tv   \n",
       "3     1367759732  1367759732  Alastair de kretser  Alastairkretser   \n",
       "4     2927879268  2927879268       Gran Horóscopo    GranHoroscopo   \n",
       "...          ...         ...                  ...              ...   \n",
       "1981   464353156   464353156               Biα ♐️    Biia_Amaraal1   \n",
       "1982   214891135   214891135         Brooke Marie   BrookeMarieCam   \n",
       "1983   247977754   247977754             Bianca 🌴      biancabizb_   \n",
       "1984   274251944   274251944               Cameen         Cameen23   \n",
       "1985   628092930   628092930        Joven Poeta ღ     CitasDePoeta   \n",
       "\n",
       "                            location   \n",
       "0                          Islamabad  \\\n",
       "1     Cleveland, Ohio, United States   \n",
       "2                              Seoul   \n",
       "3                            England   \n",
       "4                 México - Argentina   \n",
       "...                              ...   \n",
       "1981                  Artur Nogueira   \n",
       "1982                              🤱🏼   \n",
       "1983                   Arauco, Chile   \n",
       "1984        New England, Brooklyn-NY   \n",
       "1985                   Latinoamerica   \n",
       "\n",
       "                                            description   \n",
       "0                                                        \\\n",
       "1     News and insights for physicians and clinical ...   \n",
       "2     We tweet about 2NE1's video and photo. It’s 2N...   \n",
       "3                              Travel, tech and stuff 😀   \n",
       "4     Tu mejor prediccion diaria ORIGINAL para todos...   \n",
       "...                                                 ...   \n",
       "1981                                  👻 bia.amarall/ ♐️   \n",
       "1982  Welcome! I specialize in Adult (18+) Custom Vi...   \n",
       "1983                                          18  •  🐾💘   \n",
       "1984  New England Music Awards Top five Artist Of Th...   \n",
       "1985  Créeme, lo pudimos ser todo incluso cuando no ...   \n",
       "\n",
       "                          url   \n",
       "0                        None  \\\n",
       "1     https://t.co/IxMra2OEey   \n",
       "2                        None   \n",
       "3                        None   \n",
       "4     https://t.co/rDVUTyCn9E   \n",
       "...                       ...   \n",
       "1981                     None   \n",
       "1982  https://t.co/uAZ5LhUnNT   \n",
       "1983  https://t.co/Qfnt0mOUG3   \n",
       "1984  https://t.co/vhcGaX7t9m   \n",
       "1985                     None   \n",
       "\n",
       "                                               entities  protected   \n",
       "0                         {'description': {'urls': []}}      False  \\\n",
       "1     {'url': {'urls': [{'url': 'https://t.co/IxMra2...      False   \n",
       "2                         {'description': {'urls': []}}      False   \n",
       "3                         {'description': {'urls': []}}      False   \n",
       "4     {'url': {'urls': [{'url': 'https://t.co/rDVUTy...      False   \n",
       "...                                                 ...        ...   \n",
       "1981                      {'description': {'urls': []}}      False   \n",
       "1982  {'url': {'urls': [{'url': 'https://t.co/uAZ5Lh...      False   \n",
       "1983  {'url': {'urls': [{'url': 'https://t.co/Qfnt0m...      False   \n",
       "1984  {'url': {'urls': [{'url': 'https://t.co/vhcGaX...      False   \n",
       "1985                      {'description': {'urls': []}}      False   \n",
       "\n",
       "      followers_count  ...  profile_use_background_image   \n",
       "0               28533  ...                          True  \\\n",
       "1              299192  ...                          True   \n",
       "2               89051  ...                          True   \n",
       "3               43211  ...                          True   \n",
       "4              113300  ...                          True   \n",
       "...               ...  ...                           ...   \n",
       "1981              912  ...                          True   \n",
       "1982           113402  ...                         False   \n",
       "1983             1285  ...                          True   \n",
       "1984            48561  ...                          True   \n",
       "1985           102646  ...                          True   \n",
       "\n",
       "      has_extended_profile default_profile  default_profile_image following   \n",
       "0                    False            True                  False     False  \\\n",
       "1                    False           False                  False     False   \n",
       "2                    False           False                  False     False   \n",
       "3                     True           False                  False     False   \n",
       "4                    False            True                  False     False   \n",
       "...                    ...             ...                    ...       ...   \n",
       "1981                  True           False                  False     False   \n",
       "1982                  True           False                  False     False   \n",
       "1983                  True           False                  False     False   \n",
       "1984                 False           False                  False     False   \n",
       "1985                  True           False                  False     False   \n",
       "\n",
       "     follow_request_sent  notifications  translator_type   \n",
       "0                  False          False             none  \\\n",
       "1                  False          False             none   \n",
       "2                  False          False             none   \n",
       "3                  False          False             none   \n",
       "4                  False          False          regular   \n",
       "...                  ...            ...              ...   \n",
       "1981               False          False             none   \n",
       "1982               False          False             none   \n",
       "1983               False          False          regular   \n",
       "1984               False          False             none   \n",
       "1985               False          False          regular   \n",
       "\n",
       "                    created_at  label  \n",
       "0    2019-01-20 03:36:01+00:00    bot  \n",
       "1    2019-01-21 21:36:00+00:00    bot  \n",
       "2    2016-10-11 13:40:17+00:00    bot  \n",
       "3    2019-01-21 18:42:38+00:00    bot  \n",
       "4    2018-11-13 04:09:04+00:00    bot  \n",
       "...                        ...    ...  \n",
       "1981 2017-07-16 15:45:38+00:00  human  \n",
       "1982 2019-01-21 21:55:19+00:00  human  \n",
       "1983 2019-01-21 02:41:37+00:00  human  \n",
       "1984 2019-01-21 12:52:24+00:00  human  \n",
       "1985 2019-01-21 21:21:50+00:00  human  \n",
       "\n",
       "[1986 rows x 44 columns]"
      ]
     },
     "execution_count": 5,
     "metadata": {},
     "output_type": "execute_result"
    }
   ],
   "source": [
    "df"
   ]
  },
  {
   "cell_type": "code",
   "execution_count": 3,
   "id": "ed888264",
   "metadata": {
    "ExecuteTime": {
     "end_time": "2024-02-04T03:41:03.730272Z",
     "start_time": "2024-02-04T03:41:03.715277Z"
    }
   },
   "outputs": [
    {
     "name": "stdout",
     "output_type": "stream",
     "text": [
      "<class 'pandas.core.frame.DataFrame'>\n",
      "RangeIndex: 1986 entries, 0 to 1985\n",
      "Data columns (total 30 columns):\n",
      " #   Column                        Non-Null Count  Dtype              \n",
      "---  ------                        --------------  -----              \n",
      " 0   id                            1986 non-null   int64              \n",
      " 1   id_str                        1986 non-null   object             \n",
      " 2   name                          1986 non-null   object             \n",
      " 3   screen_name                   1986 non-null   object             \n",
      " 4   location                      1986 non-null   object             \n",
      " 5   description                   1986 non-null   object             \n",
      " 6   protected                     1986 non-null   bool               \n",
      " 7   followers_count               1986 non-null   int64              \n",
      " 8   friends_count                 1986 non-null   int64              \n",
      " 9   listed_count                  1986 non-null   int64              \n",
      " 10  created_at                    1986 non-null   object             \n",
      " 11  favourites_count              1986 non-null   int64              \n",
      " 12  geo_enabled                   1986 non-null   bool               \n",
      " 13  verified                      1986 non-null   bool               \n",
      " 14  statuses_count                1986 non-null   int64              \n",
      " 15  lang                          1986 non-null   object             \n",
      " 16  contributors_enabled          1986 non-null   bool               \n",
      " 17  is_translator                 1986 non-null   bool               \n",
      " 18  is_translation_enabled        1986 non-null   bool               \n",
      " 19  profile_background_tile       1986 non-null   bool               \n",
      " 20  profile_use_background_image  1986 non-null   bool               \n",
      " 21  has_extended_profile          1986 non-null   bool               \n",
      " 22  default_profile               1986 non-null   bool               \n",
      " 23  default_profile_image         1986 non-null   bool               \n",
      " 24  following                     1986 non-null   bool               \n",
      " 25  follow_request_sent           1986 non-null   bool               \n",
      " 26  notifications                 1986 non-null   bool               \n",
      " 27  translator_type               1986 non-null   object             \n",
      " 28  created_at                    1986 non-null   datetime64[ns, UTC]\n",
      " 29  label                         1986 non-null   object             \n",
      "dtypes: bool(14), datetime64[ns, UTC](1), int64(6), object(9)\n",
      "memory usage: 275.5+ KB\n"
     ]
    }
   ],
   "source": [
    "df.info() #展示数据信息，查看是否存在缺失值·"
   ]
  },
  {
   "cell_type": "code",
   "execution_count": 4,
   "id": "75b0f514",
   "metadata": {
    "ExecuteTime": {
     "end_time": "2024-02-04T03:41:03.745630Z",
     "start_time": "2024-02-04T03:41:03.732264Z"
    }
   },
   "outputs": [
    {
     "name": "stdout",
     "output_type": "stream",
     "text": [
      "Part of missing values for every column\n",
      "id                              0.0\n",
      "id_str                          0.0\n",
      "name                            0.0\n",
      "screen_name                     0.0\n",
      "location                        0.0\n",
      "description                     0.0\n",
      "protected                       0.0\n",
      "followers_count                 0.0\n",
      "friends_count                   0.0\n",
      "listed_count                    0.0\n",
      "created_at                      0.0\n",
      "favourites_count                0.0\n",
      "geo_enabled                     0.0\n",
      "verified                        0.0\n",
      "statuses_count                  0.0\n",
      "lang                            0.0\n",
      "contributors_enabled            0.0\n",
      "is_translator                   0.0\n",
      "is_translation_enabled          0.0\n",
      "profile_background_tile         0.0\n",
      "profile_use_background_image    0.0\n",
      "has_extended_profile            0.0\n",
      "default_profile                 0.0\n",
      "default_profile_image           0.0\n",
      "following                       0.0\n",
      "follow_request_sent             0.0\n",
      "notifications                   0.0\n",
      "translator_type                 0.0\n",
      "created_at                      0.0\n",
      "label                           0.0\n",
      "dtype: float64\n"
     ]
    }
   ],
   "source": [
    "print('Part of missing values for every column')\n",
    "print(df.isnull().sum() / len(df)) # 观察缺失情况"
   ]
  },
  {
   "cell_type": "code",
   "execution_count": 5,
   "id": "818ea422",
   "metadata": {
    "ExecuteTime": {
     "end_time": "2024-02-04T03:41:03.761726Z",
     "start_time": "2024-02-04T03:41:03.746633Z"
    }
   },
   "outputs": [],
   "source": [
    "df = df.drop(['id','id_str','name','screen_name','created_at',\n",
    "              'description','location','protected','follow_request_sent',\n",
    "              'notifications','contributors_enabled'],axis=1)\n",
    "df_test = df_test.drop(['id','id_str','name','screen_name','created_at',\n",
    "              'description','location','protected','follow_request_sent',\n",
    "              'notifications','contributors_enabled'],axis=1)\n",
    "# 去除一些没有必要且难以处理的列"
   ]
  },
  {
   "cell_type": "code",
   "execution_count": 6,
   "id": "b0cb61cc",
   "metadata": {
    "ExecuteTime": {
     "end_time": "2024-02-04T03:41:03.809247Z",
     "start_time": "2024-02-04T03:41:03.763635Z"
    }
   },
   "outputs": [],
   "source": [
    "i = 0\n",
    "dict_lang = {}\n",
    "for obj in set(list(df[\"lang\"])) :\n",
    "    dict_lang[obj] = i\n",
    "    i += 1\n",
    "def fun_change(arg):\n",
    "    if arg == True or arg == \"regular\" or arg == \"human\":\n",
    "        return 1\n",
    "    elif arg == False or arg == \"none\" or arg == \"bot\":\n",
    "        return 0\n",
    "    elif arg == \"badged\" :\n",
    "        return -1\n",
    "    else :\n",
    "        return arg\n",
    "def fun_change_lang(arg):\n",
    "    if arg in dict_lang.keys():\n",
    "        return dict_lang[arg]\n",
    "    elif type(arg) == str :\n",
    "        return -1\n",
    "    else :\n",
    "        return float(arg)\n",
    "# 以上用于字典映射，将离散的字符映射到连续的正整数\n",
    "df = df.applymap(fun_change)\n",
    "df_test = df_test.applymap(fun_change)\n",
    "df = df.applymap(fun_change_lang)\n",
    "df_test = df_test.applymap(fun_change_lang)\n",
    "# 将其全部转化为数字类型"
   ]
  },
  {
   "cell_type": "code",
   "execution_count": 148,
   "id": "d8f736bb",
   "metadata": {
    "ExecuteTime": {
     "end_time": "2024-02-04T06:43:50.496190Z",
     "start_time": "2024-02-04T06:43:50.446377Z"
    }
   },
   "outputs": [
    {
     "data": {
      "text/html": [
       "<div>\n",
       "<style scoped>\n",
       "    .dataframe tbody tr th:only-of-type {\n",
       "        vertical-align: middle;\n",
       "    }\n",
       "\n",
       "    .dataframe tbody tr th {\n",
       "        vertical-align: top;\n",
       "    }\n",
       "\n",
       "    .dataframe thead th {\n",
       "        text-align: right;\n",
       "    }\n",
       "</style>\n",
       "<table border=\"1\" class=\"dataframe\">\n",
       "  <thead>\n",
       "    <tr style=\"text-align: right;\">\n",
       "      <th></th>\n",
       "      <th>followers_count</th>\n",
       "      <th>friends_count</th>\n",
       "      <th>listed_count</th>\n",
       "      <th>favourites_count</th>\n",
       "      <th>geo_enabled</th>\n",
       "      <th>verified</th>\n",
       "      <th>statuses_count</th>\n",
       "      <th>lang</th>\n",
       "      <th>is_translator</th>\n",
       "      <th>is_translation_enabled</th>\n",
       "      <th>profile_background_tile</th>\n",
       "      <th>profile_use_background_image</th>\n",
       "      <th>has_extended_profile</th>\n",
       "      <th>default_profile</th>\n",
       "      <th>default_profile_image</th>\n",
       "      <th>following</th>\n",
       "      <th>translator_type</th>\n",
       "      <th>label</th>\n",
       "    </tr>\n",
       "  </thead>\n",
       "  <tbody>\n",
       "    <tr>\n",
       "      <th>0</th>\n",
       "      <td>28533.0</td>\n",
       "      <td>1164.0</td>\n",
       "      <td>45.0</td>\n",
       "      <td>6006.0</td>\n",
       "      <td>1.0</td>\n",
       "      <td>0.0</td>\n",
       "      <td>7446.0</td>\n",
       "      <td>8</td>\n",
       "      <td>0.0</td>\n",
       "      <td>0.0</td>\n",
       "      <td>0.0</td>\n",
       "      <td>1.0</td>\n",
       "      <td>0.0</td>\n",
       "      <td>1.0</td>\n",
       "      <td>0.0</td>\n",
       "      <td>0.0</td>\n",
       "      <td>0.0</td>\n",
       "      <td>0.0</td>\n",
       "    </tr>\n",
       "    <tr>\n",
       "      <th>1</th>\n",
       "      <td>299192.0</td>\n",
       "      <td>1721.0</td>\n",
       "      <td>1517.0</td>\n",
       "      <td>401.0</td>\n",
       "      <td>1.0</td>\n",
       "      <td>1.0</td>\n",
       "      <td>25344.0</td>\n",
       "      <td>8</td>\n",
       "      <td>0.0</td>\n",
       "      <td>0.0</td>\n",
       "      <td>0.0</td>\n",
       "      <td>1.0</td>\n",
       "      <td>0.0</td>\n",
       "      <td>0.0</td>\n",
       "      <td>0.0</td>\n",
       "      <td>0.0</td>\n",
       "      <td>0.0</td>\n",
       "      <td>0.0</td>\n",
       "    </tr>\n",
       "    <tr>\n",
       "      <th>2</th>\n",
       "      <td>89051.0</td>\n",
       "      <td>743.0</td>\n",
       "      <td>307.0</td>\n",
       "      <td>154.0</td>\n",
       "      <td>0.0</td>\n",
       "      <td>0.0</td>\n",
       "      <td>47479.0</td>\n",
       "      <td>4</td>\n",
       "      <td>0.0</td>\n",
       "      <td>0.0</td>\n",
       "      <td>0.0</td>\n",
       "      <td>1.0</td>\n",
       "      <td>0.0</td>\n",
       "      <td>0.0</td>\n",
       "      <td>0.0</td>\n",
       "      <td>0.0</td>\n",
       "      <td>0.0</td>\n",
       "      <td>0.0</td>\n",
       "    </tr>\n",
       "    <tr>\n",
       "      <th>3</th>\n",
       "      <td>43211.0</td>\n",
       "      <td>237.0</td>\n",
       "      <td>29.0</td>\n",
       "      <td>358.0</td>\n",
       "      <td>0.0</td>\n",
       "      <td>0.0</td>\n",
       "      <td>16586.0</td>\n",
       "      <td>8</td>\n",
       "      <td>0.0</td>\n",
       "      <td>0.0</td>\n",
       "      <td>1.0</td>\n",
       "      <td>1.0</td>\n",
       "      <td>1.0</td>\n",
       "      <td>0.0</td>\n",
       "      <td>0.0</td>\n",
       "      <td>0.0</td>\n",
       "      <td>0.0</td>\n",
       "      <td>0.0</td>\n",
       "    </tr>\n",
       "    <tr>\n",
       "      <th>4</th>\n",
       "      <td>113300.0</td>\n",
       "      <td>16422.0</td>\n",
       "      <td>112.0</td>\n",
       "      <td>37.0</td>\n",
       "      <td>1.0</td>\n",
       "      <td>0.0</td>\n",
       "      <td>70666.0</td>\n",
       "      <td>14</td>\n",
       "      <td>0.0</td>\n",
       "      <td>0.0</td>\n",
       "      <td>0.0</td>\n",
       "      <td>1.0</td>\n",
       "      <td>0.0</td>\n",
       "      <td>1.0</td>\n",
       "      <td>0.0</td>\n",
       "      <td>0.0</td>\n",
       "      <td>1.0</td>\n",
       "      <td>0.0</td>\n",
       "    </tr>\n",
       "    <tr>\n",
       "      <th>...</th>\n",
       "      <td>...</td>\n",
       "      <td>...</td>\n",
       "      <td>...</td>\n",
       "      <td>...</td>\n",
       "      <td>...</td>\n",
       "      <td>...</td>\n",
       "      <td>...</td>\n",
       "      <td>...</td>\n",
       "      <td>...</td>\n",
       "      <td>...</td>\n",
       "      <td>...</td>\n",
       "      <td>...</td>\n",
       "      <td>...</td>\n",
       "      <td>...</td>\n",
       "      <td>...</td>\n",
       "      <td>...</td>\n",
       "      <td>...</td>\n",
       "      <td>...</td>\n",
       "    </tr>\n",
       "    <tr>\n",
       "      <th>1981</th>\n",
       "      <td>912.0</td>\n",
       "      <td>439.0</td>\n",
       "      <td>0.0</td>\n",
       "      <td>1594.0</td>\n",
       "      <td>1.0</td>\n",
       "      <td>0.0</td>\n",
       "      <td>30501.0</td>\n",
       "      <td>3</td>\n",
       "      <td>0.0</td>\n",
       "      <td>0.0</td>\n",
       "      <td>1.0</td>\n",
       "      <td>1.0</td>\n",
       "      <td>1.0</td>\n",
       "      <td>0.0</td>\n",
       "      <td>0.0</td>\n",
       "      <td>0.0</td>\n",
       "      <td>0.0</td>\n",
       "      <td>1.0</td>\n",
       "    </tr>\n",
       "    <tr>\n",
       "      <th>1982</th>\n",
       "      <td>113402.0</td>\n",
       "      <td>85.0</td>\n",
       "      <td>452.0</td>\n",
       "      <td>15349.0</td>\n",
       "      <td>0.0</td>\n",
       "      <td>0.0</td>\n",
       "      <td>35623.0</td>\n",
       "      <td>8</td>\n",
       "      <td>0.0</td>\n",
       "      <td>0.0</td>\n",
       "      <td>1.0</td>\n",
       "      <td>0.0</td>\n",
       "      <td>1.0</td>\n",
       "      <td>0.0</td>\n",
       "      <td>0.0</td>\n",
       "      <td>0.0</td>\n",
       "      <td>0.0</td>\n",
       "      <td>1.0</td>\n",
       "    </tr>\n",
       "    <tr>\n",
       "      <th>1983</th>\n",
       "      <td>1285.0</td>\n",
       "      <td>944.0</td>\n",
       "      <td>7.0</td>\n",
       "      <td>5568.0</td>\n",
       "      <td>1.0</td>\n",
       "      <td>0.0</td>\n",
       "      <td>39747.0</td>\n",
       "      <td>14</td>\n",
       "      <td>0.0</td>\n",
       "      <td>0.0</td>\n",
       "      <td>1.0</td>\n",
       "      <td>1.0</td>\n",
       "      <td>1.0</td>\n",
       "      <td>0.0</td>\n",
       "      <td>0.0</td>\n",
       "      <td>0.0</td>\n",
       "      <td>1.0</td>\n",
       "      <td>1.0</td>\n",
       "    </tr>\n",
       "    <tr>\n",
       "      <th>1984</th>\n",
       "      <td>48561.0</td>\n",
       "      <td>16802.0</td>\n",
       "      <td>56.0</td>\n",
       "      <td>4425.0</td>\n",
       "      <td>1.0</td>\n",
       "      <td>0.0</td>\n",
       "      <td>6917.0</td>\n",
       "      <td>8</td>\n",
       "      <td>0.0</td>\n",
       "      <td>0.0</td>\n",
       "      <td>0.0</td>\n",
       "      <td>1.0</td>\n",
       "      <td>0.0</td>\n",
       "      <td>0.0</td>\n",
       "      <td>0.0</td>\n",
       "      <td>0.0</td>\n",
       "      <td>0.0</td>\n",
       "      <td>1.0</td>\n",
       "    </tr>\n",
       "    <tr>\n",
       "      <th>1985</th>\n",
       "      <td>102646.0</td>\n",
       "      <td>39725.0</td>\n",
       "      <td>213.0</td>\n",
       "      <td>107562.0</td>\n",
       "      <td>0.0</td>\n",
       "      <td>0.0</td>\n",
       "      <td>15448.0</td>\n",
       "      <td>14</td>\n",
       "      <td>0.0</td>\n",
       "      <td>0.0</td>\n",
       "      <td>0.0</td>\n",
       "      <td>1.0</td>\n",
       "      <td>1.0</td>\n",
       "      <td>0.0</td>\n",
       "      <td>0.0</td>\n",
       "      <td>0.0</td>\n",
       "      <td>1.0</td>\n",
       "      <td>1.0</td>\n",
       "    </tr>\n",
       "  </tbody>\n",
       "</table>\n",
       "<p>1986 rows × 18 columns</p>\n",
       "</div>"
      ],
      "text/plain": [
       "      followers_count  friends_count  listed_count  favourites_count   \n",
       "0             28533.0         1164.0          45.0            6006.0  \\\n",
       "1            299192.0         1721.0        1517.0             401.0   \n",
       "2             89051.0          743.0         307.0             154.0   \n",
       "3             43211.0          237.0          29.0             358.0   \n",
       "4            113300.0        16422.0         112.0              37.0   \n",
       "...               ...            ...           ...               ...   \n",
       "1981            912.0          439.0           0.0            1594.0   \n",
       "1982         113402.0           85.0         452.0           15349.0   \n",
       "1983           1285.0          944.0           7.0            5568.0   \n",
       "1984          48561.0        16802.0          56.0            4425.0   \n",
       "1985         102646.0        39725.0         213.0          107562.0   \n",
       "\n",
       "      geo_enabled  verified  statuses_count  lang  is_translator   \n",
       "0             1.0       0.0          7446.0     8            0.0  \\\n",
       "1             1.0       1.0         25344.0     8            0.0   \n",
       "2             0.0       0.0         47479.0     4            0.0   \n",
       "3             0.0       0.0         16586.0     8            0.0   \n",
       "4             1.0       0.0         70666.0    14            0.0   \n",
       "...           ...       ...             ...   ...            ...   \n",
       "1981          1.0       0.0         30501.0     3            0.0   \n",
       "1982          0.0       0.0         35623.0     8            0.0   \n",
       "1983          1.0       0.0         39747.0    14            0.0   \n",
       "1984          1.0       0.0          6917.0     8            0.0   \n",
       "1985          0.0       0.0         15448.0    14            0.0   \n",
       "\n",
       "      is_translation_enabled  profile_background_tile   \n",
       "0                        0.0                      0.0  \\\n",
       "1                        0.0                      0.0   \n",
       "2                        0.0                      0.0   \n",
       "3                        0.0                      1.0   \n",
       "4                        0.0                      0.0   \n",
       "...                      ...                      ...   \n",
       "1981                     0.0                      1.0   \n",
       "1982                     0.0                      1.0   \n",
       "1983                     0.0                      1.0   \n",
       "1984                     0.0                      0.0   \n",
       "1985                     0.0                      0.0   \n",
       "\n",
       "      profile_use_background_image  has_extended_profile  default_profile   \n",
       "0                              1.0                   0.0              1.0  \\\n",
       "1                              1.0                   0.0              0.0   \n",
       "2                              1.0                   0.0              0.0   \n",
       "3                              1.0                   1.0              0.0   \n",
       "4                              1.0                   0.0              1.0   \n",
       "...                            ...                   ...              ...   \n",
       "1981                           1.0                   1.0              0.0   \n",
       "1982                           0.0                   1.0              0.0   \n",
       "1983                           1.0                   1.0              0.0   \n",
       "1984                           1.0                   0.0              0.0   \n",
       "1985                           1.0                   1.0              0.0   \n",
       "\n",
       "      default_profile_image  following  translator_type  label  \n",
       "0                       0.0        0.0              0.0    0.0  \n",
       "1                       0.0        0.0              0.0    0.0  \n",
       "2                       0.0        0.0              0.0    0.0  \n",
       "3                       0.0        0.0              0.0    0.0  \n",
       "4                       0.0        0.0              1.0    0.0  \n",
       "...                     ...        ...              ...    ...  \n",
       "1981                    0.0        0.0              0.0    1.0  \n",
       "1982                    0.0        0.0              0.0    1.0  \n",
       "1983                    0.0        0.0              1.0    1.0  \n",
       "1984                    0.0        0.0              0.0    1.0  \n",
       "1985                    0.0        0.0              1.0    1.0  \n",
       "\n",
       "[1986 rows x 18 columns]"
      ]
     },
     "execution_count": 148,
     "metadata": {},
     "output_type": "execute_result"
    }
   ],
   "source": [
    "df"
   ]
  },
  {
   "cell_type": "markdown",
   "id": "34d0f930",
   "metadata": {},
   "source": [
    "## 三. 相关性分析"
   ]
  },
  {
   "cell_type": "code",
   "execution_count": 7,
   "id": "46880b93",
   "metadata": {
    "ExecuteTime": {
     "end_time": "2024-02-04T03:41:04.173887Z",
     "start_time": "2024-02-04T03:41:03.811200Z"
    }
   },
   "outputs": [
    {
     "data": {
      "text/plain": [
       "<AxesSubplot:>"
      ]
     },
     "execution_count": 7,
     "metadata": {},
     "output_type": "execute_result"
    },
    {
     "data": {
      "image/png": "[encoded data removed]",
      "text/plain": [
       "<Figure size 432x288 with 2 Axes>"
      ]
     },
     "metadata": {
      "needs_background": "light"
     },
     "output_type": "display_data"
    }
   ],
   "source": [
    "temp_df = df[[\"followers_count\",\"friends_count\",\"listed_count\",\n",
    "             \"favourites_count\",\"geo_enabled\",\"verified\",\"statuses_count\",\"lang\",\"label\"]]\n",
    "corr=temp_df.corr()\n",
    "sns.heatmap(corr,xticklabels=corr.columns.values,yticklabels=corr.columns.values,annot=True,annot_kws={'size':9})\n",
    "# 观察特征的相关性"
   ]
  },
  {
   "cell_type": "code",
   "execution_count": 8,
   "id": "3d64b66e",
   "metadata": {
    "ExecuteTime": {
     "end_time": "2024-02-04T03:41:04.648818Z",
     "start_time": "2024-02-04T03:41:04.174809Z"
    }
   },
   "outputs": [
    {
     "data": {
      "text/plain": [
       "<AxesSubplot:>"
      ]
     },
     "execution_count": 8,
     "metadata": {},
     "output_type": "execute_result"
    },
    {
     "data": {
      "image/png": "[encoded data removed]",
      "text/plain": [
       "<Figure size 432x288 with 2 Axes>"
      ]
     },
     "metadata": {
      "needs_background": "light"
     },
     "output_type": "display_data"
    }
   ],
   "source": [
    "temp_df = df[[\"is_translator\",\"is_translation_enabled\",\"profile_background_tile\",\"profile_use_background_image\",\n",
    "              \"has_extended_profile\",\"default_profile\",\"default_profile_image\",\"following\",\"translator_type\",\"label\"]]\n",
    "corr=temp_df.corr()\n",
    "sns.heatmap(corr,xticklabels=corr.columns.values,yticklabels=corr.columns.values,annot=True,annot_kws={'size':8})"
   ]
  },
  {
   "cell_type": "markdown",
   "id": "a4a3414e",
   "metadata": {},
   "source": [
    "## 四. Label属性预测"
   ]
  },
  {
   "cell_type": "markdown",
   "id": "ecc412e2",
   "metadata": {},
   "source": [
    "### 多重感知机"
   ]
  },
  {
   "cell_type": "markdown",
   "id": "54834550",
   "metadata": {},
   "source": [
    "以下我们全部使用交叉验证的方式"
   ]
  },
  {
   "cell_type": "code",
   "execution_count": 14,
   "id": "3a0363c4",
   "metadata": {
    "ExecuteTime": {
     "end_time": "2024-02-04T03:41:34.433578Z",
     "start_time": "2024-02-04T03:41:34.423582Z"
    }
   },
   "outputs": [],
   "source": [
    "def neur_(chosen_list,data,n,m,max_iter_,k_fold) :\n",
    "    X=np.array(data[chosen_list])\n",
    "    y=np.array(data[\"label\"])\n",
    "    scaler = StandardScaler()\n",
    "    ave_f1_score,acc_aver=0,0\n",
    "    list_test_pred,list_pred_neur = [],[]\n",
    "    for train,valid in kf.split(X,y) :\n",
    "        X_train=np.array(X)[train]\n",
    "        y_train=np.array(y)[train]\n",
    "        X_test =np.array(X)[valid]\n",
    "        y_test=np.array(y)[valid]\n",
    "        scaler.fit(X_train)\n",
    "        X_train = scaler.transform(X_train)\n",
    "        X_test = scaler.transform(X_test)\n",
    "        mlp=MLPClassifier(activation='logistic', alpha=0, hidden_layer_sizes=(m, n), random_state=1,max_iter=max_iter_) #构造神经网络\n",
    "        mlp.fit(X_train,y_train)\n",
    "        y_pred = mlp.predict(X_test) \n",
    "        ave_f1_score+=f1_score(y_test, y_pred)\n",
    "        acc_aver+=accuracy_score(y_test, y_pred)\n",
    "        print('Accuracy: %f' % accuracy_score(y_test, y_pred))\n",
    "        print('F1-score: %f' % f1_score(y_test, y_pred))\n",
    "        list_pred_neur.append(y_pred)\n",
    "        list_test_pred.append(y_test)\n",
    "    return [acc_aver/k_fold,ave_f1_score/k_fold],list_pred_neur,list_test_pred"
   ]
  },
  {
   "cell_type": "code",
   "execution_count": 16,
   "id": "f7b4ed0f",
   "metadata": {
    "ExecuteTime": {
     "end_time": "2024-02-04T03:41:54.513631Z",
     "start_time": "2024-02-04T03:41:48.739379Z"
    }
   },
   "outputs": [
    {
     "name": "stdout",
     "output_type": "stream",
     "text": [
      "Accuracy: 0.731156\n",
      "F1-score: 0.780287\n",
      "Accuracy: 0.770781\n",
      "F1-score: 0.810811\n",
      "Accuracy: 0.755668\n",
      "F1-score: 0.804829\n",
      "Accuracy: 0.795970\n",
      "F1-score: 0.836364\n",
      "Accuracy: 0.740554\n",
      "F1-score: 0.782241\n",
      "[0.7588256142171816, 0.8029063820298618]\n"
     ]
    }
   ],
   "source": [
    "aver_neur,list_pred_neur,list_test_pred = neur_([\"listed_count\",\n",
    "       \"favourites_count\",\"geo_enabled\",\"verified\",\"statuses_count\",\n",
    "       \"lang\",\n",
    "       \"has_extended_profile\"],df,20,20,1000,5)\n",
    "print(aver_neur)"
   ]
  },
  {
   "cell_type": "markdown",
   "id": "683c6151",
   "metadata": {},
   "source": [
    "### 决策树"
   ]
  },
  {
   "cell_type": "code",
   "execution_count": 149,
   "id": "a708418a",
   "metadata": {
    "ExecuteTime": {
     "end_time": "2024-02-04T09:09:39.150371Z",
     "start_time": "2024-02-04T09:09:39.132459Z"
    }
   },
   "outputs": [],
   "source": [
    "def DecisionTree(chosen_list,data,k_fold) :\n",
    "    X=np.array(data[chosen_list])\n",
    "    y=np.array(data[\"label\"])\n",
    "    scaler = StandardScaler()\n",
    "    ave_f1_score,acc_aver=0,0\n",
    "    list_test_pred,list_pred_neur = [],[]\n",
    "    for train,valid in kf.split(X,y) :\n",
    "        X_train=np.array(X)[train]\n",
    "        y_train=np.array(y)[train]\n",
    "        X_test =np.array(X)[valid]\n",
    "        y_test=np.array(y)[valid]\n",
    "        scaler.fit(X_train)\n",
    "        X_train = scaler.transform(X_train)\n",
    "        X_test = scaler.transform(X_test)\n",
    "        clf = DecisionTreeClassifier(criterion='gini', min_samples_leaf=16, max_depth=6, random_state = 2024) \n",
    "        clf.fit(X_train,y_train)\n",
    "        y_pred = clf.predict(X_test) #利用预测集进行预测\n",
    "        ave_f1_score+=f1_score(y_test, y_pred)\n",
    "        acc_aver+=accuracy_score(y_test, y_pred)\n",
    "        print('Accuracy: %f' % accuracy_score(y_test, y_pred))\n",
    "        print('F1-score: %f' % f1_score(y_test, y_pred))\n",
    "        list_pred_neur.append(y_pred)\n",
    "        list_test_pred.append(y_test)\n",
    "    return [acc_aver/k_fold,ave_f1_score/k_fold],list_pred_neur,list_test_pred"
   ]
  },
  {
   "cell_type": "code",
   "execution_count": 150,
   "id": "af713ded",
   "metadata": {
    "ExecuteTime": {
     "end_time": "2024-02-04T09:09:40.880253Z",
     "start_time": "2024-02-04T09:09:40.806234Z"
    }
   },
   "outputs": [
    {
     "name": "stdout",
     "output_type": "stream",
     "text": [
      "Accuracy: 0.746231\n",
      "F1-score: 0.785563\n",
      "Accuracy: 0.730479\n",
      "F1-score: 0.770878\n",
      "Accuracy: 0.745592\n",
      "F1-score: 0.792608\n",
      "Accuracy: 0.785894\n",
      "F1-score: 0.829659\n",
      "Accuracy: 0.732997\n",
      "F1-score: 0.775424\n",
      "[0.7482386744807158, 0.79082628546949]\n"
     ]
    }
   ],
   "source": [
    "aver_DecisionTree,list_pred_DecisionTree,list_test_pred = DecisionTree(\n",
    "    [ \"listed_count\",\"favourites_count\",\"geo_enabled\",\"statuses_count\"],df,5)\n",
    "print(aver_DecisionTree)"
   ]
  },
  {
   "cell_type": "markdown",
   "id": "7fb93217",
   "metadata": {},
   "source": [
    "### 逻辑回归"
   ]
  },
  {
   "cell_type": "code",
   "execution_count": 12,
   "id": "fee2ed82",
   "metadata": {
    "ExecuteTime": {
     "end_time": "2024-02-04T03:41:15.018564Z",
     "start_time": "2024-02-04T03:41:15.008662Z"
    }
   },
   "outputs": [],
   "source": [
    "def LogisticRegression_(chosen_list,data,k_fold) :\n",
    "    X=np.array(data[chosen_list])\n",
    "    y=np.array(data[\"label\"])\n",
    "    scaler = StandardScaler()\n",
    "    ave_f1_score,acc_aver=0,0\n",
    "    list_test_pred,list_pred_neur = [],[]\n",
    "    for train,valid in kf.split(X,y) :\n",
    "        X_train=np.array(X)[train]\n",
    "        y_train=np.array(y)[train]\n",
    "        X_test =np.array(X)[valid]\n",
    "        y_test=np.array(y)[valid]\n",
    "        scaler.fit(X_train)\n",
    "        X_train = scaler.transform(X_train)\n",
    "        X_test = scaler.transform(X_test)\n",
    "        clf =  LogisticRegression(penalty='l1', C=0.9, solver='liblinear')  \n",
    "        clf.fit(X_train,y_train) \n",
    "        y_pred = clf.predict(X_test) #利用预测集进行预测\n",
    "        ave_f1_score+=f1_score(y_test, y_pred)\n",
    "        acc_aver+=accuracy_score(y_test, y_pred)\n",
    "        print('Accuracy: %f' % accuracy_score(y_test, y_pred))\n",
    "        print('F1-score: %f' % f1_score(y_test, y_pred))\n",
    "        list_pred_neur.append(y_pred)\n",
    "        list_test_pred.append(y_test)\n",
    "    return [acc_aver/k_fold,ave_f1_score/k_fold],list_pred_neur,list_test_pred"
   ]
  },
  {
   "cell_type": "code",
   "execution_count": 13,
   "id": "a486c190",
   "metadata": {
    "ExecuteTime": {
     "end_time": "2024-02-04T03:41:15.747791Z",
     "start_time": "2024-02-04T03:41:15.706032Z"
    }
   },
   "outputs": [
    {
     "name": "stdout",
     "output_type": "stream",
     "text": [
      "Accuracy: 0.748744\n",
      "F1-score: 0.793388\n",
      "Accuracy: 0.768262\n",
      "F1-score: 0.814516\n",
      "Accuracy: 0.763224\n",
      "F1-score: 0.813492\n",
      "Accuracy: 0.780856\n",
      "F1-score: 0.827723\n",
      "Accuracy: 0.748111\n",
      "F1-score: 0.793388\n",
      "[0.7618394238193487, 0.8085015648611362]\n"
     ]
    }
   ],
   "source": [
    "aver_LogisticRegression,list_pred_LogisticRegression,list_test_pred = LogisticRegression_([\"favourites_count\",\"geo_enabled\",\"verified\",\"statuses_count\",\n",
    "       \"is_translation_enabled\",\"profile_background_tile\",\n",
    "       \"has_extended_profile\",\"following\"],df,5)\n",
    "print(aver_LogisticRegression)"
   ]
  },
  {
   "cell_type": "markdown",
   "id": "647918d0",
   "metadata": {},
   "source": [
    "### 支持向量机"
   ]
  },
  {
   "cell_type": "code",
   "execution_count": 74,
   "id": "0209dbef",
   "metadata": {
    "ExecuteTime": {
     "end_time": "2024-02-04T03:59:22.498848Z",
     "start_time": "2024-02-04T03:59:22.480911Z"
    }
   },
   "outputs": [],
   "source": [
    "def Svm_(chosen_list,data,k_fold) :\n",
    "    X=np.array(data[chosen_list])\n",
    "    y=np.array(data[\"label\"])\n",
    "    scaler = StandardScaler()\n",
    "    ave_f1_score,acc_aver=0,0\n",
    "    list_test_pred,list_pred_neur = [],[]\n",
    "    for train,valid in kf.split(X,y) :\n",
    "        X_train=np.array(X)[train]\n",
    "        y_train=np.array(y)[train]\n",
    "        X_test =np.array(X)[valid]\n",
    "        y_test=np.array(y)[valid]\n",
    "        scaler.fit(X_train)\n",
    "        X_train = scaler.transform(X_train)\n",
    "        X_test = scaler.transform(X_test)\n",
    "        clf = svm.SVC(kernel='poly',random_state=32, degree=1) # 使用线性核函数\n",
    "        # clf = svm.SVC(kernel='rbf',random_state=32, gamma=0.016)\n",
    "        # clf = svm.SVC(kernel='sigmoid',random_state=32)\n",
    "        clf.fit(X_train,y_train)\n",
    "        y_pred = clf.predict(X_test) #利用预测集进行预测\n",
    "        ave_f1_score+=f1_score(y_test, y_pred)\n",
    "        acc_aver+=accuracy_score(y_test, y_pred)\n",
    "        print('Accuracy: %f' % accuracy_score(y_test, y_pred))\n",
    "        print('F1-score: %f' % f1_score(y_test, y_pred))\n",
    "        list_pred_neur.append(y_pred)\n",
    "        list_test_pred.append(y_test)\n",
    "    return [acc_aver/k_fold,ave_f1_score/k_fold],list_pred_neur,list_test_pred"
   ]
  },
  {
   "cell_type": "code",
   "execution_count": 75,
   "id": "d4f3c4bb",
   "metadata": {
    "ExecuteTime": {
     "end_time": "2024-02-04T03:59:23.605136Z",
     "start_time": "2024-02-04T03:59:23.373144Z"
    }
   },
   "outputs": [
    {
     "name": "stdout",
     "output_type": "stream",
     "text": [
      "Accuracy: 0.738693\n",
      "F1-score: 0.793651\n",
      "Accuracy: 0.758186\n",
      "F1-score: 0.813230\n",
      "Accuracy: 0.755668\n",
      "F1-score: 0.811650\n",
      "Accuracy: 0.768262\n",
      "F1-score: 0.823077\n",
      "Accuracy: 0.740554\n",
      "F1-score: 0.793587\n",
      "[0.75227269850512, 0.8070389896995487]\n"
     ]
    }
   ],
   "source": [
    "aver_Svm,list_pred_Svm,list_test_pred = Svm_([ \"followers_count\",\"friends_count\",\n",
    "       \"favourites_count\",\"geo_enabled\",\"verified\",\"statuses_count\",\n",
    "       \"lang\",\"is_translation_enabled\",\"profile_background_tile\",\n",
    "       \"has_extended_profile\"],df,5)\n",
    "print(aver_Svm)"
   ]
  },
  {
   "cell_type": "markdown",
   "id": "0943d0ae",
   "metadata": {},
   "source": [
    "### Xgboost"
   ]
  },
  {
   "cell_type": "code",
   "execution_count": 124,
   "id": "e98a081b",
   "metadata": {
    "ExecuteTime": {
     "end_time": "2024-02-04T04:33:17.223498Z",
     "start_time": "2024-02-04T04:33:17.202489Z"
    }
   },
   "outputs": [],
   "source": [
    "def Xgboost_(chosen_list,data,k_fold) :\n",
    "    X=np.array(data[chosen_list])\n",
    "    y=np.array(data[\"label\"])\n",
    "    scaler = StandardScaler()\n",
    "    ave_f1_score,acc_aver=0,0\n",
    "    list_test_pred,list_pred_neur = [],[]\n",
    "    for train,valid in kf.split(X,y) :\n",
    "        X_train=np.array(X)[train]\n",
    "        y_train=np.array(y)[train]\n",
    "        X_test =np.array(X)[valid]\n",
    "        y_test=np.array(y)[valid]\n",
    "        scaler.fit(X_train)\n",
    "        X_train = scaler.transform(X_train)\n",
    "        X_test = scaler.transform(X_test)\n",
    "        clf = xgb.XGBRegressor(objective='binary:logistic',colsample_bytree=0.5, learning_rate=0.2,  \n",
    "                         max_depth=15, alpha=5, n_estimators=150,random_state=32)  \n",
    "        clf.fit(X_train,y_train)\n",
    "        y_pred = clf.predict(X_test) #利用预测集进行预测\n",
    "        y_pred = [int(temp+0.5) for temp in y_pred]\n",
    "        ave_f1_score+=f1_score(y_test, y_pred)\n",
    "        acc_aver+=accuracy_score(y_test, y_pred)\n",
    "        print('Accuracy: %f' % accuracy_score(y_test, y_pred))\n",
    "        print('F1-score: %f' % f1_score(y_test, y_pred))\n",
    "        list_pred_neur.append(y_pred)\n",
    "        list_test_pred.append(y_test)\n",
    "    return [acc_aver/k_fold,ave_f1_score/k_fold],list_pred_neur,list_test_pred"
   ]
  },
  {
   "cell_type": "code",
   "execution_count": 125,
   "id": "42ee2a7d",
   "metadata": {
    "ExecuteTime": {
     "end_time": "2024-02-04T04:33:18.292642Z",
     "start_time": "2024-02-04T04:33:17.891643Z"
    }
   },
   "outputs": [
    {
     "name": "stdout",
     "output_type": "stream",
     "text": [
      "Accuracy: 0.791457\n",
      "F1-score: 0.823028\n",
      "Accuracy: 0.780856\n",
      "F1-score: 0.812903\n",
      "Accuracy: 0.788413\n",
      "F1-score: 0.826446\n",
      "Accuracy: 0.826196\n",
      "F1-score: 0.855950\n",
      "Accuracy: 0.748111\n",
      "F1-score: 0.785408\n",
      "[0.787006822525727, 0.8207469692572097]\n"
     ]
    }
   ],
   "source": [
    "aver_Xgboost,list_pred_Xgboost,list_test_pred = Xgboost_([\"followers_count\",\"friends_count\",\"listed_count\",\n",
    "       \"favourites_count\",\"geo_enabled\",\"verified\",\"statuses_count\",\n",
    "       \"lang\",\"is_translator\",\"is_translation_enabled\",\"profile_background_tile\",\n",
    "       \"has_extended_profile\",\n",
    "       \"default_profile_image\",\"following\",\"translator_type\"],df,5)\n",
    "print(aver_Xgboost)"
   ]
  },
  {
   "cell_type": "markdown",
   "id": "8565ae8f",
   "metadata": {},
   "source": [
    "### 贝叶斯分类器"
   ]
  },
  {
   "cell_type": "code",
   "execution_count": 146,
   "id": "ee72de92",
   "metadata": {
    "ExecuteTime": {
     "end_time": "2024-02-04T05:19:12.395856Z",
     "start_time": "2024-02-04T05:19:12.381940Z"
    }
   },
   "outputs": [],
   "source": [
    "def bayes_Ber_(chosen_list,data,k_fold) :\n",
    "    X=np.array(data[chosen_list])\n",
    "    y=np.array(data[\"label\"])\n",
    "    scaler = StandardScaler()\n",
    "    ave_f1_score,acc_aver=0,0\n",
    "    list_test_pred,list_pred_neur = [],[]\n",
    "    for train,valid in kf.split(X,y) :\n",
    "        X_train=np.array(X)[train]\n",
    "        y_train=np.array(y)[train]\n",
    "        X_test =np.array(X)[valid]\n",
    "        y_test=np.array(y)[valid]\n",
    "        scaler.fit(X_train)\n",
    "        X_train = scaler.transform(X_train)\n",
    "        X_test = scaler.transform(X_test)\n",
    "        clf = BernoulliNB()   \n",
    "        #clf = GaussianNB()\n",
    "        clf.fit(X_train,y_train)\n",
    "        y_pred = clf.predict(X_test) #利用预测集进行预测\n",
    "        y_pred = [int(temp+0.5) for temp in y_pred]\n",
    "        ave_f1_score+=f1_score(y_test, y_pred)\n",
    "        acc_aver+=accuracy_score(y_test, y_pred)\n",
    "        print('Accuracy: %f' % accuracy_score(y_test, y_pred))\n",
    "        print('F1-score: %f' % f1_score(y_test, y_pred))\n",
    "        list_pred_neur.append(y_pred)\n",
    "        list_test_pred.append(y_test)\n",
    "    return [acc_aver/k_fold,ave_f1_score/k_fold],list_pred_neur,list_test_pred"
   ]
  },
  {
   "cell_type": "code",
   "execution_count": 147,
   "id": "ac66e6fb",
   "metadata": {
    "ExecuteTime": {
     "end_time": "2024-02-04T05:19:13.220894Z",
     "start_time": "2024-02-04T05:19:13.186894Z"
    }
   },
   "outputs": [
    {
     "name": "stdout",
     "output_type": "stream",
     "text": [
      "Accuracy: 0.723618\n",
      "F1-score: 0.763948\n",
      "Accuracy: 0.758186\n",
      "F1-score: 0.799163\n",
      "Accuracy: 0.710327\n",
      "F1-score: 0.760915\n",
      "Accuracy: 0.775819\n",
      "F1-score: 0.816495\n",
      "Accuracy: 0.740554\n",
      "F1-score: 0.783158\n",
      "[0.7417009480652633, 0.7847358357565646]\n"
     ]
    }
   ],
   "source": [
    "aver_bayes_Ber,list_pred_bayes_Ber,list_test_pred = bayes_Ber_([\n",
    "       \"followers_count\",\"favourites_count\",\n",
    "       \"geo_enabled\",\"verified\",\"statuses_count\",\n",
    "       \"has_extended_profile\",\"default_profile\",\n",
    "       ],df,5)\n",
    "print(aver_bayes_Ber)"
   ]
  },
  {
   "cell_type": "markdown",
   "id": "f399393b",
   "metadata": {},
   "source": [
    "## 五. 预测test数据集并进行降维可视化"
   ]
  },
  {
   "cell_type": "markdown",
   "id": "f2fcbfc5",
   "metadata": {},
   "source": [
    "观察以上各种模型通过交叉验证得到的平均准确率和f1分数，我们最终决定使用Xgboost模型"
   ]
  },
  {
   "cell_type": "code",
   "execution_count": 162,
   "id": "0d24f3ac",
   "metadata": {
    "ExecuteTime": {
     "end_time": "2024-02-04T11:48:10.978698Z",
     "start_time": "2024-02-04T11:48:10.961733Z"
    }
   },
   "outputs": [],
   "source": [
    "def D_redu(chosen_list, df, df_test) :\n",
    "    scaler = StandardScaler()\n",
    "    X_train=np.array(df[chosen_list])\n",
    "    y_train=np.array(df[\"label\"])\n",
    "    X_test =np.array(df_test[chosen_list])\n",
    "    y_test=np.array(df_test[\"label\"])\n",
    "    scaler.fit(X_train)\n",
    "    X_train = scaler.transform(X_train)\n",
    "    X_test = scaler.transform(X_test)\n",
    "    clf = xgb.XGBRegressor(objective='reg:squarederror', colsample_bytree=0.3, learning_rate=0.15,  \n",
    "                           max_depth=5, alpha=5, n_estimators=45,random_state=32)  \n",
    "    clf.fit(X_train,y_train)\n",
    "    y_pred = clf.predict(X_test)\n",
    "    y_pred = np.array([int(temp+0.5) for temp in y_pred])\n",
    "    # 以上进行Xgboost模型预测\n",
    "    for i in range(len(y_pred)) :\n",
    "        if y_pred[i] == 1 :\n",
    "            df_test_copy.loc[i,\"label\"] = \"human\"\n",
    "        else :\n",
    "            df_test_copy.loc[i,\"label\"] = \"bot\"\n",
    "    df_json_write = df_test_copy.to_json(orient='records')\n",
    "    with open('test.json', 'w') as file:  \n",
    "        file.write(df_json_write)\n",
    "    # 以上将预测写入文件\n",
    "    x = np.array(df_test[chosen_list])\n",
    "    ts = TSNE(n_components=2)\n",
    "    ts.fit_transform(x)\n",
    "    plt.xlabel(\"Principal Component 1\")\n",
    "    plt.ylabel(\"Principal Component 2\")\n",
    "    plt.scatter(ts.embedding_[y_pred == 0,0],ts.embedding_[y_pred == 0,1])\n",
    "    plt.scatter(ts.embedding_[y_pred == 1,0],ts.embedding_[y_pred == 1,1])\n",
    "    # 降维，提取出两个主成分之后画图"
   ]
  },
  {
   "cell_type": "code",
   "execution_count": 163,
   "id": "9b77d7da",
   "metadata": {
    "ExecuteTime": {
     "end_time": "2024-02-04T11:48:13.969038Z",
     "start_time": "2024-02-04T11:48:13.174979Z"
    }
   },
   "outputs": [
    {
     "data": {
      "image/png": "[encoded data removed]",
      "text/plain": [
       "<Figure size 432x288 with 1 Axes>"
      ]
     },
     "metadata": {
      "needs_background": "light"
     },
     "output_type": "display_data"
    }
   ],
   "source": [
    "D_redu([\n",
    "       \"followers_count\",\"friends_count\",\"listed_count\",\n",
    "       \"favourites_count\",\"geo_enabled\",\"verified\",\"statuses_count\",\n",
    "       \"lang\",\"is_translator\",\"is_translation_enabled\",\"profile_background_tile\",\n",
    "       \"has_extended_profile\",\n",
    "       \"default_profile_image\",\"following\",\"translator_type\"],df,df_test)"
   ]
  },
  {
   "cell_type": "markdown",
   "id": "578a1224",
   "metadata": {},
   "source": [
    "## 六. 猜想验证模块"
   ]
  },
  {
   "cell_type": "code",
   "execution_count": 164,
   "id": "74c9d28f",
   "metadata": {
    "ExecuteTime": {
     "end_time": "2024-02-04T12:02:13.599802Z",
     "start_time": "2024-02-04T12:02:13.551451Z"
    }
   },
   "outputs": [
    {
     "name": "stdout",
     "output_type": "stream",
     "text": [
      "Accuracy: 0.633166\n",
      "F1-score: 0.685345\n",
      "Accuracy: 0.619647\n",
      "F1-score: 0.679406\n",
      "Accuracy: 0.624685\n",
      "F1-score: 0.682303\n",
      "Accuracy: 0.677582\n",
      "F1-score: 0.724138\n",
      "Accuracy: 0.627204\n",
      "F1-score: 0.683761\n",
      "[0.6364568434110096, 0.6909903468812472]\n"
     ]
    }
   ],
   "source": [
    "# 剔除\"statuses_count\"\n",
    "aver_LogisticRegression,list_pred_LogisticRegression,list_test_pred = LogisticRegression_([\n",
    "       \"favourites_count\",\"geo_enabled\",\"verified\",\n",
    "       \"is_translation_enabled\",\"profile_background_tile\",\n",
    "       \"has_extended_profile\",\"following\"],df,5)\n",
    "print(aver_LogisticRegression)"
   ]
  },
  {
   "cell_type": "code",
   "execution_count": 165,
   "id": "0ece10ab",
   "metadata": {
    "ExecuteTime": {
     "end_time": "2024-02-04T12:03:03.065694Z",
     "start_time": "2024-02-04T12:03:03.025203Z"
    }
   },
   "outputs": [
    {
     "name": "stdout",
     "output_type": "stream",
     "text": [
      "Accuracy: 0.738693\n",
      "F1-score: 0.789474\n",
      "Accuracy: 0.763224\n",
      "F1-score: 0.812000\n",
      "Accuracy: 0.758186\n",
      "F1-score: 0.813953\n",
      "Accuracy: 0.775819\n",
      "F1-score: 0.824458\n",
      "Accuracy: 0.727960\n",
      "F1-score: 0.775934\n",
      "[0.7527764768426515, 0.8031636752458977]\n"
     ]
    }
   ],
   "source": [
    "# 剔除\"geo_enabled\"\n",
    "aver_LogisticRegression,list_pred_LogisticRegression,list_test_pred = LogisticRegression_([\n",
    "       \"favourites_count\",\"verified\",\"statuses_count\",\n",
    "       \"is_translation_enabled\",\"profile_background_tile\",\n",
    "       \"has_extended_profile\",\"following\"],df,5)\n",
    "print(aver_LogisticRegression)"
   ]
  },
  {
   "cell_type": "code",
   "execution_count": 169,
   "id": "730361d7",
   "metadata": {
    "ExecuteTime": {
     "end_time": "2024-02-04T12:04:50.823775Z",
     "start_time": "2024-02-04T12:04:50.791068Z"
    }
   },
   "outputs": [
    {
     "name": "stdout",
     "output_type": "stream",
     "text": [
      "Accuracy: 0.728643\n",
      "F1-score: 0.778689\n",
      "Accuracy: 0.760705\n",
      "F1-score: 0.811881\n",
      "Accuracy: 0.740554\n",
      "F1-score: 0.800774\n",
      "Accuracy: 0.778338\n",
      "F1-score: 0.826772\n",
      "Accuracy: 0.727960\n",
      "F1-score: 0.778689\n",
      "[0.7472399782286748, 0.7993607170466325]\n"
     ]
    }
   ],
   "source": [
    "# 剔除\"has_extended_profile\"\n",
    "aver_LogisticRegression,list_pred_LogisticRegression,list_test_pred = LogisticRegression_([\n",
    "       \"favourites_count\",\"verified\",\"statuses_count\",\"geo_enabled\",\n",
    "       \"is_translation_enabled\",\"profile_background_tile\",\n",
    "       \"following\"],df,5)\n",
    "print(aver_LogisticRegression)"
   ]
  },
  {
   "cell_type": "code",
   "execution_count": 170,
   "id": "289c09c8",
   "metadata": {
    "ExecuteTime": {
     "end_time": "2024-02-04T12:05:53.924030Z",
     "start_time": "2024-02-04T12:05:53.883810Z"
    }
   },
   "outputs": [
    {
     "name": "stdout",
     "output_type": "stream",
     "text": [
      "Accuracy: 0.726131\n",
      "F1-score: 0.781563\n",
      "Accuracy: 0.745592\n",
      "F1-score: 0.800000\n",
      "Accuracy: 0.735516\n",
      "F1-score: 0.795322\n",
      "Accuracy: 0.768262\n",
      "F1-score: 0.819608\n",
      "Accuracy: 0.750630\n",
      "F1-score: 0.796715\n",
      "[0.7452261306532664, 0.7986414371744204]\n"
     ]
    }
   ],
   "source": [
    "# 剔除\"profile_background_tile\"\n",
    "aver_LogisticRegression,list_pred_LogisticRegression,list_test_pred = LogisticRegression_([\n",
    "       \"favourites_count\",\"verified\",\"statuses_count\",\"geo_enabled\",\n",
    "       \"is_translation_enabled\",\n",
    "       \"following\"],df,5)\n",
    "print(aver_LogisticRegression)"
   ]
  },
  {
   "cell_type": "code",
   "execution_count": 176,
   "id": "8b20ddaa",
   "metadata": {
    "ExecuteTime": {
     "end_time": "2024-02-04T13:13:44.574816Z",
     "start_time": "2024-02-04T13:13:44.555851Z"
    }
   },
   "outputs": [],
   "source": [
    "mean_df = df.mean()\n",
    "centred_df = df.sub(mean_df,axis=1)\n",
    "cov_centred_df = np.dot(centred_df.T,centred_df)\n",
    "PCA_eigenvalues,PCA_eigenvector = np.linalg.eigh(cov_centred_df)"
   ]
  },
  {
   "cell_type": "code",
   "execution_count": 177,
   "id": "3edf62bc",
   "metadata": {
    "ExecuteTime": {
     "end_time": "2024-02-04T13:13:54.881926Z",
     "start_time": "2024-02-04T13:13:54.874819Z"
    }
   },
   "outputs": [
    {
     "data": {
      "text/plain": [
       "array([9.84680463e-01, 1.89372126e+00, 1.17317456e+01, 6.44318940e+01,\n",
       "       1.44236493e+02, 1.95435784e+02, 2.75957994e+02, 3.61447481e+02,\n",
       "       3.89780124e+02, 4.50590668e+02, 4.84220010e+02, 7.31150304e+02,\n",
       "       2.19364854e+04, 2.41621489e+11, 3.12545336e+12, 1.78706861e+13,\n",
       "       4.96459428e+13, 9.51543137e+16])"
      ]
     },
     "execution_count": 177,
     "metadata": {},
     "output_type": "execute_result"
    }
   ],
   "source": [
    "PCA_eigenvalues"
   ]
  }
 ],
 "metadata": {
  "kernelspec": {
   "display_name": "Python 3 (ipykernel)",
   "language": "python",
   "name": "python3"
  },
  "language_info": {
   "codemirror_mode": {
    "name": "ipython",
    "version": 3
   },
   "file_extension": ".py",
   "mimetype": "text/x-python",
   "name": "python",
   "nbconvert_exporter": "python",
   "pygments_lexer": "ipython3",
   "version": "3.9.7"
  }
 },
 "nbformat": 4,
 "nbformat_minor": 5
}
