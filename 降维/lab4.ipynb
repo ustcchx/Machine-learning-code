{
 "cells": [
  {
   "cell_type": "code",
   "execution_count": 6,
   "id": "cf4fd283",
   "metadata": {
    "ExecuteTime": {
     "end_time": "2023-12-24T10:07:21.260039Z",
     "start_time": "2023-12-24T10:07:21.255041Z"
    }
   },
   "outputs": [],
   "source": [
    "import pandas as pd\n",
    "import numpy as np\n",
    "import matplotlib.pyplot as plt  \n",
    "from sklearn.manifold import TSNE  \n",
    "import matplotlib.pyplot as plt  "
   ]
  },
  {
   "cell_type": "markdown",
   "id": "37213981",
   "metadata": {},
   "source": [
    "## 数据集读取"
   ]
  },
  {
   "cell_type": "code",
   "execution_count": 7,
   "id": "983e1d59",
   "metadata": {
    "ExecuteTime": {
     "end_time": "2023-12-24T10:07:22.022278Z",
     "start_time": "2023-12-24T10:07:21.983214Z"
    }
   },
   "outputs": [],
   "source": [
    "df = pd.read_csv(\"mnist.csv\",header=None)\n",
    "label = df[0]\n",
    "df = df.loc[:,1:]\n",
    "mean_df = df.mean()\n",
    "centred_df = df.sub(mean_df,axis=1)\n",
    "label_num = label.unique()"
   ]
  },
  {
   "cell_type": "code",
   "execution_count": 8,
   "id": "7b2e7122",
   "metadata": {
    "ExecuteTime": {
     "end_time": "2023-12-24T10:07:23.173360Z",
     "start_time": "2023-12-24T10:07:23.151362Z"
    }
   },
   "outputs": [
    {
     "data": {
      "text/html": [
       "<div>\n",
       "<style scoped>\n",
       "    .dataframe tbody tr th:only-of-type {\n",
       "        vertical-align: middle;\n",
       "    }\n",
       "\n",
       "    .dataframe tbody tr th {\n",
       "        vertical-align: top;\n",
       "    }\n",
       "\n",
       "    .dataframe thead th {\n",
       "        text-align: right;\n",
       "    }\n",
       "</style>\n",
       "<table border=\"1\" class=\"dataframe\">\n",
       "  <thead>\n",
       "    <tr style=\"text-align: right;\">\n",
       "      <th></th>\n",
       "      <th>1</th>\n",
       "      <th>2</th>\n",
       "      <th>3</th>\n",
       "      <th>4</th>\n",
       "      <th>5</th>\n",
       "      <th>6</th>\n",
       "      <th>7</th>\n",
       "      <th>8</th>\n",
       "      <th>9</th>\n",
       "      <th>10</th>\n",
       "      <th>...</th>\n",
       "      <th>775</th>\n",
       "      <th>776</th>\n",
       "      <th>777</th>\n",
       "      <th>778</th>\n",
       "      <th>779</th>\n",
       "      <th>780</th>\n",
       "      <th>781</th>\n",
       "      <th>782</th>\n",
       "      <th>783</th>\n",
       "      <th>784</th>\n",
       "    </tr>\n",
       "  </thead>\n",
       "  <tbody>\n",
       "    <tr>\n",
       "      <th>0</th>\n",
       "      <td>0.0</td>\n",
       "      <td>0.0</td>\n",
       "      <td>0.0</td>\n",
       "      <td>0.0</td>\n",
       "      <td>0.0</td>\n",
       "      <td>0.0</td>\n",
       "      <td>0.0</td>\n",
       "      <td>0.0</td>\n",
       "      <td>0.0</td>\n",
       "      <td>0.0</td>\n",
       "      <td>...</td>\n",
       "      <td>0.0</td>\n",
       "      <td>0.0</td>\n",
       "      <td>0.0</td>\n",
       "      <td>0.0</td>\n",
       "      <td>0.0</td>\n",
       "      <td>0.0</td>\n",
       "      <td>0.0</td>\n",
       "      <td>0.0</td>\n",
       "      <td>0.0</td>\n",
       "      <td>0.0</td>\n",
       "    </tr>\n",
       "    <tr>\n",
       "      <th>1</th>\n",
       "      <td>0.0</td>\n",
       "      <td>0.0</td>\n",
       "      <td>0.0</td>\n",
       "      <td>0.0</td>\n",
       "      <td>0.0</td>\n",
       "      <td>0.0</td>\n",
       "      <td>0.0</td>\n",
       "      <td>0.0</td>\n",
       "      <td>0.0</td>\n",
       "      <td>0.0</td>\n",
       "      <td>...</td>\n",
       "      <td>0.0</td>\n",
       "      <td>0.0</td>\n",
       "      <td>0.0</td>\n",
       "      <td>0.0</td>\n",
       "      <td>0.0</td>\n",
       "      <td>0.0</td>\n",
       "      <td>0.0</td>\n",
       "      <td>0.0</td>\n",
       "      <td>0.0</td>\n",
       "      <td>0.0</td>\n",
       "    </tr>\n",
       "    <tr>\n",
       "      <th>2</th>\n",
       "      <td>0.0</td>\n",
       "      <td>0.0</td>\n",
       "      <td>0.0</td>\n",
       "      <td>0.0</td>\n",
       "      <td>0.0</td>\n",
       "      <td>0.0</td>\n",
       "      <td>0.0</td>\n",
       "      <td>0.0</td>\n",
       "      <td>0.0</td>\n",
       "      <td>0.0</td>\n",
       "      <td>...</td>\n",
       "      <td>0.0</td>\n",
       "      <td>0.0</td>\n",
       "      <td>0.0</td>\n",
       "      <td>0.0</td>\n",
       "      <td>0.0</td>\n",
       "      <td>0.0</td>\n",
       "      <td>0.0</td>\n",
       "      <td>0.0</td>\n",
       "      <td>0.0</td>\n",
       "      <td>0.0</td>\n",
       "    </tr>\n",
       "    <tr>\n",
       "      <th>3</th>\n",
       "      <td>0.0</td>\n",
       "      <td>0.0</td>\n",
       "      <td>0.0</td>\n",
       "      <td>0.0</td>\n",
       "      <td>0.0</td>\n",
       "      <td>0.0</td>\n",
       "      <td>0.0</td>\n",
       "      <td>0.0</td>\n",
       "      <td>0.0</td>\n",
       "      <td>0.0</td>\n",
       "      <td>...</td>\n",
       "      <td>0.0</td>\n",
       "      <td>0.0</td>\n",
       "      <td>0.0</td>\n",
       "      <td>0.0</td>\n",
       "      <td>0.0</td>\n",
       "      <td>0.0</td>\n",
       "      <td>0.0</td>\n",
       "      <td>0.0</td>\n",
       "      <td>0.0</td>\n",
       "      <td>0.0</td>\n",
       "    </tr>\n",
       "    <tr>\n",
       "      <th>4</th>\n",
       "      <td>0.0</td>\n",
       "      <td>0.0</td>\n",
       "      <td>0.0</td>\n",
       "      <td>0.0</td>\n",
       "      <td>0.0</td>\n",
       "      <td>0.0</td>\n",
       "      <td>0.0</td>\n",
       "      <td>0.0</td>\n",
       "      <td>0.0</td>\n",
       "      <td>0.0</td>\n",
       "      <td>...</td>\n",
       "      <td>0.0</td>\n",
       "      <td>0.0</td>\n",
       "      <td>0.0</td>\n",
       "      <td>0.0</td>\n",
       "      <td>0.0</td>\n",
       "      <td>0.0</td>\n",
       "      <td>0.0</td>\n",
       "      <td>0.0</td>\n",
       "      <td>0.0</td>\n",
       "      <td>0.0</td>\n",
       "    </tr>\n",
       "    <tr>\n",
       "      <th>...</th>\n",
       "      <td>...</td>\n",
       "      <td>...</td>\n",
       "      <td>...</td>\n",
       "      <td>...</td>\n",
       "      <td>...</td>\n",
       "      <td>...</td>\n",
       "      <td>...</td>\n",
       "      <td>...</td>\n",
       "      <td>...</td>\n",
       "      <td>...</td>\n",
       "      <td>...</td>\n",
       "      <td>...</td>\n",
       "      <td>...</td>\n",
       "      <td>...</td>\n",
       "      <td>...</td>\n",
       "      <td>...</td>\n",
       "      <td>...</td>\n",
       "      <td>...</td>\n",
       "      <td>...</td>\n",
       "      <td>...</td>\n",
       "      <td>...</td>\n",
       "    </tr>\n",
       "    <tr>\n",
       "      <th>403</th>\n",
       "      <td>0.0</td>\n",
       "      <td>0.0</td>\n",
       "      <td>0.0</td>\n",
       "      <td>0.0</td>\n",
       "      <td>0.0</td>\n",
       "      <td>0.0</td>\n",
       "      <td>0.0</td>\n",
       "      <td>0.0</td>\n",
       "      <td>0.0</td>\n",
       "      <td>0.0</td>\n",
       "      <td>...</td>\n",
       "      <td>0.0</td>\n",
       "      <td>0.0</td>\n",
       "      <td>0.0</td>\n",
       "      <td>0.0</td>\n",
       "      <td>0.0</td>\n",
       "      <td>0.0</td>\n",
       "      <td>0.0</td>\n",
       "      <td>0.0</td>\n",
       "      <td>0.0</td>\n",
       "      <td>0.0</td>\n",
       "    </tr>\n",
       "    <tr>\n",
       "      <th>404</th>\n",
       "      <td>0.0</td>\n",
       "      <td>0.0</td>\n",
       "      <td>0.0</td>\n",
       "      <td>0.0</td>\n",
       "      <td>0.0</td>\n",
       "      <td>0.0</td>\n",
       "      <td>0.0</td>\n",
       "      <td>0.0</td>\n",
       "      <td>0.0</td>\n",
       "      <td>0.0</td>\n",
       "      <td>...</td>\n",
       "      <td>0.0</td>\n",
       "      <td>0.0</td>\n",
       "      <td>0.0</td>\n",
       "      <td>0.0</td>\n",
       "      <td>0.0</td>\n",
       "      <td>0.0</td>\n",
       "      <td>0.0</td>\n",
       "      <td>0.0</td>\n",
       "      <td>0.0</td>\n",
       "      <td>0.0</td>\n",
       "    </tr>\n",
       "    <tr>\n",
       "      <th>405</th>\n",
       "      <td>0.0</td>\n",
       "      <td>0.0</td>\n",
       "      <td>0.0</td>\n",
       "      <td>0.0</td>\n",
       "      <td>0.0</td>\n",
       "      <td>0.0</td>\n",
       "      <td>0.0</td>\n",
       "      <td>0.0</td>\n",
       "      <td>0.0</td>\n",
       "      <td>0.0</td>\n",
       "      <td>...</td>\n",
       "      <td>0.0</td>\n",
       "      <td>0.0</td>\n",
       "      <td>0.0</td>\n",
       "      <td>0.0</td>\n",
       "      <td>0.0</td>\n",
       "      <td>0.0</td>\n",
       "      <td>0.0</td>\n",
       "      <td>0.0</td>\n",
       "      <td>0.0</td>\n",
       "      <td>0.0</td>\n",
       "    </tr>\n",
       "    <tr>\n",
       "      <th>406</th>\n",
       "      <td>0.0</td>\n",
       "      <td>0.0</td>\n",
       "      <td>0.0</td>\n",
       "      <td>0.0</td>\n",
       "      <td>0.0</td>\n",
       "      <td>0.0</td>\n",
       "      <td>0.0</td>\n",
       "      <td>0.0</td>\n",
       "      <td>0.0</td>\n",
       "      <td>0.0</td>\n",
       "      <td>...</td>\n",
       "      <td>0.0</td>\n",
       "      <td>0.0</td>\n",
       "      <td>0.0</td>\n",
       "      <td>0.0</td>\n",
       "      <td>0.0</td>\n",
       "      <td>0.0</td>\n",
       "      <td>0.0</td>\n",
       "      <td>0.0</td>\n",
       "      <td>0.0</td>\n",
       "      <td>0.0</td>\n",
       "    </tr>\n",
       "    <tr>\n",
       "      <th>407</th>\n",
       "      <td>0.0</td>\n",
       "      <td>0.0</td>\n",
       "      <td>0.0</td>\n",
       "      <td>0.0</td>\n",
       "      <td>0.0</td>\n",
       "      <td>0.0</td>\n",
       "      <td>0.0</td>\n",
       "      <td>0.0</td>\n",
       "      <td>0.0</td>\n",
       "      <td>0.0</td>\n",
       "      <td>...</td>\n",
       "      <td>0.0</td>\n",
       "      <td>0.0</td>\n",
       "      <td>0.0</td>\n",
       "      <td>0.0</td>\n",
       "      <td>0.0</td>\n",
       "      <td>0.0</td>\n",
       "      <td>0.0</td>\n",
       "      <td>0.0</td>\n",
       "      <td>0.0</td>\n",
       "      <td>0.0</td>\n",
       "    </tr>\n",
       "  </tbody>\n",
       "</table>\n",
       "<p>408 rows × 784 columns</p>\n",
       "</div>"
      ],
      "text/plain": [
       "     1    2    3    4    5    6    7    8    9    10   ...  775  776  777   \n",
       "0    0.0  0.0  0.0  0.0  0.0  0.0  0.0  0.0  0.0  0.0  ...  0.0  0.0  0.0  \\\n",
       "1    0.0  0.0  0.0  0.0  0.0  0.0  0.0  0.0  0.0  0.0  ...  0.0  0.0  0.0   \n",
       "2    0.0  0.0  0.0  0.0  0.0  0.0  0.0  0.0  0.0  0.0  ...  0.0  0.0  0.0   \n",
       "3    0.0  0.0  0.0  0.0  0.0  0.0  0.0  0.0  0.0  0.0  ...  0.0  0.0  0.0   \n",
       "4    0.0  0.0  0.0  0.0  0.0  0.0  0.0  0.0  0.0  0.0  ...  0.0  0.0  0.0   \n",
       "..   ...  ...  ...  ...  ...  ...  ...  ...  ...  ...  ...  ...  ...  ...   \n",
       "403  0.0  0.0  0.0  0.0  0.0  0.0  0.0  0.0  0.0  0.0  ...  0.0  0.0  0.0   \n",
       "404  0.0  0.0  0.0  0.0  0.0  0.0  0.0  0.0  0.0  0.0  ...  0.0  0.0  0.0   \n",
       "405  0.0  0.0  0.0  0.0  0.0  0.0  0.0  0.0  0.0  0.0  ...  0.0  0.0  0.0   \n",
       "406  0.0  0.0  0.0  0.0  0.0  0.0  0.0  0.0  0.0  0.0  ...  0.0  0.0  0.0   \n",
       "407  0.0  0.0  0.0  0.0  0.0  0.0  0.0  0.0  0.0  0.0  ...  0.0  0.0  0.0   \n",
       "\n",
       "     778  779  780  781  782  783  784  \n",
       "0    0.0  0.0  0.0  0.0  0.0  0.0  0.0  \n",
       "1    0.0  0.0  0.0  0.0  0.0  0.0  0.0  \n",
       "2    0.0  0.0  0.0  0.0  0.0  0.0  0.0  \n",
       "3    0.0  0.0  0.0  0.0  0.0  0.0  0.0  \n",
       "4    0.0  0.0  0.0  0.0  0.0  0.0  0.0  \n",
       "..   ...  ...  ...  ...  ...  ...  ...  \n",
       "403  0.0  0.0  0.0  0.0  0.0  0.0  0.0  \n",
       "404  0.0  0.0  0.0  0.0  0.0  0.0  0.0  \n",
       "405  0.0  0.0  0.0  0.0  0.0  0.0  0.0  \n",
       "406  0.0  0.0  0.0  0.0  0.0  0.0  0.0  \n",
       "407  0.0  0.0  0.0  0.0  0.0  0.0  0.0  \n",
       "\n",
       "[408 rows x 784 columns]"
      ]
     },
     "execution_count": 8,
     "metadata": {},
     "output_type": "execute_result"
    }
   ],
   "source": [
    "centred_df"
   ]
  },
  {
   "cell_type": "markdown",
   "id": "e796a891",
   "metadata": {},
   "source": [
    "## PCA降维"
   ]
  },
  {
   "cell_type": "code",
   "execution_count": 9,
   "id": "10db5eb2",
   "metadata": {
    "ExecuteTime": {
     "end_time": "2023-12-24T10:07:25.031045Z",
     "start_time": "2023-12-24T10:07:25.014942Z"
    }
   },
   "outputs": [],
   "source": [
    "#PCA算法实现\n",
    "def PCA(X,dim=2) :\n",
    "    mean_df = X.mean()\n",
    "    centred_df = X.sub(mean_df,axis=1)\n",
    "    cov_centred_df = np.dot(centred_df.T,centred_df)\n",
    "    PCA_eigenvalues,PCA_eigenvector = np.linalg.eigh(cov_centred_df)\n",
    "    PCA_eigenvector_T = PCA_eigenvector.T\n",
    "    PCA_eigenvector_T = np.flip(PCA_eigenvector_T,axis=0) \n",
    "    PCA_eigenvector_T_cut = PCA_eigenvector_T[:dim]\n",
    "    PCA_Result = pd.DataFrame(np.dot(centred_df,PCA_eigenvector_T_cut.T))\n",
    "    return PCA_Result"
   ]
  },
  {
   "cell_type": "code",
   "execution_count": 12,
   "id": "0b278c67",
   "metadata": {
    "ExecuteTime": {
     "end_time": "2023-12-24T10:08:16.991220Z",
     "start_time": "2023-12-24T10:08:16.811217Z"
    }
   },
   "outputs": [
    {
     "data": {
      "image/png": "[encoded data removed]",
      "text/plain": [
       "<Figure size 432x288 with 1 Axes>"
      ]
     },
     "metadata": {
      "needs_background": "light"
     },
     "output_type": "display_data"
    }
   ],
   "source": [
    "PCA_Result = np.array(PCA(df,2)) #降维至2\n",
    "for i in label_num :\n",
    "    temp = PCA_Result[label == i]\n",
    "    plt.scatter(x=temp[:,0],y=temp[:,1],s=10)"
   ]
  },
  {
   "cell_type": "code",
   "execution_count": 13,
   "id": "9e325b0d",
   "metadata": {
    "ExecuteTime": {
     "end_time": "2023-12-24T10:08:54.917072Z",
     "start_time": "2023-12-24T10:08:54.760075Z"
    }
   },
   "outputs": [
    {
     "data": {
      "image/png": "[encoded data removed]",
      "text/plain": [
       "<Figure size 432x288 with 1 Axes>"
      ]
     },
     "metadata": {
      "needs_background": "light"
     },
     "output_type": "display_data"
    }
   ],
   "source": [
    "PCA_Result = np.array(PCA(df,3)) #降维至3\n",
    "fig = plt.figure()  \n",
    "ax = fig.add_subplot(111, projection='3d') \n",
    "for i in label_num :\n",
    "    temp = PCA_Result[label == i]\n",
    "    ax.scatter(temp[:, 0], temp[:, 1], temp[:, 2], s=5)  "
   ]
  },
  {
   "cell_type": "code",
   "execution_count": 14,
   "id": "8b28f917",
   "metadata": {
    "ExecuteTime": {
     "end_time": "2023-12-24T10:08:59.244292Z",
     "start_time": "2023-12-24T10:08:59.207294Z"
    }
   },
   "outputs": [],
   "source": [
    "# sklearn中的PCA\n",
    "from sklearn.decomposition import PCA\n",
    "pca1 = PCA(n_components=2)\n",
    "pca1.fit(df)\n",
    "X_pca = pca1.transform(df)"
   ]
  },
  {
   "cell_type": "code",
   "execution_count": 15,
   "id": "aad98263",
   "metadata": {
    "ExecuteTime": {
     "end_time": "2023-12-24T10:09:00.759746Z",
     "start_time": "2023-12-24T10:09:00.750746Z"
    }
   },
   "outputs": [
    {
     "data": {
      "text/html": [
       "<div>\n",
       "<style scoped>\n",
       "    .dataframe tbody tr th:only-of-type {\n",
       "        vertical-align: middle;\n",
       "    }\n",
       "\n",
       "    .dataframe tbody tr th {\n",
       "        vertical-align: top;\n",
       "    }\n",
       "\n",
       "    .dataframe thead th {\n",
       "        text-align: right;\n",
       "    }\n",
       "</style>\n",
       "<table border=\"1\" class=\"dataframe\">\n",
       "  <thead>\n",
       "    <tr style=\"text-align: right;\">\n",
       "      <th></th>\n",
       "      <th>0</th>\n",
       "      <th>1</th>\n",
       "    </tr>\n",
       "  </thead>\n",
       "  <tbody>\n",
       "    <tr>\n",
       "      <th>0</th>\n",
       "      <td>-673.858768</td>\n",
       "      <td>29.991674</td>\n",
       "    </tr>\n",
       "    <tr>\n",
       "      <th>1</th>\n",
       "      <td>-254.873949</td>\n",
       "      <td>936.708960</td>\n",
       "    </tr>\n",
       "    <tr>\n",
       "      <th>2</th>\n",
       "      <td>-358.126280</td>\n",
       "      <td>-781.144331</td>\n",
       "    </tr>\n",
       "    <tr>\n",
       "      <th>3</th>\n",
       "      <td>-867.130782</td>\n",
       "      <td>358.527096</td>\n",
       "    </tr>\n",
       "    <tr>\n",
       "      <th>4</th>\n",
       "      <td>-582.996101</td>\n",
       "      <td>934.002209</td>\n",
       "    </tr>\n",
       "    <tr>\n",
       "      <th>...</th>\n",
       "      <td>...</td>\n",
       "      <td>...</td>\n",
       "    </tr>\n",
       "    <tr>\n",
       "      <th>403</th>\n",
       "      <td>-440.585969</td>\n",
       "      <td>712.932655</td>\n",
       "    </tr>\n",
       "    <tr>\n",
       "      <th>404</th>\n",
       "      <td>255.758885</td>\n",
       "      <td>-55.149457</td>\n",
       "    </tr>\n",
       "    <tr>\n",
       "      <th>405</th>\n",
       "      <td>294.652105</td>\n",
       "      <td>494.400226</td>\n",
       "    </tr>\n",
       "    <tr>\n",
       "      <th>406</th>\n",
       "      <td>-721.124827</td>\n",
       "      <td>-1058.315113</td>\n",
       "    </tr>\n",
       "    <tr>\n",
       "      <th>407</th>\n",
       "      <td>688.723414</td>\n",
       "      <td>-45.994422</td>\n",
       "    </tr>\n",
       "  </tbody>\n",
       "</table>\n",
       "<p>408 rows × 2 columns</p>\n",
       "</div>"
      ],
      "text/plain": [
       "              0            1\n",
       "0   -673.858768    29.991674\n",
       "1   -254.873949   936.708960\n",
       "2   -358.126280  -781.144331\n",
       "3   -867.130782   358.527096\n",
       "4   -582.996101   934.002209\n",
       "..          ...          ...\n",
       "403 -440.585969   712.932655\n",
       "404  255.758885   -55.149457\n",
       "405  294.652105   494.400226\n",
       "406 -721.124827 -1058.315113\n",
       "407  688.723414   -45.994422\n",
       "\n",
       "[408 rows x 2 columns]"
      ]
     },
     "execution_count": 15,
     "metadata": {},
     "output_type": "execute_result"
    }
   ],
   "source": [
    "pd.DataFrame(X_pca)"
   ]
  },
  {
   "cell_type": "code",
   "execution_count": 16,
   "id": "56a4b4e6",
   "metadata": {
    "ExecuteTime": {
     "end_time": "2023-12-24T10:09:04.486823Z",
     "start_time": "2023-12-24T10:09:04.462824Z"
    }
   },
   "outputs": [],
   "source": [
    "pca1 = PCA(n_components=3)\n",
    "pca1.fit(df)\n",
    "X_pca = pca1.transform(df)"
   ]
  },
  {
   "cell_type": "code",
   "execution_count": 17,
   "id": "cfe26cef",
   "metadata": {
    "ExecuteTime": {
     "end_time": "2023-12-24T10:09:07.944830Z",
     "start_time": "2023-12-24T10:09:07.937840Z"
    }
   },
   "outputs": [
    {
     "data": {
      "text/html": [
       "<div>\n",
       "<style scoped>\n",
       "    .dataframe tbody tr th:only-of-type {\n",
       "        vertical-align: middle;\n",
       "    }\n",
       "\n",
       "    .dataframe tbody tr th {\n",
       "        vertical-align: top;\n",
       "    }\n",
       "\n",
       "    .dataframe thead th {\n",
       "        text-align: right;\n",
       "    }\n",
       "</style>\n",
       "<table border=\"1\" class=\"dataframe\">\n",
       "  <thead>\n",
       "    <tr style=\"text-align: right;\">\n",
       "      <th></th>\n",
       "      <th>0</th>\n",
       "      <th>1</th>\n",
       "      <th>2</th>\n",
       "    </tr>\n",
       "  </thead>\n",
       "  <tbody>\n",
       "    <tr>\n",
       "      <th>0</th>\n",
       "      <td>-673.858997</td>\n",
       "      <td>29.991255</td>\n",
       "      <td>314.933356</td>\n",
       "    </tr>\n",
       "    <tr>\n",
       "      <th>1</th>\n",
       "      <td>-254.873546</td>\n",
       "      <td>936.708926</td>\n",
       "      <td>21.008859</td>\n",
       "    </tr>\n",
       "    <tr>\n",
       "      <th>2</th>\n",
       "      <td>-358.126846</td>\n",
       "      <td>-781.143334</td>\n",
       "      <td>607.749555</td>\n",
       "    </tr>\n",
       "    <tr>\n",
       "      <th>3</th>\n",
       "      <td>-867.131274</td>\n",
       "      <td>358.527137</td>\n",
       "      <td>-268.728342</td>\n",
       "    </tr>\n",
       "    <tr>\n",
       "      <th>4</th>\n",
       "      <td>-582.996218</td>\n",
       "      <td>934.002708</td>\n",
       "      <td>185.550485</td>\n",
       "    </tr>\n",
       "    <tr>\n",
       "      <th>...</th>\n",
       "      <td>...</td>\n",
       "      <td>...</td>\n",
       "      <td>...</td>\n",
       "    </tr>\n",
       "    <tr>\n",
       "      <th>403</th>\n",
       "      <td>-440.586144</td>\n",
       "      <td>712.933125</td>\n",
       "      <td>183.967394</td>\n",
       "    </tr>\n",
       "    <tr>\n",
       "      <th>404</th>\n",
       "      <td>255.758344</td>\n",
       "      <td>-55.148862</td>\n",
       "      <td>28.603906</td>\n",
       "    </tr>\n",
       "    <tr>\n",
       "      <th>405</th>\n",
       "      <td>294.652569</td>\n",
       "      <td>494.402214</td>\n",
       "      <td>190.898651</td>\n",
       "    </tr>\n",
       "    <tr>\n",
       "      <th>406</th>\n",
       "      <td>-721.124646</td>\n",
       "      <td>-1058.315446</td>\n",
       "      <td>89.119551</td>\n",
       "    </tr>\n",
       "    <tr>\n",
       "      <th>407</th>\n",
       "      <td>688.723447</td>\n",
       "      <td>-45.993656</td>\n",
       "      <td>-445.451577</td>\n",
       "    </tr>\n",
       "  </tbody>\n",
       "</table>\n",
       "<p>408 rows × 3 columns</p>\n",
       "</div>"
      ],
      "text/plain": [
       "              0            1           2\n",
       "0   -673.858997    29.991255  314.933356\n",
       "1   -254.873546   936.708926   21.008859\n",
       "2   -358.126846  -781.143334  607.749555\n",
       "3   -867.131274   358.527137 -268.728342\n",
       "4   -582.996218   934.002708  185.550485\n",
       "..          ...          ...         ...\n",
       "403 -440.586144   712.933125  183.967394\n",
       "404  255.758344   -55.148862   28.603906\n",
       "405  294.652569   494.402214  190.898651\n",
       "406 -721.124646 -1058.315446   89.119551\n",
       "407  688.723447   -45.993656 -445.451577\n",
       "\n",
       "[408 rows x 3 columns]"
      ]
     },
     "execution_count": 17,
     "metadata": {},
     "output_type": "execute_result"
    }
   ],
   "source": [
    "pd.DataFrame(X_pca)"
   ]
  },
  {
   "cell_type": "markdown",
   "id": "28eb0f4b",
   "metadata": {},
   "source": [
    "## MDS降维"
   ]
  },
  {
   "cell_type": "code",
   "execution_count": 18,
   "id": "9ccac3bc",
   "metadata": {
    "ExecuteTime": {
     "end_time": "2023-12-24T10:10:17.742207Z",
     "start_time": "2023-12-24T10:10:17.735213Z"
    }
   },
   "outputs": [],
   "source": [
    "def MDS(df, dim=2) :\n",
    "    B = np.array([np.zeros(len(df))]*len(df))\n",
    "    dist_X = np.array([np.zeros(len(df))]*len(df))\n",
    "    centred_df_np = np.array(centred_df)\n",
    "    for i in range(len(df)) :\n",
    "        for j in range(len(df)) :\n",
    "            dist_X[i][j] = np.sum(abs(centred_df_np[i]-centred_df_np[j])**6)**(1/3)\n",
    "            #dist_X[i][j] = np.max(centred_df_np[i]-centred_df_np[j])**2\n",
    "            #dist_X[i][j] = np.sum((centred_df_np[i]-centred_df_np[j])**2)\n",
    "            #dist_X[i][j] = np.sum(np.sum(centred_df_np[i]-centred_df_np[j]))**2\n",
    "    dist_X_sum = dist_X.sum(axis = 0)/len(df)\n",
    "    dist_X_sum_all = dist_X.sum()/(len(df)**2)\n",
    "    for i in range(len(df)) :\n",
    "        for j in range(len(df)) :\n",
    "            B[i][j] = -0.5*(dist_X[i][j]-dist_X_sum[j]-dist_X_sum[i]+dist_X_sum_all)\n",
    "    MDS_eigenvalues,MDS_eigenvector = np.linalg.eigh(B)\n",
    "    MDS_Result = np.dot(np.diag(np.sqrt(np.flip(MDS_eigenvalues)[0:dim])),np.flip(MDS_eigenvector.T,axis=0)[0:dim]).T\n",
    "    return MDS_Result"
   ]
  },
  {
   "cell_type": "code",
   "execution_count": 19,
   "id": "546b0fe2",
   "metadata": {
    "ExecuteTime": {
     "end_time": "2023-12-24T10:10:22.290985Z",
     "start_time": "2023-12-24T10:10:19.320904Z"
    }
   },
   "outputs": [
    {
     "data": {
      "image/png": "[encoded data removed]",
      "text/plain": [
       "<Figure size 432x288 with 1 Axes>"
      ]
     },
     "metadata": {
      "needs_background": "light"
     },
     "output_type": "display_data"
    }
   ],
   "source": [
    "MDS_Result = MDS(centred_df,2)\n",
    "for i in label_num :\n",
    "    temp = MDS_Result[label == i]\n",
    "    plt.scatter(x=temp[:,0],y=temp[:,1],s=10)"
   ]
  },
  {
   "cell_type": "code",
   "execution_count": 20,
   "id": "bb100b0c",
   "metadata": {
    "ExecuteTime": {
     "end_time": "2023-12-24T10:10:31.364840Z",
     "start_time": "2023-12-24T10:10:31.342834Z"
    }
   },
   "outputs": [
    {
     "data": {
      "text/html": [
       "<div>\n",
       "<style scoped>\n",
       "    .dataframe tbody tr th:only-of-type {\n",
       "        vertical-align: middle;\n",
       "    }\n",
       "\n",
       "    .dataframe tbody tr th {\n",
       "        vertical-align: top;\n",
       "    }\n",
       "\n",
       "    .dataframe thead th {\n",
       "        text-align: right;\n",
       "    }\n",
       "</style>\n",
       "<table border=\"1\" class=\"dataframe\">\n",
       "  <thead>\n",
       "    <tr style=\"text-align: right;\">\n",
       "      <th></th>\n",
       "      <th>0</th>\n",
       "      <th>1</th>\n",
       "    </tr>\n",
       "  </thead>\n",
       "  <tbody>\n",
       "    <tr>\n",
       "      <th>0</th>\n",
       "      <td>79.653134</td>\n",
       "      <td>-25.984306</td>\n",
       "    </tr>\n",
       "    <tr>\n",
       "      <th>1</th>\n",
       "      <td>-1.269283</td>\n",
       "      <td>-125.901484</td>\n",
       "    </tr>\n",
       "    <tr>\n",
       "      <th>2</th>\n",
       "      <td>78.880410</td>\n",
       "      <td>101.381580</td>\n",
       "    </tr>\n",
       "    <tr>\n",
       "      <th>3</th>\n",
       "      <td>65.122259</td>\n",
       "      <td>-81.119057</td>\n",
       "    </tr>\n",
       "    <tr>\n",
       "      <th>4</th>\n",
       "      <td>34.454844</td>\n",
       "      <td>-136.278325</td>\n",
       "    </tr>\n",
       "    <tr>\n",
       "      <th>...</th>\n",
       "      <td>...</td>\n",
       "      <td>...</td>\n",
       "    </tr>\n",
       "    <tr>\n",
       "      <th>403</th>\n",
       "      <td>34.760867</td>\n",
       "      <td>-115.946111</td>\n",
       "    </tr>\n",
       "    <tr>\n",
       "      <th>404</th>\n",
       "      <td>-34.186077</td>\n",
       "      <td>9.565877</td>\n",
       "    </tr>\n",
       "    <tr>\n",
       "      <th>405</th>\n",
       "      <td>-45.074975</td>\n",
       "      <td>-54.032979</td>\n",
       "    </tr>\n",
       "    <tr>\n",
       "      <th>406</th>\n",
       "      <td>133.719213</td>\n",
       "      <td>118.083273</td>\n",
       "    </tr>\n",
       "    <tr>\n",
       "      <th>407</th>\n",
       "      <td>-97.498400</td>\n",
       "      <td>31.176169</td>\n",
       "    </tr>\n",
       "  </tbody>\n",
       "</table>\n",
       "<p>408 rows × 2 columns</p>\n",
       "</div>"
      ],
      "text/plain": [
       "              0           1\n",
       "0     79.653134  -25.984306\n",
       "1     -1.269283 -125.901484\n",
       "2     78.880410  101.381580\n",
       "3     65.122259  -81.119057\n",
       "4     34.454844 -136.278325\n",
       "..          ...         ...\n",
       "403   34.760867 -115.946111\n",
       "404  -34.186077    9.565877\n",
       "405  -45.074975  -54.032979\n",
       "406  133.719213  118.083273\n",
       "407  -97.498400   31.176169\n",
       "\n",
       "[408 rows x 2 columns]"
      ]
     },
     "execution_count": 20,
     "metadata": {},
     "output_type": "execute_result"
    }
   ],
   "source": [
    "pd.DataFrame(MDS_Result)"
   ]
  },
  {
   "cell_type": "code",
   "execution_count": 21,
   "id": "d6bec014",
   "metadata": {
    "ExecuteTime": {
     "end_time": "2023-12-24T10:10:39.724614Z",
     "start_time": "2023-12-24T10:10:36.863612Z"
    }
   },
   "outputs": [
    {
     "data": {
      "image/png": "[encoded data removed]",
      "text/plain": [
       "<Figure size 432x288 with 1 Axes>"
      ]
     },
     "metadata": {
      "needs_background": "light"
     },
     "output_type": "display_data"
    }
   ],
   "source": [
    "MDS_Result = MDS(centred_df,3)\n",
    "fig = plt.figure()  \n",
    "ax = fig.add_subplot(111, projection='3d') \n",
    "for i in label_num :\n",
    "    temp = MDS_Result[label == i]\n",
    "    ax.scatter(temp[:, 0], temp[:, 1], temp[:, 2], s=5)  "
   ]
  },
  {
   "cell_type": "code",
   "execution_count": 22,
   "id": "97fd8d29",
   "metadata": {
    "ExecuteTime": {
     "end_time": "2023-12-24T10:10:43.204154Z",
     "start_time": "2023-12-24T10:10:43.183068Z"
    }
   },
   "outputs": [
    {
     "data": {
      "text/html": [
       "<div>\n",
       "<style scoped>\n",
       "    .dataframe tbody tr th:only-of-type {\n",
       "        vertical-align: middle;\n",
       "    }\n",
       "\n",
       "    .dataframe tbody tr th {\n",
       "        vertical-align: top;\n",
       "    }\n",
       "\n",
       "    .dataframe thead th {\n",
       "        text-align: right;\n",
       "    }\n",
       "</style>\n",
       "<table border=\"1\" class=\"dataframe\">\n",
       "  <thead>\n",
       "    <tr style=\"text-align: right;\">\n",
       "      <th></th>\n",
       "      <th>0</th>\n",
       "      <th>1</th>\n",
       "      <th>2</th>\n",
       "    </tr>\n",
       "  </thead>\n",
       "  <tbody>\n",
       "    <tr>\n",
       "      <th>0</th>\n",
       "      <td>79.653134</td>\n",
       "      <td>-25.984306</td>\n",
       "      <td>31.851668</td>\n",
       "    </tr>\n",
       "    <tr>\n",
       "      <th>1</th>\n",
       "      <td>-1.269283</td>\n",
       "      <td>-125.901484</td>\n",
       "      <td>-5.659310</td>\n",
       "    </tr>\n",
       "    <tr>\n",
       "      <th>2</th>\n",
       "      <td>78.880410</td>\n",
       "      <td>101.381580</td>\n",
       "      <td>81.057249</td>\n",
       "    </tr>\n",
       "    <tr>\n",
       "      <th>3</th>\n",
       "      <td>65.122259</td>\n",
       "      <td>-81.119057</td>\n",
       "      <td>2.742145</td>\n",
       "    </tr>\n",
       "    <tr>\n",
       "      <th>4</th>\n",
       "      <td>34.454844</td>\n",
       "      <td>-136.278325</td>\n",
       "      <td>41.163370</td>\n",
       "    </tr>\n",
       "    <tr>\n",
       "      <th>...</th>\n",
       "      <td>...</td>\n",
       "      <td>...</td>\n",
       "      <td>...</td>\n",
       "    </tr>\n",
       "    <tr>\n",
       "      <th>403</th>\n",
       "      <td>34.760867</td>\n",
       "      <td>-115.946111</td>\n",
       "      <td>5.712740</td>\n",
       "    </tr>\n",
       "    <tr>\n",
       "      <th>404</th>\n",
       "      <td>-34.186077</td>\n",
       "      <td>9.565877</td>\n",
       "      <td>4.113060</td>\n",
       "    </tr>\n",
       "    <tr>\n",
       "      <th>405</th>\n",
       "      <td>-45.074975</td>\n",
       "      <td>-54.032979</td>\n",
       "      <td>24.598715</td>\n",
       "    </tr>\n",
       "    <tr>\n",
       "      <th>406</th>\n",
       "      <td>133.719213</td>\n",
       "      <td>118.083273</td>\n",
       "      <td>39.620505</td>\n",
       "    </tr>\n",
       "    <tr>\n",
       "      <th>407</th>\n",
       "      <td>-97.498400</td>\n",
       "      <td>31.176169</td>\n",
       "      <td>-87.697376</td>\n",
       "    </tr>\n",
       "  </tbody>\n",
       "</table>\n",
       "<p>408 rows × 3 columns</p>\n",
       "</div>"
      ],
      "text/plain": [
       "              0           1          2\n",
       "0     79.653134  -25.984306  31.851668\n",
       "1     -1.269283 -125.901484  -5.659310\n",
       "2     78.880410  101.381580  81.057249\n",
       "3     65.122259  -81.119057   2.742145\n",
       "4     34.454844 -136.278325  41.163370\n",
       "..          ...         ...        ...\n",
       "403   34.760867 -115.946111   5.712740\n",
       "404  -34.186077    9.565877   4.113060\n",
       "405  -45.074975  -54.032979  24.598715\n",
       "406  133.719213  118.083273  39.620505\n",
       "407  -97.498400   31.176169 -87.697376\n",
       "\n",
       "[408 rows x 3 columns]"
      ]
     },
     "execution_count": 22,
     "metadata": {},
     "output_type": "execute_result"
    }
   ],
   "source": [
    "pd.DataFrame(MDS_Result)"
   ]
  },
  {
   "cell_type": "markdown",
   "id": "f34590fe",
   "metadata": {},
   "source": [
    "## t-SNE算法（采用skearn中函数）"
   ]
  },
  {
   "cell_type": "code",
   "execution_count": 23,
   "id": "39dc6d5c",
   "metadata": {
    "ExecuteTime": {
     "end_time": "2023-12-24T10:10:48.929751Z",
     "start_time": "2023-12-24T10:10:47.783757Z"
    }
   },
   "outputs": [
    {
     "data": {
      "image/png": "[encoded data removed]",
      "text/plain": [
       "<Figure size 432x288 with 1 Axes>"
      ]
     },
     "metadata": {
      "needs_background": "light"
     },
     "output_type": "display_data"
    }
   ],
   "source": [
    "tsne = TSNE(n_components=2 ,random_state=0)  \n",
    "X_2d = tsne.fit_transform(df)\n",
    "for i in label_num :\n",
    "    temp = X_2d[label == i]\n",
    "    plt.scatter(temp[:, 0], temp[:, 1], s=5)  \n"
   ]
  },
  {
   "cell_type": "code",
   "execution_count": 24,
   "id": "a70739ac",
   "metadata": {
    "ExecuteTime": {
     "end_time": "2023-12-24T10:10:49.430880Z",
     "start_time": "2023-12-24T10:10:49.422880Z"
    }
   },
   "outputs": [
    {
     "data": {
      "text/html": [
       "<div>\n",
       "<style scoped>\n",
       "    .dataframe tbody tr th:only-of-type {\n",
       "        vertical-align: middle;\n",
       "    }\n",
       "\n",
       "    .dataframe tbody tr th {\n",
       "        vertical-align: top;\n",
       "    }\n",
       "\n",
       "    .dataframe thead th {\n",
       "        text-align: right;\n",
       "    }\n",
       "</style>\n",
       "<table border=\"1\" class=\"dataframe\">\n",
       "  <thead>\n",
       "    <tr style=\"text-align: right;\">\n",
       "      <th></th>\n",
       "      <th>0</th>\n",
       "      <th>1</th>\n",
       "    </tr>\n",
       "  </thead>\n",
       "  <tbody>\n",
       "    <tr>\n",
       "      <th>0</th>\n",
       "      <td>-1.508494</td>\n",
       "      <td>-22.028236</td>\n",
       "    </tr>\n",
       "    <tr>\n",
       "      <th>1</th>\n",
       "      <td>0.277970</td>\n",
       "      <td>-9.516426</td>\n",
       "    </tr>\n",
       "    <tr>\n",
       "      <th>2</th>\n",
       "      <td>29.076769</td>\n",
       "      <td>-0.030416</td>\n",
       "    </tr>\n",
       "    <tr>\n",
       "      <th>3</th>\n",
       "      <td>14.920293</td>\n",
       "      <td>-17.671289</td>\n",
       "    </tr>\n",
       "    <tr>\n",
       "      <th>4</th>\n",
       "      <td>3.829377</td>\n",
       "      <td>-16.127720</td>\n",
       "    </tr>\n",
       "    <tr>\n",
       "      <th>...</th>\n",
       "      <td>...</td>\n",
       "      <td>...</td>\n",
       "    </tr>\n",
       "    <tr>\n",
       "      <th>403</th>\n",
       "      <td>1.214772</td>\n",
       "      <td>-12.650958</td>\n",
       "    </tr>\n",
       "    <tr>\n",
       "      <th>404</th>\n",
       "      <td>-9.841883</td>\n",
       "      <td>-5.521832</td>\n",
       "    </tr>\n",
       "    <tr>\n",
       "      <th>405</th>\n",
       "      <td>-1.140674</td>\n",
       "      <td>6.568618</td>\n",
       "    </tr>\n",
       "    <tr>\n",
       "      <th>406</th>\n",
       "      <td>22.503975</td>\n",
       "      <td>7.189423</td>\n",
       "    </tr>\n",
       "    <tr>\n",
       "      <th>407</th>\n",
       "      <td>-24.148630</td>\n",
       "      <td>-9.120502</td>\n",
       "    </tr>\n",
       "  </tbody>\n",
       "</table>\n",
       "<p>408 rows × 2 columns</p>\n",
       "</div>"
      ],
      "text/plain": [
       "             0          1\n",
       "0    -1.508494 -22.028236\n",
       "1     0.277970  -9.516426\n",
       "2    29.076769  -0.030416\n",
       "3    14.920293 -17.671289\n",
       "4     3.829377 -16.127720\n",
       "..         ...        ...\n",
       "403   1.214772 -12.650958\n",
       "404  -9.841883  -5.521832\n",
       "405  -1.140674   6.568618\n",
       "406  22.503975   7.189423\n",
       "407 -24.148630  -9.120502\n",
       "\n",
       "[408 rows x 2 columns]"
      ]
     },
     "execution_count": 24,
     "metadata": {},
     "output_type": "execute_result"
    }
   ],
   "source": [
    "pd.DataFrame(X_2d)"
   ]
  },
  {
   "cell_type": "code",
   "execution_count": 25,
   "id": "b9297214",
   "metadata": {
    "ExecuteTime": {
     "end_time": "2023-12-24T10:10:52.417049Z",
     "start_time": "2023-12-24T10:10:50.695053Z"
    }
   },
   "outputs": [
    {
     "data": {
      "image/png": "[encoded data removed]",
      "text/plain": [
       "<Figure size 432x288 with 1 Axes>"
      ]
     },
     "metadata": {
      "needs_background": "light"
     },
     "output_type": "display_data"
    }
   ],
   "source": [
    "tsne = TSNE(n_components=3 ,random_state=0)  \n",
    "X_3d = tsne.fit_transform(df)\n",
    "fig = plt.figure()  \n",
    "ax = fig.add_subplot(111, projection='3d') \n",
    "for i in label_num :\n",
    "    temp = X_3d[label == i]\n",
    "    ax.scatter(temp[:, 0], temp[:, 1], temp[:, 2], s=5)  "
   ]
  },
  {
   "cell_type": "code",
   "execution_count": 26,
   "id": "c35cfbc3",
   "metadata": {
    "ExecuteTime": {
     "end_time": "2023-12-24T10:11:00.018215Z",
     "start_time": "2023-12-24T10:11:00.008176Z"
    }
   },
   "outputs": [
    {
     "data": {
      "text/html": [
       "<div>\n",
       "<style scoped>\n",
       "    .dataframe tbody tr th:only-of-type {\n",
       "        vertical-align: middle;\n",
       "    }\n",
       "\n",
       "    .dataframe tbody tr th {\n",
       "        vertical-align: top;\n",
       "    }\n",
       "\n",
       "    .dataframe thead th {\n",
       "        text-align: right;\n",
       "    }\n",
       "</style>\n",
       "<table border=\"1\" class=\"dataframe\">\n",
       "  <thead>\n",
       "    <tr style=\"text-align: right;\">\n",
       "      <th></th>\n",
       "      <th>0</th>\n",
       "      <th>1</th>\n",
       "      <th>2</th>\n",
       "    </tr>\n",
       "  </thead>\n",
       "  <tbody>\n",
       "    <tr>\n",
       "      <th>0</th>\n",
       "      <td>-1.135612</td>\n",
       "      <td>-15.578084</td>\n",
       "      <td>-0.808352</td>\n",
       "    </tr>\n",
       "    <tr>\n",
       "      <th>1</th>\n",
       "      <td>-1.458159</td>\n",
       "      <td>-9.917426</td>\n",
       "      <td>16.609097</td>\n",
       "    </tr>\n",
       "    <tr>\n",
       "      <th>2</th>\n",
       "      <td>6.067926</td>\n",
       "      <td>-23.972282</td>\n",
       "      <td>-10.119480</td>\n",
       "    </tr>\n",
       "    <tr>\n",
       "      <th>3</th>\n",
       "      <td>-28.185875</td>\n",
       "      <td>-16.074564</td>\n",
       "      <td>18.112934</td>\n",
       "    </tr>\n",
       "    <tr>\n",
       "      <th>4</th>\n",
       "      <td>-8.623219</td>\n",
       "      <td>-20.887428</td>\n",
       "      <td>15.802938</td>\n",
       "    </tr>\n",
       "    <tr>\n",
       "      <th>...</th>\n",
       "      <td>...</td>\n",
       "      <td>...</td>\n",
       "      <td>...</td>\n",
       "    </tr>\n",
       "    <tr>\n",
       "      <th>403</th>\n",
       "      <td>-3.606115</td>\n",
       "      <td>-16.048019</td>\n",
       "      <td>14.117353</td>\n",
       "    </tr>\n",
       "    <tr>\n",
       "      <th>404</th>\n",
       "      <td>11.627268</td>\n",
       "      <td>5.200423</td>\n",
       "      <td>-12.811044</td>\n",
       "    </tr>\n",
       "    <tr>\n",
       "      <th>405</th>\n",
       "      <td>6.241803</td>\n",
       "      <td>-1.720730</td>\n",
       "      <td>5.645647</td>\n",
       "    </tr>\n",
       "    <tr>\n",
       "      <th>406</th>\n",
       "      <td>-15.141407</td>\n",
       "      <td>-13.969590</td>\n",
       "      <td>-18.219048</td>\n",
       "    </tr>\n",
       "    <tr>\n",
       "      <th>407</th>\n",
       "      <td>8.732494</td>\n",
       "      <td>37.091667</td>\n",
       "      <td>4.003466</td>\n",
       "    </tr>\n",
       "  </tbody>\n",
       "</table>\n",
       "<p>408 rows × 3 columns</p>\n",
       "</div>"
      ],
      "text/plain": [
       "             0          1          2\n",
       "0    -1.135612 -15.578084  -0.808352\n",
       "1    -1.458159  -9.917426  16.609097\n",
       "2     6.067926 -23.972282 -10.119480\n",
       "3   -28.185875 -16.074564  18.112934\n",
       "4    -8.623219 -20.887428  15.802938\n",
       "..         ...        ...        ...\n",
       "403  -3.606115 -16.048019  14.117353\n",
       "404  11.627268   5.200423 -12.811044\n",
       "405   6.241803  -1.720730   5.645647\n",
       "406 -15.141407 -13.969590 -18.219048\n",
       "407   8.732494  37.091667   4.003466\n",
       "\n",
       "[408 rows x 3 columns]"
      ]
     },
     "execution_count": 26,
     "metadata": {},
     "output_type": "execute_result"
    }
   ],
   "source": [
    "pd.DataFrame(X_3d)"
   ]
  },
  {
   "cell_type": "code",
   "execution_count": null,
   "id": "b43da15b",
   "metadata": {},
   "outputs": [],
   "source": []
  }
 ],
 "metadata": {
  "kernelspec": {
   "display_name": "Python 3 (ipykernel)",
   "language": "python",
   "name": "python3"
  },
  "language_info": {
   "codemirror_mode": {
    "name": "ipython",
    "version": 3
   },
   "file_extension": ".py",
   "mimetype": "text/x-python",
   "name": "python",
   "nbconvert_exporter": "python",
   "pygments_lexer": "ipython3",
   "version": "3.9.7"
  }
 },
 "nbformat": 4,
 "nbformat_minor": 5
}
