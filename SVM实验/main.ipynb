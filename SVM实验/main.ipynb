{
 "cells": [
  {
   "cell_type": "code",
   "execution_count": 1,
   "metadata": {
    "ExecuteTime": {
     "end_time": "2023-11-23T09:13:18.204815Z",
     "start_time": "2023-11-23T09:13:17.908389Z"
    }
   },
   "outputs": [],
   "source": [
    "import numpy as np\n",
    "import random"
   ]
  },
  {
   "cell_type": "markdown",
   "metadata": {},
   "source": [
    "# generate data"
   ]
  },
  {
   "cell_type": "code",
   "execution_count": 2,
   "metadata": {
    "ExecuteTime": {
     "end_time": "2023-11-23T09:13:21.622962Z",
     "start_time": "2023-11-23T09:13:21.591129Z"
    }
   },
   "outputs": [],
   "source": [
    "# In real-world scenarios, learning how the data was generated is impractical. Do not rely on this function while doing research.\n",
    "def generate_data(dim, num):\n",
    "    x = np.random.normal(0, 10, [num, dim])\n",
    "    coef = np.random.uniform(-1, 1, [dim, 1])\n",
    "    pred = np.dot(x, coef)\n",
    "    pred_n = (pred - np.mean(pred)) / np.sqrt(np.var(pred))\n",
    "    label = np.sign(pred_n)\n",
    "    mislabel_value = np.random.uniform(0, 1, num)\n",
    "    mislabel = 0\n",
    "    mis_label=[]\n",
    "    for i in range(num):\n",
    "        if np.abs(pred_n[i]) < 1 and mislabel_value[i] > 0.9 + 0.1 * np.abs(pred_n[i]):\n",
    "            label[i] *= -1\n",
    "            mislabel += 1\n",
    "            mis_label.append(i)\n",
    "    return x, label, mislabel/num,mis_label"
   ]
  },
  {
   "cell_type": "markdown",
   "metadata": {},
   "source": [
    "# write your model class"
   ]
  },
  {
   "cell_type": "code",
   "execution_count": 3,
   "metadata": {
    "ExecuteTime": {
     "end_time": "2023-11-23T09:13:24.128685Z",
     "start_time": "2023-11-23T09:13:24.120600Z"
    }
   },
   "outputs": [],
   "source": [
    "def accuracy(orin_y,predict_y) :\n",
    "    len_ = len(orin_y)\n",
    "    acc = 0\n",
    "    for i in range(len_) :\n",
    "        if orin_y[i] == predict_y[i] :\n",
    "            acc += 1\n",
    "    return acc/len_"
   ]
  },
  {
   "cell_type": "markdown",
   "metadata": {},
   "source": [
    "## 软间隔SVM"
   ]
  },
  {
   "cell_type": "code",
   "execution_count": 4,
   "metadata": {
    "ExecuteTime": {
     "end_time": "2023-11-23T09:13:27.607855Z",
     "start_time": "2023-11-23T09:13:27.574316Z"
    }
   },
   "outputs": [],
   "source": [
    "# Modifying the overall structure is acceptable but not recommended\n",
    "class SOFT_SVM:\n",
    "    def __init__(self, dim):\n",
    "        self.dim=dim\n",
    "    \n",
    "    def f(self,alpha,X,y,b,x) :\n",
    "        sum_=0\n",
    "        for i in range(len(X)) :\n",
    "            sum_+=alpha[i]*y[i]*np.dot(X[i],x)\n",
    "        return sum_+b\n",
    "\n",
    "    def __SMO(self,X, y, C,tol=1e-5, max_iter=2000):  \n",
    "        n = self.dim\n",
    "        m=len(X)\n",
    "        alpha = np.zeros(m)  \n",
    "        time = 0\n",
    "        b = 0\n",
    "        self.w,self.b=0,0\n",
    "        pre_acc = 0\n",
    "        while time < max_iter :\n",
    "            time += 1\n",
    "            if time %100==0 :\n",
    "                print(time,pre_acc)\n",
    "            i = random.randint(0,m-1)\n",
    "            while True :\n",
    "                j = random.randint(0,m-1)\n",
    "                if j != i : break\n",
    "            Ei=self.f(alpha,X,y,b,X[i])-y[i]\n",
    "            Ej=self.f(alpha,X,y,b,X[j])-y[j]\n",
    "            Kii=np.dot(X[i],X[i])\n",
    "            Kij=np.dot(X[i],X[j])\n",
    "            Kjj=np.dot(X[j],X[j])\n",
    "            eta=Kii+Kjj-2*Kij\n",
    "            temp_alpha_j=alpha[j]+y[j]*(Ei-Ej)/eta\n",
    "            old_j,old_i,old_b=alpha[j],alpha[i],self.b\n",
    "            old_w=1*self.w\n",
    "            if abs(temp_alpha_j - old_j) < 0.00002:\n",
    "                continue\n",
    "            if y[i] == y[j] :\n",
    "                low = max(0,alpha[j]+alpha[i]-C)\n",
    "                high = min(C,alpha[i] + alpha[j])\n",
    "            else :\n",
    "                low = max(0,alpha[j]-alpha[i])\n",
    "                high = min(C,C+alpha[j]-alpha[i])\n",
    "            if temp_alpha_j>high :\n",
    "                change_alpha_j=high\n",
    "            elif low<=temp_alpha_j and temp_alpha_j<=high :\n",
    "                change_alpha_j=temp_alpha_j\n",
    "            else :\n",
    "                change_alpha_j=low\n",
    "            change_alpha_i=alpha[i]+y[i]*y[j]*(alpha[j]-change_alpha_j)\n",
    "            alpha[i]=change_alpha_i\n",
    "            alpha[j]=change_alpha_j\n",
    "            bi = -Ei - y[i]*Kii*(alpha[i] - old_i) - y[j]*Kij*(alpha[j] - old_j) + b\n",
    "            bj = -Ej - y[i]*Kij*(alpha[i] - old_i) - y[j]*Kjj*(alpha[j] - old_j) + b\n",
    "            if alpha[i] > 0 and alpha[i]<C:\n",
    "                b = bi\n",
    "            elif alpha[j] > 0 and alpha[j]<C:\n",
    "                b = bj\n",
    "            else:\n",
    "                b = (bi + bj)/2\n",
    "            self.w=np.zeros(n)\n",
    "            self.b=b\n",
    "            for k in range(m) :\n",
    "                self.w += alpha[k]*y[k]*X[k]\n",
    "            acc=accuracy(self.predict(X),y)\n",
    "            if pre_acc > acc :\n",
    "                self.w=1*old_w\n",
    "                self.b=1*old_b\n",
    "                alpha[i]=old_i\n",
    "                alpha[j]=old_j\n",
    "                continue\n",
    "            pre_acc=acc\n",
    "            \n",
    "    def fit(self, X, y, C): #C为惩罚项系数\n",
    "        m=len(X)\n",
    "        self.__SMO(X, y, m, C)\n",
    "        \n",
    "    def predict(self, X):\n",
    "        predict_y=np.zeros(len(X))\n",
    "        for i in range(len(X)) :\n",
    "            predict_y[i]=np.dot(X[i],self.w)+self.b\n",
    "        for i in range(len(X)) :\n",
    "            if predict_y[i]>=0 :\n",
    "                predict_y[i] = 1\n",
    "            else :\n",
    "                predict_y[i] = -1\n",
    "        return predict_y"
   ]
  },
  {
   "cell_type": "markdown",
   "metadata": {},
   "source": [
    "## 硬间隔随机SMO"
   ]
  },
  {
   "cell_type": "code",
   "execution_count": 5,
   "metadata": {
    "ExecuteTime": {
     "end_time": "2023-11-23T09:13:28.608089Z",
     "start_time": "2023-11-23T09:13:28.576245Z"
    }
   },
   "outputs": [],
   "source": [
    "# Modifying the overall structure is acceptable but not recommended\n",
    "class RAND_SVM:\n",
    "    def __init__(self, dim):\n",
    "        \"\"\"\n",
    "        Adding other parameters is acceptable but not necessary.\n",
    "        \"\"\"\n",
    "        self.dim=dim\n",
    "    \n",
    "    def f(self,alpha,X,y,b,x) :\n",
    "        sum_=0\n",
    "        for i in range(len(X)) :\n",
    "            sum_+=alpha[i]*y[i]*np.dot(X[i],x)\n",
    "        return sum_+b\n",
    "\n",
    "    def __SMO(self,X, y, m,tol=1e-5, max_iter=2000):  \n",
    "        n = self.dim\n",
    "        alpha = np.zeros(m)  \n",
    "        time = 0\n",
    "        b = 0\n",
    "        self.w=np.zeros(self.dim)\n",
    "        self.b=0\n",
    "        while time < max_iter :\n",
    "            i = random.randint(0,m-1)\n",
    "            while True :\n",
    "                j = random.randint(0,m-1)\n",
    "                if j != i : break\n",
    "            Ei=self.f(alpha,X,y,b,X[i])-y[i]\n",
    "            Ej=self.f(alpha,X,y,b,X[j])-y[j]\n",
    "            Kii=np.dot(X[i],X[i])\n",
    "            Kij=np.dot(X[i],X[j])\n",
    "            Kjj=np.dot(X[j],X[j])\n",
    "            eta=Kii+Kjj-2*Kij\n",
    "            temp_alpha_j=alpha[j]+y[j]*(Ei-Ej)/eta\n",
    "            old_j,old_i=alpha[j],alpha[i]\n",
    "            if abs(temp_alpha_j - old_j) < 0.00001:\n",
    "                continue\n",
    "            if y[i] == y[j] :\n",
    "                low = 0\n",
    "                high = alpha[i] + alpha[j]\n",
    "            else :\n",
    "                low = max(0,alpha[j]-alpha[i])\n",
    "                high = np.inf\n",
    "            if temp_alpha_j>high :\n",
    "                change_alpha_j=high\n",
    "            elif low<=temp_alpha_j and temp_alpha_j<=high :\n",
    "                change_alpha_j=temp_alpha_j\n",
    "            else :\n",
    "                change_alpha_j=low\n",
    "            change_alpha_i=alpha[i]+y[i]*y[j]*(alpha[j]-change_alpha_j)\n",
    "            alpha[i]=change_alpha_i\n",
    "            alpha[j]=change_alpha_j\n",
    "            bi = -Ei - y[i]*Kii*(alpha[i] - old_i) - y[j]*Kij*(alpha[j] - old_j) + b\n",
    "            bj = -Ej - y[i]*Kij*(alpha[i] - old_i) - y[j]*Kjj*(alpha[j] - old_j) + b\n",
    "            if alpha[i] > 0 :\n",
    "                b = bi\n",
    "            elif alpha[j] > 0:\n",
    "                b = bj\n",
    "            else:\n",
    "                b = (bi + bj)/2\n",
    "            time += 1\n",
    "            self.w=np.zeros(n)\n",
    "            self.b=b\n",
    "            for k in range(m) :\n",
    "                self.w += alpha[k]*y[k]*X[k]\n",
    "            acc=accuracy(self.predict(X),y)\n",
    "            if time%100==0 :\n",
    "                print(time,acc)\n",
    "        w=np.zeros(self.dim)\n",
    "        for i in range(m) :\n",
    "            w += alpha[i]*y[i]*X[i]\n",
    "        self.w=w\n",
    "        self.b=b\n",
    "\n",
    "    def fit(self, X, y):\n",
    "        \"\"\"\n",
    "        Fit the coefficients via your method1\n",
    "        \"\"\"\n",
    "        m=len(X)\n",
    "        self.__SMO(X, y, m)\n",
    "        \n",
    "    def predict(self, X):\n",
    "        predict_y=np.zeros(len(X))\n",
    "        for i in range(len(X)) :\n",
    "            predict_y[i]=np.dot(X[i],self.w)+self.b\n",
    "        for i in range(len(X)) :\n",
    "            if predict_y[i]>=0 :\n",
    "                predict_y[i] = 1\n",
    "            else :\n",
    "                predict_y[i] = -1\n",
    "        return predict_y"
   ]
  },
  {
   "cell_type": "markdown",
   "metadata": {},
   "source": [
    "## 硬间隔SVM启发式SMO "
   ]
  },
  {
   "cell_type": "code",
   "execution_count": 6,
   "metadata": {
    "ExecuteTime": {
     "end_time": "2023-11-23T09:14:01.756749Z",
     "start_time": "2023-11-23T09:14:01.722849Z"
    }
   },
   "outputs": [],
   "source": [
    "# Modifying the overall structure is acceptable but not recommended\n",
    "class SMO_HARD_SVM:\n",
    "    def __init__(self, dim):\n",
    "        \"\"\"\n",
    "        Adding other parameters is acceptable but not necessary.\n",
    "        \"\"\"\n",
    "        self.dim=dim\n",
    "    \n",
    "    def f(self,alpha,X,y,b,x) :\n",
    "        sum_=0\n",
    "        for i in range(len(X)) :\n",
    "            sum_+=alpha[i]*y[i]*np.dot(X[i],x)\n",
    "        return sum_+b\n",
    "\n",
    "    def SMO(self,X, y, m,tol=1e-5, max_iter=10):  \n",
    "        n = self.dim\n",
    "        alpha = np.ones(m)  \n",
    "        time = 0\n",
    "        b = 0\n",
    "        self.w=np.zeros(n)\n",
    "        self.b=0\n",
    "        while time < max_iter :\n",
    "            con = np.zeros(m)\n",
    "            min__=np.inf\n",
    "            min_flag=-1\n",
    "            for k in range(m) :\n",
    "                g = y[k][0]*self.f(alpha,X,y,b,X[k])[0]-1\n",
    "                if g < min__ :\n",
    "                    min__=g\n",
    "                    min_flag=k\n",
    "            i = min_flag\n",
    "#             计算距KKT最大\n",
    "            mindist=np.inf\n",
    "            mindist_flag=-1\n",
    "            for k in range(m) :\n",
    "                if i != k :\n",
    "                    d = np.linalg.norm(X[i]-X[k])\n",
    "                    if d < mindist :\n",
    "                        mindist,mindist_flag=d,k\n",
    "            j = mindist_flag\n",
    "#             强SMO计算距离X[i]最大\n",
    "            Ei=self.f(alpha,X,y,b,X[i])-y[i]\n",
    "            Ej=self.f(alpha,X,y,b,X[j])-y[j]\n",
    "            Kii=np.dot(X[i],X[i])\n",
    "            Kij=np.dot(X[i],X[j])\n",
    "            Kjj=np.dot(X[j],X[j])\n",
    "            eta=Kii+Kjj-2*Kij\n",
    "            temp_alpha_j=alpha[j]+y[j]*(Ei-Ej)/eta\n",
    "            old_j,old_i=alpha[j],alpha[i]\n",
    "            if y[i] == y[j] :\n",
    "                low = 0\n",
    "                high = alpha[i] + alpha[j]\n",
    "            else :\n",
    "                low = max(0,alpha[j]-alpha[i])\n",
    "                high = np.inf\n",
    "            if temp_alpha_j>high :\n",
    "                change_alpha_j=high\n",
    "            elif low<=temp_alpha_j and temp_alpha_j<=high :\n",
    "                change_alpha_j=temp_alpha_j\n",
    "            else :\n",
    "                change_alpha_j=low\n",
    "            change_alpha_i=alpha[i]+y[i]*y[j]*(alpha[j]-change_alpha_j)\n",
    "            alpha[i]=change_alpha_i\n",
    "            alpha[j]=change_alpha_j\n",
    "            bi = -Ei - y[i]*Kii*(alpha[i] - old_i) - y[j]*Kij*(alpha[j] - old_j) + b\n",
    "            bj = -Ej - y[i]*Kij*(alpha[i] - old_i) - y[j]*Kjj*(alpha[j] - old_j) + b\n",
    "            if alpha[i] > 0 :\n",
    "                b = bi\n",
    "            elif alpha[j] > 0:\n",
    "                b = bj\n",
    "            else:\n",
    "                b = (bi + bj)/2\n",
    "            self.w=np.zeros(n)\n",
    "            for k in range(m) :\n",
    "                self.w += alpha[k]*y[k]*X[k]\n",
    "            self.b=b\n",
    "            print(time,accuracy(self.predict(X),y),i,j)\n",
    "            time+=1\n",
    "            if time %1000==0 :\n",
    "                print(time)\n",
    "\n",
    "    def fit(self, X, y):\n",
    "        \"\"\"\n",
    "        Fit the coefficients via your method1\n",
    "        \"\"\"\n",
    "        m=len(X)\n",
    "        self.SMO(X, y, m)\n",
    "        \n",
    "    def predict(self, X):\n",
    "        predict_y=np.zeros(len(X))\n",
    "        for i in range(len(X)) :\n",
    "            predict_y[i]=np.dot(X[i],self.w)+self.b\n",
    "        for i in range(len(X)) :\n",
    "            if predict_y[i]>=0 :\n",
    "                predict_y[i] = 1\n",
    "            else :\n",
    "                predict_y[i] = -1\n",
    "        return predict_y\n",
    "# 如果采用强SMO，其实如果两个标错的数据同时被选中会导致死循环!!!"
   ]
  },
  {
   "cell_type": "markdown",
   "metadata": {},
   "source": [
    "## SVM随机SMO，但是根据准确率筛除"
   ]
  },
  {
   "cell_type": "code",
   "execution_count": 7,
   "metadata": {
    "ExecuteTime": {
     "end_time": "2023-11-23T09:14:02.880574Z",
     "start_time": "2023-11-23T09:14:02.847581Z"
    }
   },
   "outputs": [],
   "source": [
    "# Modifying the overall structure is acceptable but not recommended\n",
    "class SVM1:\n",
    "    def __init__(self, dim):\n",
    "        self.dim=dim\n",
    "    \n",
    "    def f(self,alpha,X,y,b,x) :\n",
    "        sum_=0\n",
    "        for i in range(len(X)) :\n",
    "            sum_+=alpha[i]*y[i]*np.dot(X[i],x)\n",
    "        return sum_+b\n",
    "\n",
    "    def SMO(self,X, y, m,tol=1e-5, max_iter=2000):  \n",
    "        n = self.dim\n",
    "        alpha = np.ones(m)  \n",
    "        time = 0\n",
    "        b = 0\n",
    "        pre_acc=0\n",
    "        self.w=np.zeros(n)\n",
    "        self.b=0\n",
    "        while time < max_iter :\n",
    "            time += 1\n",
    "            if time %100==0 :\n",
    "                print(time,pre_acc)\n",
    "            con = np.zeros(m)\n",
    "            min__=np.inf\n",
    "            min_flag=-1\n",
    "            i = random.randint(0,m-1) \n",
    "            while True :\n",
    "                j = random.randint(0,m-1)\n",
    "                if j != i : break\n",
    "            Ei=self.f(alpha,X,y,b,X[i])-y[i]\n",
    "            Ej=self.f(alpha,X,y,b,X[j])-y[j]\n",
    "            Kii=np.dot(X[i],X[i])\n",
    "            Kij=np.dot(X[i],X[j])\n",
    "            Kjj=np.dot(X[j],X[j])\n",
    "            eta=Kii+Kjj-2*Kij\n",
    "            temp_alpha_j=alpha[j]+y[j]*(Ei-Ej)/eta\n",
    "            old_j,old_i,old_b=alpha[j],alpha[i],self.b\n",
    "            old_w=1*self.w\n",
    "            if y[i] == y[j] :\n",
    "                low = 0\n",
    "                high = alpha[i] + alpha[j]\n",
    "            else :\n",
    "                low = max(0,alpha[j]-alpha[i])\n",
    "                high = np.inf\n",
    "            if temp_alpha_j>high :\n",
    "                change_alpha_j=high\n",
    "            elif low<=temp_alpha_j and temp_alpha_j<=high :\n",
    "                change_alpha_j=temp_alpha_j\n",
    "            else :\n",
    "                change_alpha_j=low\n",
    "            change_alpha_i=alpha[i]+y[i]*y[j]*(alpha[j]-change_alpha_j)\n",
    "            alpha[i]=change_alpha_i\n",
    "            alpha[j]=change_alpha_j\n",
    "            bi = -Ei - y[i]*Kii*(alpha[i] - old_i) - y[j]*Kij*(alpha[j] - old_j) + b\n",
    "            bj = -Ej - y[i]*Kij*(alpha[i] - old_i) - y[j]*Kjj*(alpha[j] - old_j) + b\n",
    "            if alpha[i] > 0 :\n",
    "                b = bi\n",
    "            elif alpha[j] > 0:\n",
    "                b = bj\n",
    "            else:\n",
    "                b = (bi + bj)/2\n",
    "            self.w=np.zeros(n)\n",
    "            self.b=b\n",
    "            for k in range(m) :\n",
    "                self.w += alpha[k]*y[k]*X[k]\n",
    "            acc=accuracy(self.predict(X),y)\n",
    "            if pre_acc > acc :\n",
    "                self.w=1*old_w\n",
    "                self.b=1*old_b\n",
    "                alpha[i]=old_i\n",
    "                alpha[j]=old_j\n",
    "                continue\n",
    "            pre_acc=acc\n",
    "\n",
    "    def fit(self, X, y):\n",
    "        \"\"\"\n",
    "        Fit the coefficients via your method1\n",
    "        \"\"\"\n",
    "        m=len(X)\n",
    "        self.SMO(X, y, m)\n",
    "        \n",
    "    def predict(self, X):\n",
    "        predict_y=np.zeros(len(X))\n",
    "        for i in range(len(X)) :\n",
    "            predict_y[i]=np.dot(X[i],self.w)+self.b\n",
    "        for i in range(len(X)) :\n",
    "            if predict_y[i]>=0 :\n",
    "                predict_y[i] = 1\n",
    "            else :\n",
    "                predict_y[i] = -1\n",
    "        return predict_y"
   ]
  },
  {
   "cell_type": "markdown",
   "metadata": {},
   "source": [
    "## 梯度下降SVM"
   ]
  },
  {
   "cell_type": "code",
   "execution_count": 8,
   "metadata": {
    "ExecuteTime": {
     "end_time": "2023-11-23T09:14:03.908319Z",
     "start_time": "2023-11-23T09:14:03.888069Z"
    }
   },
   "outputs": [],
   "source": [
    "# Modifying the overall structure is acceptable but not recommended\n",
    "class SVM2:\n",
    "    def __init__(self, dim):\n",
    "        self.dim=dim\n",
    "    \n",
    "    def f(self,alpha,X,y,b,x) :\n",
    "        sum_=0\n",
    "        for i in range(len(X)) :\n",
    "            sum_+=alpha[i]*y[i]*np.dot(X[i],x)\n",
    "        return sum_+b\n",
    "    \n",
    "\n",
    "    def fit(self, X, y,tol,C,lr):\n",
    "        \"\"\"\n",
    "        Fit the coefficients via your method1\n",
    "        \"\"\"\n",
    "        self.w=np.zeros(self.dim)\n",
    "        self.b=0\n",
    "        m=len(X)\n",
    "        time=0\n",
    "        grad_w=np.zeros(self.dim)\n",
    "        while True :\n",
    "            time+=1\n",
    "            grad_w=np.copy(self.w)\n",
    "            grad_b=0\n",
    "            for i in range(m) :\n",
    "                temp=-y[i][0]*(np.dot(self.w,X[i])+self.b)\n",
    "                if temp >= 0 :\n",
    "                    grad_w+=C*(-y[i][0]*X[i])/(1+np.exp(-temp))\n",
    "                    grad_b+=C*(-y[i][0])/(1+np.exp(-temp))\n",
    "                else :\n",
    "                    grad_w+=C*np.exp(temp)*(-y[i][0]*X[i])/(1+np.exp(temp))\n",
    "                    grad_b+=C*np.exp(temp)*(-y[i][0])/(1+np.exp(temp))\n",
    "            self.w-=lr*grad_w\n",
    "            self.b-=lr*grad_b\n",
    "            if grad_b**2+np.dot(grad_w,grad_w) < tol :\n",
    "                break\n",
    "\n",
    "    def predict(self, X):\n",
    "        predict_y=np.zeros(len(X))\n",
    "        for i in range(len(X)) :\n",
    "            predict_y[i]=np.dot(X[i],self.w)+self.b\n",
    "        for i in range(len(X)) :\n",
    "            if predict_y[i]>=0 :\n",
    "                predict_y[i] = 1\n",
    "            else :\n",
    "                predict_y[i] = -1\n",
    "        return predict_y\n",
    "            \n"
   ]
  },
  {
   "cell_type": "markdown",
   "metadata": {},
   "source": [
    "# construct and train your models"
   ]
  },
  {
   "cell_type": "code",
   "execution_count": 23,
   "metadata": {
    "ExecuteTime": {
     "end_time": "2023-11-23T13:24:37.983144Z",
     "start_time": "2023-11-23T13:24:37.951185Z"
    }
   },
   "outputs": [],
   "source": [
    "# example\n",
    "x, y, mr,mis_label = generate_data(20, 1000)"
   ]
  },
  {
   "cell_type": "code",
   "execution_count": 39,
   "metadata": {
    "ExecuteTime": {
     "end_time": "2023-11-23T15:00:31.501523Z",
     "start_time": "2023-11-23T15:00:31.496814Z"
    }
   },
   "outputs": [
    {
     "data": {
      "text/plain": [
       "0.036"
      ]
     },
     "execution_count": 39,
     "metadata": {},
     "output_type": "execute_result"
    }
   ],
   "source": [
    "mr"
   ]
  },
  {
   "cell_type": "code",
   "execution_count": 24,
   "metadata": {
    "ExecuteTime": {
     "end_time": "2023-11-23T13:24:38.648542Z",
     "start_time": "2023-11-23T13:24:38.616562Z"
    }
   },
   "outputs": [
    {
     "data": {
      "text/plain": [
       "[12,\n",
       " 64,\n",
       " 104,\n",
       " 106,\n",
       " 177,\n",
       " 184,\n",
       " 200,\n",
       " 218,\n",
       " 226,\n",
       " 230,\n",
       " 321,\n",
       " 352,\n",
       " 377,\n",
       " 408,\n",
       " 416,\n",
       " 428,\n",
       " 440,\n",
       " 460,\n",
       " 462,\n",
       " 474,\n",
       " 488,\n",
       " 518,\n",
       " 528,\n",
       " 634,\n",
       " 680,\n",
       " 712,\n",
       " 723,\n",
       " 768,\n",
       " 776,\n",
       " 811,\n",
       " 887,\n",
       " 896,\n",
       " 902,\n",
       " 913,\n",
       " 957,\n",
       " 991]"
      ]
     },
     "execution_count": 24,
     "metadata": {},
     "output_type": "execute_result"
    }
   ],
   "source": [
    "mis_label #打印出来标错数据"
   ]
  },
  {
   "cell_type": "code",
   "execution_count": 25,
   "metadata": {
    "ExecuteTime": {
     "end_time": "2023-11-23T13:25:06.704245Z",
     "start_time": "2023-11-23T13:24:39.681670Z"
    }
   },
   "outputs": [
    {
     "name": "stdout",
     "output_type": "stream",
     "text": [
      "100 0.796\n",
      "200 0.797\n",
      "300 0.801\n",
      "400 0.868\n",
      "500 0.868\n",
      "600 0.875\n",
      "700 0.883\n",
      "800 0.886\n",
      "900 0.891\n",
      "1000 0.894\n",
      "1100 0.896\n",
      "1200 0.896\n",
      "1300 0.896\n",
      "1400 0.896\n",
      "1500 0.896\n",
      "1600 0.905\n",
      "1700 0.906\n",
      "1800 0.907\n",
      "1900 0.907\n",
      "2000 0.907\n"
     ]
    }
   ],
   "source": [
    "soft_svm=SOFT_SVM(20)\n",
    "soft_svm.fit(x,y,1)"
   ]
  },
  {
   "cell_type": "code",
   "execution_count": 26,
   "metadata": {
    "ExecuteTime": {
     "end_time": "2023-11-23T13:25:37.431030Z",
     "start_time": "2023-11-23T13:25:06.705246Z"
    }
   },
   "outputs": [
    {
     "name": "stdout",
     "output_type": "stream",
     "text": [
      "100 0.725\n",
      "200 0.885\n",
      "300 0.858\n",
      "400 0.802\n",
      "500 0.893\n",
      "600 0.829\n",
      "700 0.907\n",
      "800 0.776\n",
      "900 0.736\n",
      "1000 0.907\n",
      "1100 0.796\n",
      "1200 0.843\n",
      "1300 0.869\n",
      "1400 0.832\n",
      "1500 0.868\n",
      "1600 0.83\n",
      "1700 0.632\n",
      "1800 0.901\n",
      "1900 0.847\n",
      "2000 0.893\n"
     ]
    }
   ],
   "source": [
    "rand_svm=RAND_SVM(20)\n",
    "rand_svm.fit(x,y)"
   ]
  },
  {
   "cell_type": "code",
   "execution_count": 27,
   "metadata": {
    "ExecuteTime": {
     "end_time": "2023-11-23T13:26:17.382607Z",
     "start_time": "2023-11-23T13:25:37.431030Z"
    }
   },
   "outputs": [
    {
     "name": "stdout",
     "output_type": "stream",
     "text": [
      "0 0.686 991 518\n",
      "1 0.807 428 94\n",
      "2 0.658 488 973\n",
      "3 0.859 218 168\n",
      "4 0.688 488 973\n",
      "5 0.754 440 10\n",
      "6 0.685 488 973\n",
      "7 0.754 440 10\n",
      "8 0.685 488 973\n",
      "9 0.754 440 10\n"
     ]
    }
   ],
   "source": [
    "smo_hard_svm=SMO_HARD_SVM(20)\n",
    "smo_hard_svm.fit(x,y)"
   ]
  },
  {
   "cell_type": "code",
   "execution_count": 28,
   "metadata": {
    "ExecuteTime": {
     "end_time": "2023-11-23T13:26:47.279136Z",
     "start_time": "2023-11-23T13:26:17.383291Z"
    }
   },
   "outputs": [
    {
     "name": "stdout",
     "output_type": "stream",
     "text": [
      "100 0.939\n",
      "200 0.945\n",
      "300 0.947\n",
      "400 0.947\n",
      "500 0.95\n",
      "600 0.952\n",
      "700 0.952\n",
      "800 0.952\n",
      "900 0.952\n",
      "1000 0.952\n",
      "1100 0.952\n",
      "1200 0.952\n",
      "1300 0.952\n",
      "1400 0.953\n",
      "1500 0.953\n",
      "1600 0.953\n",
      "1700 0.953\n",
      "1800 0.953\n",
      "1900 0.953\n",
      "2000 0.953\n"
     ]
    }
   ],
   "source": [
    "svm1=SVM1(20)\n",
    "svm1.fit(x,y)"
   ]
  },
  {
   "cell_type": "code",
   "execution_count": 29,
   "metadata": {
    "ExecuteTime": {
     "end_time": "2023-11-23T13:26:56.929622Z",
     "start_time": "2023-11-23T13:26:47.279136Z"
    }
   },
   "outputs": [],
   "source": [
    "svm2=SVM2(20)\n",
    "svm2.fit(x,y,1e-4,1,0.0001)"
   ]
  },
  {
   "cell_type": "markdown",
   "metadata": {},
   "source": [
    "# predict and compare your results"
   ]
  },
  {
   "cell_type": "code",
   "execution_count": 30,
   "metadata": {
    "ExecuteTime": {
     "end_time": "2023-11-23T13:26:56.945141Z",
     "start_time": "2023-11-23T13:26:56.929622Z"
    }
   },
   "outputs": [],
   "source": [
    "# make prediction\n",
    "# pred = model1.predict()\n",
    "\n",
    "# compare with generated label\n",
    "\n",
    "# compare each method\n",
    "\n",
    "# (Optional) compare with sklearn"
   ]
  },
  {
   "cell_type": "code",
   "execution_count": 31,
   "metadata": {
    "ExecuteTime": {
     "end_time": "2023-11-23T13:26:56.956497Z",
     "start_time": "2023-11-23T13:26:56.947211Z"
    }
   },
   "outputs": [
    {
     "data": {
      "text/plain": [
       "0.907"
      ]
     },
     "execution_count": 31,
     "metadata": {},
     "output_type": "execute_result"
    }
   ],
   "source": [
    "soft_predict=soft_svm.predict(x)\n",
    "accuracy(y,soft_predict)"
   ]
  },
  {
   "cell_type": "code",
   "execution_count": 32,
   "metadata": {
    "ExecuteTime": {
     "end_time": "2023-11-23T13:26:56.972227Z",
     "start_time": "2023-11-23T13:26:56.956497Z"
    }
   },
   "outputs": [
    {
     "data": {
      "text/plain": [
       "0.893"
      ]
     },
     "execution_count": 32,
     "metadata": {},
     "output_type": "execute_result"
    }
   ],
   "source": [
    "rand_svm_predict=rand_svm.predict(x)\n",
    "accuracy(y,rand_svm_predict)"
   ]
  },
  {
   "cell_type": "code",
   "execution_count": 33,
   "metadata": {
    "ExecuteTime": {
     "end_time": "2023-11-23T13:26:56.987804Z",
     "start_time": "2023-11-23T13:26:56.972227Z"
    }
   },
   "outputs": [
    {
     "data": {
      "text/plain": [
       "0.754"
      ]
     },
     "execution_count": 33,
     "metadata": {},
     "output_type": "execute_result"
    }
   ],
   "source": [
    "smo_hard_svm_predict=smo_hard_svm.predict(x)\n",
    "accuracy(y,smo_hard_svm_predict)"
   ]
  },
  {
   "cell_type": "code",
   "execution_count": 34,
   "metadata": {
    "ExecuteTime": {
     "end_time": "2023-11-23T13:26:57.003449Z",
     "start_time": "2023-11-23T13:26:56.987804Z"
    }
   },
   "outputs": [
    {
     "data": {
      "text/plain": [
       "0.953"
      ]
     },
     "execution_count": 34,
     "metadata": {},
     "output_type": "execute_result"
    }
   ],
   "source": [
    "svm1_predict=svm1.predict(x)\n",
    "accuracy(y,svm1_predict)"
   ]
  },
  {
   "cell_type": "code",
   "execution_count": 35,
   "metadata": {
    "ExecuteTime": {
     "end_time": "2023-11-23T13:26:57.019004Z",
     "start_time": "2023-11-23T13:26:57.003449Z"
    }
   },
   "outputs": [
    {
     "data": {
      "text/plain": [
       "0.954"
      ]
     },
     "execution_count": 35,
     "metadata": {},
     "output_type": "execute_result"
    }
   ],
   "source": [
    "svm2_predict=svm2.predict(x)\n",
    "accuracy(y,svm2_predict)"
   ]
  },
  {
   "cell_type": "code",
   "execution_count": 36,
   "metadata": {
    "ExecuteTime": {
     "end_time": "2023-11-23T13:26:57.466697Z",
     "start_time": "2023-11-23T13:26:57.019004Z"
    }
   },
   "outputs": [
    {
     "name": "stderr",
     "output_type": "stream",
     "text": [
      "C:\\Users\\86181\\AppData\\Roaming\\Python\\Python39\\site-packages\\sklearn\\utils\\validation.py:1143: DataConversionWarning: A column-vector y was passed when a 1d array was expected. Please change the shape of y to (n_samples, ), for example using ravel().\n",
      "  y = column_or_1d(y, warn=True)\n"
     ]
    },
    {
     "name": "stdout",
     "output_type": "stream",
     "text": [
      "Accuracy:  0.953\n"
     ]
    }
   ],
   "source": [
    "from sklearn import datasets  \n",
    "from sklearn import svm  \n",
    "from sklearn.model_selection import train_test_split  \n",
    "from sklearn.metrics import accuracy_score  \n",
    "  \n",
    "# 加载数据  \n",
    "  \n",
    "# 创建SVM分类器  \n",
    "clf = svm.SVC(kernel='linear')  # 你也可以试试其他的核函数，比如 'rbf'。  \n",
    "  \n",
    "# 训练模型  \n",
    "clf.fit(x, y)  \n",
    "  \n",
    "# 预测测试集  \n",
    "y_pred = clf.predict(x)  \n",
    "  \n",
    "# 计算准确率  \n",
    "print('Accuracy: ', accuracy_score(y, y_pred))"
   ]
  }
 ],
 "metadata": {
  "kernelspec": {
   "display_name": "Python 3 (ipykernel)",
   "language": "python",
   "name": "python3"
  },
  "language_info": {
   "codemirror_mode": {
    "name": "ipython",
    "version": 3
   },
   "file_extension": ".py",
   "mimetype": "text/x-python",
   "name": "python",
   "nbconvert_exporter": "python",
   "pygments_lexer": "ipython3",
   "version": "3.9.7"
  },
  "toc": {
   "base_numbering": 1,
   "nav_menu": {},
   "number_sections": true,
   "sideBar": true,
   "skip_h1_title": false,
   "title_cell": "Table of Contents",
   "title_sidebar": "Contents",
   "toc_cell": false,
   "toc_position": {},
   "toc_section_display": true,
   "toc_window_display": false
  }
 },
 "nbformat": 4,
 "nbformat_minor": 4
}
